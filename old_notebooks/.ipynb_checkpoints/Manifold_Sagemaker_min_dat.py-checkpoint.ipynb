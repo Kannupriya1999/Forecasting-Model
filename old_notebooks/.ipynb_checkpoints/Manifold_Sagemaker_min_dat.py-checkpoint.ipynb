{
 "cells": [
  {
   "cell_type": "markdown",
   "metadata": {
    "nbpresent": {
     "id": "42b5e80b-ad1d-4335-a1f7-10a91127e3dc"
    }
   },
   "source": [
    "# Time series forecasting with DeepAR\n",
    "DeepAR is a supervised learning algorithm for forecasting scalar time series. \n",
    "\n",
    "\n",
    "Let's start by specifying:\n",
    "\n",
    "- The S3 bucket and prefix that you want to use for training and model data.  This should be within the same region as the Notebook Instance, training, and hosting.\n",
    "- The IAM role arn used to give training and hosting access to your data. See the documentation for how to create these.  Note, if more than one role is required for notebook instances, training, and/or hosting, please replace the boto regexp with a the appropriate full IAM role arn string(s)."
   ]
  },
  {
   "cell_type": "code",
   "execution_count": 1,
   "metadata": {
    "isConfigCell": true
   },
   "outputs": [],
   "source": [
    "bucket = 'sagemaker-testtimeseries'\n",
    "prefix = 'sagemaker/test-moredat'\n",
    " \n",
    "# Define IAM role\n",
    "import sagemaker\n",
    "\n",
    "import sagemaker.predictor\n",
    "from sagemaker.predictor import csv_serializer, json_deserializer\n",
    "import boto3\n",
    "import  s3fs\n",
    "import re\n",
    "from sagemaker import get_execution_role\n",
    "import json\n",
    "import math\n",
    "from os import path\n",
    "import sagemaker.amazon.common as smac\n",
    "\n",
    "role = get_execution_role()\n"
   ]
  },
  {
   "cell_type": "markdown",
   "metadata": {
    "nbpresent": {
     "id": "b2548d66-6f8f-426f-9cda-7a3cd1459abd"
    }
   },
   "source": [
    "Now we'll import the Python libraries we'll need."
   ]
  },
  {
   "cell_type": "code",
   "execution_count": 2,
   "metadata": {
    "nbpresent": {
     "id": "bb88eea9-27f3-4e47-9133-663911ea09a9"
    }
   },
   "outputs": [],
   "source": [
    "import numpy as np\n",
    "import pandas as pd\n",
    "import matplotlib.pyplot as plt\n",
    "import io\n",
    "import os\n",
    "import time\n",
    "import json\n",
    "import glob"
   ]
  },
  {
   "cell_type": "code",
   "execution_count": 3,
   "metadata": {},
   "outputs": [],
   "source": [
    "sagemaker_session = sagemaker.Session()\n",
    "role = get_execution_role()\n",
    "region = boto3.Session().region_name\n",
    "smclient = boto3.Session().client('sagemaker')\n",
    "\n",
    "s3_data_path = \"{}/{}/data\".format(bucket, prefix)\n",
    "s3_output_path = \"{}/{}/output\".format(bucket, prefix)"
   ]
  },
  {
   "cell_type": "code",
   "execution_count": 4,
   "metadata": {},
   "outputs": [],
   "source": [
    "\n",
    "containers  = {\n",
    "    'us-west-2': '156387875391.dkr.ecr.us-west-2.amazonaws.com/forecasting-deepar:latest'\n",
    "}\n",
    "image_name = containers[boto3.Session().region_name]\n"
   ]
  },
  {
   "cell_type": "markdown",
   "metadata": {
    "nbpresent": {
     "id": "142777ae-c072-448e-b941-72bc75735d01"
    }
   },
   "source": [
    "---\n",
    "## Data\n",
    "\n",
    "Let's download the data.  More information about this dataset can be found [here](https://rdrr.io/github/robjhyndman/fpp/man/gasoline.html)."
   ]
  },
  {
   "cell_type": "code",
   "execution_count": 5,
   "metadata": {
    "nbpresent": {
     "id": "78105bc7-ce5d-4003-84f6-4dc5700c5945"
    }
   },
   "outputs": [],
   "source": [
    "#!wget http://gwa.ewi.tudelft.nl/fileadmin/pds/trace-archives/grid-workloads-archive/datasets/gwa-t-12/rnd.zip"
   ]
  },
  {
   "cell_type": "code",
   "execution_count": 6,
   "metadata": {},
   "outputs": [],
   "source": [
    "#import zipfile\n",
    "#with zipfile.ZipFile(\"rnd.zip\",\"r\") as zip_ref:\n",
    "#    zip_ref.extractall(\"targetdir\")"
   ]
  },
  {
   "cell_type": "markdown",
   "metadata": {
    "nbpresent": {
     "id": "b472326f-3584-4b61-aecc-04b35486a1ab"
    }
   },
   "source": [
    "And take a look at it."
   ]
  },
  {
   "cell_type": "markdown",
   "metadata": {},
   "source": [
    "# Read in Data\n",
    "\n",
    "### 111 ts files max (across 3 months), any more and notebook crashes (on my desktop)\n"
   ]
  },
  {
   "cell_type": "code",
   "execution_count": 7,
   "metadata": {},
   "outputs": [
    {
     "name": "stderr",
     "output_type": "stream",
     "text": [
      "/home/ec2-user/anaconda3/envs/python3/lib/python3.6/site-packages/ipykernel/__main__.py:3: ParserWarning: Falling back to the 'python' engine because the 'c' engine does not support regex separators (separators > 1 char and different from '\\s+' are interpreted as regex); you can avoid this warning by specifying engine='python'.\n",
      "  app.launch_new_instance()\n",
      "/home/ec2-user/anaconda3/envs/python3/lib/python3.6/site-packages/ipykernel/__main__.py:8: ParserWarning: Falling back to the 'python' engine because the 'c' engine does not support regex separators (separators > 1 char and different from '\\s+' are interpreted as regex); you can avoid this warning by specifying engine='python'.\n",
      "/home/ec2-user/anaconda3/envs/python3/lib/python3.6/site-packages/ipykernel/__main__.py:13: ParserWarning: Falling back to the 'python' engine because the 'c' engine does not support regex separators (separators > 1 char and different from '\\s+' are interpreted as regex); you can avoid this warning by specifying engine='python'.\n"
     ]
    }
   ],
   "source": [
    "files = glob.glob(os.path.join('targetdir/rnd/2013-7', \"1*.csv\"))\n",
    "files_first200 = files[:120]\n",
    "dfs = [pd.read_csv(fp, sep = ';\\t').assign(VM=os.path.basename(fp).split('.')[0]) for fp in files]\n",
    "df = pd.concat(dfs, ignore_index=True)\n",
    "\n",
    "files2 = glob.glob(os.path.join('targetdir/rnd/2013-8', \"1*.csv\"))\n",
    "files2_first200 = files2[:120]\n",
    "dfs2 = [pd.read_csv(fp, sep = ';\\t').assign(VM=os.path.basename(fp).split('.')[0]) for fp in files2]\n",
    "df2 = pd.concat(dfs2, ignore_index=True)\n",
    "\n",
    "files3 = glob.glob(os.path.join('targetdir/rnd/2013-9', \"1*.csv\"))\n",
    "files3_first200 = files3[:120]\n",
    "dfs3 = [pd.read_csv(fp, sep = ';\\t').assign(VM=os.path.basename(fp).split('.')[0]) for fp in files3]\n",
    "df3 = pd.concat(dfs3, ignore_index=True)"
   ]
  },
  {
   "cell_type": "markdown",
   "metadata": {},
   "source": [
    "## Data Wrangling"
   ]
  },
  {
   "cell_type": "code",
   "execution_count": 8,
   "metadata": {},
   "outputs": [],
   "source": [
    "newdat = df.append(df2)\n",
    "newerdat = newdat.append(df3)\n",
    "concatenated_df = newerdat"
   ]
  },
  {
   "cell_type": "code",
   "execution_count": 9,
   "metadata": {},
   "outputs": [
    {
     "data": {
      "text/html": [
       "<div>\n",
       "<style scoped>\n",
       "    .dataframe tbody tr th:only-of-type {\n",
       "        vertical-align: middle;\n",
       "    }\n",
       "\n",
       "    .dataframe tbody tr th {\n",
       "        vertical-align: top;\n",
       "    }\n",
       "\n",
       "    .dataframe thead th {\n",
       "        text-align: right;\n",
       "    }\n",
       "</style>\n",
       "<table border=\"1\" class=\"dataframe\">\n",
       "  <thead>\n",
       "    <tr style=\"text-align: right;\">\n",
       "      <th></th>\n",
       "      <th>Timestamp [ms]</th>\n",
       "      <th>CPU cores</th>\n",
       "      <th>CPU capacity provisioned [MHZ]</th>\n",
       "      <th>CPU usage [MHZ]</th>\n",
       "      <th>CPU usage [%]</th>\n",
       "      <th>Memory capacity provisioned [KB]</th>\n",
       "      <th>Memory usage [KB]</th>\n",
       "      <th>Disk read throughput [KB/s]</th>\n",
       "      <th>Disk write throughput [KB/s]</th>\n",
       "      <th>Network received throughput [KB/s]</th>\n",
       "      <th>Network transmitted throughput [KB/s]</th>\n",
       "      <th>VM</th>\n",
       "    </tr>\n",
       "  </thead>\n",
       "  <tbody>\n",
       "    <tr>\n",
       "      <th>0</th>\n",
       "      <td>1372629804</td>\n",
       "      <td>1</td>\n",
       "      <td>2599.999398</td>\n",
       "      <td>41.599990</td>\n",
       "      <td>1.600000</td>\n",
       "      <td>2097152.0</td>\n",
       "      <td>260044.800000</td>\n",
       "      <td>0.400000</td>\n",
       "      <td>7.8</td>\n",
       "      <td>1.666667</td>\n",
       "      <td>7.400000</td>\n",
       "      <td>13</td>\n",
       "    </tr>\n",
       "    <tr>\n",
       "      <th>1</th>\n",
       "      <td>1372630104</td>\n",
       "      <td>1</td>\n",
       "      <td>2599.999398</td>\n",
       "      <td>36.399992</td>\n",
       "      <td>1.400000</td>\n",
       "      <td>2097152.0</td>\n",
       "      <td>281016.800000</td>\n",
       "      <td>0.133333</td>\n",
       "      <td>10.0</td>\n",
       "      <td>1.000000</td>\n",
       "      <td>2.000000</td>\n",
       "      <td>13</td>\n",
       "    </tr>\n",
       "    <tr>\n",
       "      <th>2</th>\n",
       "      <td>1372630404</td>\n",
       "      <td>1</td>\n",
       "      <td>2599.999398</td>\n",
       "      <td>25.999994</td>\n",
       "      <td>1.000000</td>\n",
       "      <td>2097152.0</td>\n",
       "      <td>209712.000000</td>\n",
       "      <td>0.200000</td>\n",
       "      <td>7.4</td>\n",
       "      <td>1.000000</td>\n",
       "      <td>1.466667</td>\n",
       "      <td>13</td>\n",
       "    </tr>\n",
       "    <tr>\n",
       "      <th>3</th>\n",
       "      <td>1372630704</td>\n",
       "      <td>1</td>\n",
       "      <td>2599.999398</td>\n",
       "      <td>31.199993</td>\n",
       "      <td>1.200000</td>\n",
       "      <td>2097152.0</td>\n",
       "      <td>209712.000000</td>\n",
       "      <td>0.066667</td>\n",
       "      <td>6.8</td>\n",
       "      <td>1.000000</td>\n",
       "      <td>1.400000</td>\n",
       "      <td>13</td>\n",
       "    </tr>\n",
       "    <tr>\n",
       "      <th>4</th>\n",
       "      <td>1372631004</td>\n",
       "      <td>1</td>\n",
       "      <td>2599.999398</td>\n",
       "      <td>29.466660</td>\n",
       "      <td>1.133333</td>\n",
       "      <td>2097152.0</td>\n",
       "      <td>254453.066667</td>\n",
       "      <td>0.133333</td>\n",
       "      <td>7.0</td>\n",
       "      <td>1.000000</td>\n",
       "      <td>1.466667</td>\n",
       "      <td>13</td>\n",
       "    </tr>\n",
       "  </tbody>\n",
       "</table>\n",
       "</div>"
      ],
      "text/plain": [
       "   Timestamp [ms]  CPU cores  CPU capacity provisioned [MHZ]  CPU usage [MHZ]  \\\n",
       "0      1372629804          1                     2599.999398        41.599990   \n",
       "1      1372630104          1                     2599.999398        36.399992   \n",
       "2      1372630404          1                     2599.999398        25.999994   \n",
       "3      1372630704          1                     2599.999398        31.199993   \n",
       "4      1372631004          1                     2599.999398        29.466660   \n",
       "\n",
       "   CPU usage [%]  Memory capacity provisioned [KB]  Memory usage [KB]  \\\n",
       "0       1.600000                         2097152.0      260044.800000   \n",
       "1       1.400000                         2097152.0      281016.800000   \n",
       "2       1.000000                         2097152.0      209712.000000   \n",
       "3       1.200000                         2097152.0      209712.000000   \n",
       "4       1.133333                         2097152.0      254453.066667   \n",
       "\n",
       "   Disk read throughput [KB/s]  Disk write throughput [KB/s]  \\\n",
       "0                     0.400000                           7.8   \n",
       "1                     0.133333                          10.0   \n",
       "2                     0.200000                           7.4   \n",
       "3                     0.066667                           6.8   \n",
       "4                     0.133333                           7.0   \n",
       "\n",
       "   Network received throughput [KB/s]  Network transmitted throughput [KB/s]  \\\n",
       "0                            1.666667                               7.400000   \n",
       "1                            1.000000                               2.000000   \n",
       "2                            1.000000                               1.466667   \n",
       "3                            1.000000                               1.400000   \n",
       "4                            1.000000                               1.466667   \n",
       "\n",
       "   VM  \n",
       "0  13  \n",
       "1  13  \n",
       "2  13  \n",
       "3  13  \n",
       "4  13  "
      ]
     },
     "execution_count": 9,
     "metadata": {},
     "output_type": "execute_result"
    }
   ],
   "source": [
    "concatenated_df.head()"
   ]
  },
  {
   "cell_type": "code",
   "execution_count": 10,
   "metadata": {},
   "outputs": [
    {
     "data": {
      "text/html": [
       "<div>\n",
       "<style scoped>\n",
       "    .dataframe tbody tr th:only-of-type {\n",
       "        vertical-align: middle;\n",
       "    }\n",
       "\n",
       "    .dataframe tbody tr th {\n",
       "        vertical-align: top;\n",
       "    }\n",
       "\n",
       "    .dataframe thead th {\n",
       "        text-align: right;\n",
       "    }\n",
       "</style>\n",
       "<table border=\"1\" class=\"dataframe\">\n",
       "  <thead>\n",
       "    <tr style=\"text-align: right;\">\n",
       "      <th></th>\n",
       "      <th>Timestamp [ms]</th>\n",
       "      <th>CPU cores</th>\n",
       "      <th>CPU capacity provisioned [MHZ]</th>\n",
       "      <th>CPU usage [MHZ]</th>\n",
       "      <th>CPU usage [%]</th>\n",
       "      <th>Memory capacity provisioned [KB]</th>\n",
       "      <th>Memory usage [KB]</th>\n",
       "      <th>Disk read throughput [KB/s]</th>\n",
       "      <th>Disk write throughput [KB/s]</th>\n",
       "      <th>Network received throughput [KB/s]</th>\n",
       "      <th>Network transmitted throughput [KB/s]</th>\n",
       "      <th>VM</th>\n",
       "    </tr>\n",
       "  </thead>\n",
       "  <tbody>\n",
       "    <tr>\n",
       "      <th>926201</th>\n",
       "      <td>1380491363</td>\n",
       "      <td>4</td>\n",
       "      <td>11703.997296</td>\n",
       "      <td>150.201299</td>\n",
       "      <td>1.283333</td>\n",
       "      <td>16703488.0</td>\n",
       "      <td>167772.0</td>\n",
       "      <td>0.0</td>\n",
       "      <td>0.066667</td>\n",
       "      <td>0.0</td>\n",
       "      <td>0.0</td>\n",
       "      <td>106</td>\n",
       "    </tr>\n",
       "    <tr>\n",
       "      <th>926202</th>\n",
       "      <td>1380491630</td>\n",
       "      <td>4</td>\n",
       "      <td>11703.997296</td>\n",
       "      <td>197.017288</td>\n",
       "      <td>1.683333</td>\n",
       "      <td>16703488.0</td>\n",
       "      <td>100663.2</td>\n",
       "      <td>0.0</td>\n",
       "      <td>1.666667</td>\n",
       "      <td>0.0</td>\n",
       "      <td>0.0</td>\n",
       "      <td>106</td>\n",
       "    </tr>\n",
       "    <tr>\n",
       "      <th>926203</th>\n",
       "      <td>1380491663</td>\n",
       "      <td>4</td>\n",
       "      <td>11703.997296</td>\n",
       "      <td>197.017288</td>\n",
       "      <td>1.683333</td>\n",
       "      <td>16703488.0</td>\n",
       "      <td>100663.2</td>\n",
       "      <td>0.0</td>\n",
       "      <td>1.666667</td>\n",
       "      <td>0.0</td>\n",
       "      <td>0.0</td>\n",
       "      <td>106</td>\n",
       "    </tr>\n",
       "    <tr>\n",
       "      <th>926204</th>\n",
       "      <td>1380491930</td>\n",
       "      <td>4</td>\n",
       "      <td>11703.997296</td>\n",
       "      <td>146.299966</td>\n",
       "      <td>1.250000</td>\n",
       "      <td>16703488.0</td>\n",
       "      <td>111848.0</td>\n",
       "      <td>0.0</td>\n",
       "      <td>0.000000</td>\n",
       "      <td>0.0</td>\n",
       "      <td>0.0</td>\n",
       "      <td>106</td>\n",
       "    </tr>\n",
       "    <tr>\n",
       "      <th>926205</th>\n",
       "      <td>1380491963</td>\n",
       "      <td>4</td>\n",
       "      <td>11703.997296</td>\n",
       "      <td>146.299966</td>\n",
       "      <td>1.250000</td>\n",
       "      <td>16703488.0</td>\n",
       "      <td>111848.0</td>\n",
       "      <td>0.0</td>\n",
       "      <td>0.000000</td>\n",
       "      <td>0.0</td>\n",
       "      <td>0.0</td>\n",
       "      <td>106</td>\n",
       "    </tr>\n",
       "  </tbody>\n",
       "</table>\n",
       "</div>"
      ],
      "text/plain": [
       "        Timestamp [ms]  CPU cores  CPU capacity provisioned [MHZ]  \\\n",
       "926201      1380491363          4                    11703.997296   \n",
       "926202      1380491630          4                    11703.997296   \n",
       "926203      1380491663          4                    11703.997296   \n",
       "926204      1380491930          4                    11703.997296   \n",
       "926205      1380491963          4                    11703.997296   \n",
       "\n",
       "        CPU usage [MHZ]  CPU usage [%]  Memory capacity provisioned [KB]  \\\n",
       "926201       150.201299       1.283333                        16703488.0   \n",
       "926202       197.017288       1.683333                        16703488.0   \n",
       "926203       197.017288       1.683333                        16703488.0   \n",
       "926204       146.299966       1.250000                        16703488.0   \n",
       "926205       146.299966       1.250000                        16703488.0   \n",
       "\n",
       "        Memory usage [KB]  Disk read throughput [KB/s]  \\\n",
       "926201           167772.0                          0.0   \n",
       "926202           100663.2                          0.0   \n",
       "926203           100663.2                          0.0   \n",
       "926204           111848.0                          0.0   \n",
       "926205           111848.0                          0.0   \n",
       "\n",
       "        Disk write throughput [KB/s]  Network received throughput [KB/s]  \\\n",
       "926201                      0.066667                                 0.0   \n",
       "926202                      1.666667                                 0.0   \n",
       "926203                      1.666667                                 0.0   \n",
       "926204                      0.000000                                 0.0   \n",
       "926205                      0.000000                                 0.0   \n",
       "\n",
       "        Network transmitted throughput [KB/s]   VM  \n",
       "926201                                    0.0  106  \n",
       "926202                                    0.0  106  \n",
       "926203                                    0.0  106  \n",
       "926204                                    0.0  106  \n",
       "926205                                    0.0  106  "
      ]
     },
     "execution_count": 10,
     "metadata": {},
     "output_type": "execute_result"
    }
   ],
   "source": [
    "concatenated_df.tail()"
   ]
  },
  {
   "cell_type": "code",
   "execution_count": 11,
   "metadata": {},
   "outputs": [],
   "source": [
    "concatenated_df['Timestamp'] = pd.to_datetime(concatenated_df['Timestamp [ms]'], unit = 's')\n",
    "#concatenated_df.apply(pd.to_numeric, errors='ignore')\n",
    "concatenated_df.describe()\n",
    "concatenated_df['weekday'] = concatenated_df['Timestamp'].dt.dayofweek\n",
    "\n",
    "\n",
    "concatenated_df['weekend'] = ((concatenated_df.weekday) // 5 == 1).astype(float)\n",
    "# Feature engineering with the date\n",
    "concatenated_df['month']=concatenated_df.Timestamp.dt.month \n",
    "concatenated_df['day']=concatenated_df.Timestamp.dt.day\n",
    "concatenated_df.set_index('Timestamp',inplace=True)\n",
    "concatenated_df[\"CPU usage prev\"] = concatenated_df['CPU usage [%]'].shift(1)\n",
    "concatenated_df[\"CPU_diff\"] = concatenated_df['CPU usage [%]'] - concatenated_df[\"CPU usage prev\"]\n",
    "concatenated_df[\"received_prev\"] = concatenated_df['Network received throughput [KB/s]'].shift(1)\n",
    "concatenated_df[\"received_diff\"] = concatenated_df['Network received throughput [KB/s]']- concatenated_df[\"received_prev\"]\n",
    "\n",
    "concatenated_df[\"transmitted_prev\"] = concatenated_df['Network transmitted throughput [KB/s]'].shift(1)\n",
    "concatenated_df[\"transmitted_diff\"] = concatenated_df['Network transmitted throughput [KB/s]']- concatenated_df[\"transmitted_prev\"]"
   ]
  },
  {
   "cell_type": "code",
   "execution_count": 12,
   "metadata": {},
   "outputs": [],
   "source": [
    "concatenated_df[\"start\"] = concatenated_df.index\n",
    "concatenated_df['target'] = concatenated_df['CPU usage [MHZ]']"
   ]
  },
  {
   "cell_type": "code",
   "execution_count": 13,
   "metadata": {},
   "outputs": [],
   "source": [
    "\n",
    "result = pd.concat([concatenated_df['VM'],concatenated_df['start'], concatenated_df['target']], axis=1)\n",
    "result = result.reset_index()\n",
    "#result.set_index('start',inplace=True)\n",
    "\n",
    "result.set_index(['start', 'VM'],inplace=True)\n",
    "result.drop('Timestamp', axis=1, inplace=True)\n"
   ]
  },
  {
   "cell_type": "code",
   "execution_count": 14,
   "metadata": {},
   "outputs": [
    {
     "name": "stderr",
     "output_type": "stream",
     "text": [
      "/home/ec2-user/anaconda3/envs/python3/lib/python3.6/site-packages/pandas/core/groupby/groupby.py:1502: FutureWarning: how in .resample() is deprecated\n",
      "the new syntax is .resample(...)..apply(<func>)\n",
      "  return get_resampler_for_grouping(self, rule, *args, **kwargs)\n"
     ]
    }
   ],
   "source": [
    "df = concatenated_df.groupby('VM').resample('1min', how={'target':np.mean})"
   ]
  },
  {
   "cell_type": "code",
   "execution_count": 15,
   "metadata": {},
   "outputs": [],
   "source": [
    "df.reset_index(level=0, inplace=True)"
   ]
  },
  {
   "cell_type": "code",
   "execution_count": 16,
   "metadata": {},
   "outputs": [],
   "source": [
    "#df['Timestamp'] = df['Timestamp'].dt.strftime('%m/%d/%Y %H:%M:%S')"
   ]
  },
  {
   "cell_type": "code",
   "execution_count": 17,
   "metadata": {},
   "outputs": [],
   "source": [
    "df = df.fillna(method='ffill')"
   ]
  },
  {
   "cell_type": "code",
   "execution_count": 18,
   "metadata": {},
   "outputs": [],
   "source": [
    "freq = \"1min\"\n",
    "context_length = 50\n",
    "prediction_length = 50"
   ]
  },
  {
   "cell_type": "code",
   "execution_count": 19,
   "metadata": {},
   "outputs": [],
   "source": [
    "dftrain = df[:-(prediction_length)]"
   ]
  },
  {
   "cell_type": "markdown",
   "metadata": {},
   "source": [
    "## Format data into json "
   ]
  },
  {
   "cell_type": "code",
   "execution_count": 20,
   "metadata": {},
   "outputs": [],
   "source": [
    "def series_to_obj(ts, cat=None):\n",
    "    obj = {\"start\": str(ts.index[0]), \"target\": list(ts)}\n",
    "    if cat is not None:\n",
    "        obj[\"cat\"] = cat\n",
    "    return obj\n",
    "\n",
    "def series_to_jsonline(ts, cat=None):\n",
    "    return json.dumps(series_to_obj(ts, cat))"
   ]
  },
  {
   "cell_type": "code",
   "execution_count": 21,
   "metadata": {},
   "outputs": [],
   "source": [
    "time_series_test=[]\n",
    "vm_index_range = df['VM'].unique()\n",
    "for i in vm_index_range:\n",
    "    newseries = df[df['VM'] == i]['target']\n",
    "    del newseries.index.name\n",
    "    newseries.index = pd.to_datetime(newseries.index)\n",
    "    time_series_test.append(newseries)\n",
    "    #time_series_test = time_series_test.fillna(0)\n"
   ]
  },
  {
   "cell_type": "code",
   "execution_count": 22,
   "metadata": {},
   "outputs": [],
   "source": [
    "time_series_training=[]\n",
    "vm_index_range = df['VM'].unique()\n",
    "for i in vm_index_range:\n",
    "    newseries = df[df['VM'] == i]['target']\n",
    "    del newseries.index.name\n",
    "    newseries.index = pd.to_datetime(newseries.index)\n",
    "    time_series_training.append(newseries[:-prediction_length])\n",
    "    #time_series_training = time_series_training.fillna(0)\n",
    "    \n"
   ]
  },
  {
   "cell_type": "markdown",
   "metadata": {},
   "source": [
    "## Push the json files to S3 bucket"
   ]
  },
  {
   "cell_type": "code",
   "execution_count": 23,
   "metadata": {},
   "outputs": [],
   "source": [
    "s3filesystem = s3fs.S3FileSystem()"
   ]
  },
  {
   "cell_type": "code",
   "execution_count": 24,
   "metadata": {},
   "outputs": [],
   "source": [
    "encoding = \"utf-8\"\n",
    "\n",
    "with s3filesystem.open(s3_data_path + \"/test/test_data.json\", 'wb') as fp:\n",
    "    for ts in time_series_test:\n",
    "        fp.write(series_to_jsonline(ts).encode(encoding))\n",
    "        fp.write('\\n'.encode(encoding)) "
   ]
  },
  {
   "cell_type": "code",
   "execution_count": 25,
   "metadata": {},
   "outputs": [],
   "source": [
    "with s3filesystem.open(s3_data_path + \"/train/train_data.json\", 'wb') as fp:\n",
    "    for ts in time_series_training:\n",
    "        fp.write(series_to_jsonline(ts).encode(encoding))\n",
    "        fp.write('\\n'.encode(encoding)) "
   ]
  },
  {
   "cell_type": "code",
   "execution_count": 26,
   "metadata": {},
   "outputs": [],
   "source": [
    "estimator = sagemaker.estimator.Estimator(\n",
    "    sagemaker_session=sagemaker_session,\n",
    "    image_name=image_name,\n",
    "    role=role,\n",
    "    train_instance_count=1,\n",
    "    train_instance_type='ml.c4.xlarge',\n",
    "    base_job_name='test-demo-deepar',\n",
    "    output_path=\"s3://\" + s3_output_path\n",
    ")"
   ]
  },
  {
   "cell_type": "markdown",
   "metadata": {},
   "source": [
    "## Set hyperparameters"
   ]
  },
  {
   "cell_type": "code",
   "execution_count": 27,
   "metadata": {},
   "outputs": [],
   "source": [
    "# sagemaker automatically adds lags, so context length can be shorter than seasons"
   ]
  },
  {
   "cell_type": "code",
   "execution_count": 28,
   "metadata": {},
   "outputs": [],
   "source": [
    "hyperparameters  = {\n",
    "    \"time_freq\": freq,\n",
    "    \"context_length\": context_length,\n",
    "    \"prediction_length\": prediction_length,\n",
    "    \"num_cells\": \"40\",\n",
    "    \"num_layers\": \"2\",\n",
    "    \"likelihood\": \"student-t\",\n",
    "    \"epochs\": \"20\",\n",
    "    \"mini_batch_size\": \"32\",\n",
    "    \"learning_rate\": \"0.001\",\n",
    "    \"dropout_rate\": \"0.05\",\n",
    "    \"early_stopping_patience\": \"10\"\n",
    "}"
   ]
  },
  {
   "cell_type": "code",
   "execution_count": 29,
   "metadata": {},
   "outputs": [],
   "source": [
    "estimator.set_hyperparameters(**hyperparameters)"
   ]
  },
  {
   "cell_type": "markdown",
   "metadata": {},
   "source": [
    "## Train model"
   ]
  },
  {
   "cell_type": "code",
   "execution_count": 30,
   "metadata": {},
   "outputs": [
    {
     "name": "stderr",
     "output_type": "stream",
     "text": [
      "INFO:sagemaker:Creating training-job with name: test-demo-deepar-2018-06-22-14-43-26-968\n"
     ]
    },
    {
     "name": "stdout",
     "output_type": "stream",
     "text": [
      "....................\n",
      "\u001b[31mArguments: train\u001b[0m\n",
      "\u001b[31m[06/22/2018 14:46:39 INFO 140433059022656] Reading default configuration from /opt/amazon/lib/python2.7/site-packages/algorithm/default-input.json: {u'dropout_rate': u'0.10', u'cardinality': u'', u'test_quantiles': u'[0.1, 0.2, 0.3, 0.4, 0.5, 0.6, 0.7, 0.8, 0.9]', u'_tuning_objective_metric': u'', u'_num_gpus': u'auto', u'learning_rate': u'0.001', u'num_cells': u'40', u'num_layers': u'2', u'embedding_dimension': u'', u'_kvstore': u'auto', u'_num_kv_servers': u'auto', u'mini_batch_size': u'32', u'likelihood': u'student-t', u'early_stopping_patience': u''}\u001b[0m\n",
      "\u001b[31m[06/22/2018 14:46:39 INFO 140433059022656] Reading provided configuration from /opt/ml/input/config/hyperparameters.json: {u'dropout_rate': u'0.05', u'learning_rate': u'0.001', u'num_cells': u'40', u'prediction_length': u'50', u'epochs': u'20', u'time_freq': u'1min', u'context_length': u'50', u'num_layers': u'2', u'mini_batch_size': u'32', u'likelihood': u'student-t', u'early_stopping_patience': u'10'}\u001b[0m\n",
      "\u001b[31m[06/22/2018 14:46:39 INFO 140433059022656] Final configuration: {u'dropout_rate': u'0.05', u'test_quantiles': u'[0.1, 0.2, 0.3, 0.4, 0.5, 0.6, 0.7, 0.8, 0.9]', u'_tuning_objective_metric': u'', u'learning_rate': u'0.001', u'num_layers': u'2', u'epochs': u'20', u'embedding_dimension': u'', u'num_cells': u'40', u'_num_kv_servers': u'auto', u'cardinality': u'', u'likelihood': u'student-t', u'mini_batch_size': u'32', u'_num_gpus': u'auto', u'prediction_length': u'50', u'time_freq': u'1min', u'context_length': u'50', u'_kvstore': u'auto', u'early_stopping_patience': u'10'}\u001b[0m\n",
      "\u001b[31m[06/22/2018 14:46:39 INFO 140433059022656] Detected entry point for worker worker\u001b[0m\n",
      "\u001b[31m[06/22/2018 14:46:39 INFO 140433059022656] nvidia-smi took: 0.0251669883728 secs to identify 0 gpus\u001b[0m\n",
      "\u001b[31m[06/22/2018 14:46:39 INFO 140433059022656] Number of GPUs being used: 0\u001b[0m\n",
      "\u001b[31m[06/22/2018 14:46:40 INFO 140433059022656] Training set statistics:\u001b[0m\n",
      "\u001b[31m[06/22/2018 14:46:40 INFO 140433059022656] Real timeseries\u001b[0m\n",
      "\u001b[31m[06/22/2018 14:46:40 INFO 140433059022656] number of timeseries: 111\u001b[0m\n",
      "\u001b[31m[06/22/2018 14:46:40 INFO 140433059022656] number of observations: 13316715\u001b[0m\n",
      "\u001b[31m[06/22/2018 14:46:40 INFO 140433059022656] mean target length: 119970\u001b[0m\n",
      "\u001b[31m[06/22/2018 14:46:40 INFO 140433059022656] min/mean/max target: 0.0/376.707365761/11454.3125\u001b[0m\n",
      "\u001b[31m[06/22/2018 14:46:40 INFO 140433059022656] mean abs(target): 376.707365761\u001b[0m\n",
      "\u001b[31m[06/22/2018 14:46:40 INFO 140433059022656] Small number of time-series. Doing 3 number of passes over dataset per epoch.\u001b[0m\n",
      "\u001b[31m[06/22/2018 14:46:41 INFO 140433059022656] Test set statistics:\u001b[0m\n",
      "\u001b[31m[06/22/2018 14:46:41 INFO 140433059022656] Real timeseries\u001b[0m\n",
      "\u001b[31m[06/22/2018 14:46:41 INFO 140433059022656] number of timeseries: 111\u001b[0m\n",
      "\u001b[31m[06/22/2018 14:46:41 INFO 140433059022656] number of observations: 13322265\u001b[0m\n",
      "\u001b[31m[06/22/2018 14:46:41 INFO 140433059022656] mean target length: 120020\u001b[0m\n",
      "\u001b[31m[06/22/2018 14:46:41 INFO 140433059022656] min/mean/max target: 0.0/376.60888636/11454.3125\u001b[0m\n",
      "\u001b[31m[06/22/2018 14:46:41 INFO 140433059022656] mean abs(target): 376.60888636\u001b[0m\n",
      "\u001b[31m[06/22/2018 14:46:41 INFO 140433059022656] Create Store: local\u001b[0m\n",
      "\u001b[31m#metrics {\"Metrics\": {\"get_graph.time\": {\"count\": 1, \"max\": 271.38280868530273, \"sum\": 271.38280868530273, \"min\": 271.38280868530273}}, \"EndTime\": 1529678801.70339, \"Dimensions\": {\"Host\": \"algo-1\", \"Operation\": \"training\", \"Algorithm\": \"AWS/DeepAR\"}, \"StartTime\": 1529678801.429899}\n",
      "\u001b[0m\n",
      "\u001b[31m[06/22/2018 14:46:41 INFO 140433059022656] Number of GPUs being used: 0\u001b[0m\n",
      "\u001b[31m#metrics {\"Metrics\": {\"initialize.time\": {\"count\": 1, \"max\": 622.5829124450684, \"sum\": 622.5829124450684, \"min\": 622.5829124450684}}, \"EndTime\": 1529678802.052552, \"Dimensions\": {\"Host\": \"algo-1\", \"Operation\": \"training\", \"Algorithm\": \"AWS/DeepAR\"}, \"StartTime\": 1529678801.703463}\n",
      "\u001b[0m\n",
      "\u001b[31m[06/22/2018 14:46:42 INFO 140433059022656] Using early stopping with patience 10\u001b[0m\n",
      "\u001b[31m[06/22/2018 14:46:42 INFO 140433059022656] Epoch[0] Batch[0] avg_epoch_loss=7.442823\u001b[0m\n",
      "\u001b[31m[06/22/2018 14:46:45 INFO 140433059022656] Epoch[0] Batch[5] avg_epoch_loss=6.425476\u001b[0m\n",
      "\u001b[31m[06/22/2018 14:46:45 INFO 140433059022656] Epoch[0] Batch [5]#011Speed: 69.18 samples/sec#011loss=6.425476\u001b[0m\n",
      "\u001b[31m[06/22/2018 14:46:46 INFO 140433059022656] Epoch[0] Batch[10] avg_epoch_loss=6.120906\u001b[0m\n",
      "\u001b[31m[06/22/2018 14:46:46 INFO 140433059022656] Epoch[0] Batch [10]#011Speed: 83.90 samples/sec#011loss=5.755422\u001b[0m\n",
      "\u001b[31m[06/22/2018 14:46:47 INFO 140433059022656] processed a total of 367 examples\u001b[0m\n",
      "\u001b[31m#metrics {\"Metrics\": {\"epochs\": {\"count\": 1, \"max\": 20, \"sum\": 20.0, \"min\": 20}, \"update.time\": {\"count\": 1, \"max\": 5149.480819702148, \"sum\": 5149.480819702148, \"min\": 5149.480819702148}}, \"EndTime\": 1529678807.218306, \"Dimensions\": {\"Host\": \"algo-1\", \"Operation\": \"training\", \"Algorithm\": \"AWS/DeepAR\"}, \"StartTime\": 1529678802.052619}\n",
      "\u001b[0m\n",
      "\u001b[31m[06/22/2018 14:46:47 INFO 140433059022656] #throughput_metric: host=algo-1, train throughput=71.2675619881 records/second\u001b[0m\n",
      "\u001b[31m[06/22/2018 14:46:47 INFO 140433059022656] #progress_metric: host=algo-1, completed 5 % of epochs\u001b[0m\n",
      "\u001b[31m[06/22/2018 14:46:47 INFO 140433059022656] best epoch loss so far\u001b[0m\n",
      "\u001b[31m[06/22/2018 14:46:47 INFO 140433059022656] Saved checkpoint to \"/opt/ml/model/state_3af6077a-2982-404b-8766-74d09730ffaf-0000.params\"\u001b[0m\n",
      "\u001b[31m#metrics {\"Metrics\": {\"state.serialize.time\": {\"count\": 1, \"max\": 33.23197364807129, \"sum\": 33.23197364807129, \"min\": 33.23197364807129}}, \"EndTime\": 1529678807.252041, \"Dimensions\": {\"Host\": \"algo-1\", \"Operation\": \"training\", \"Algorithm\": \"AWS/DeepAR\"}, \"StartTime\": 1529678807.218393}\n",
      "\u001b[0m\n",
      "\u001b[31m[06/22/2018 14:46:47 INFO 140433059022656] Epoch[1] Batch[0] avg_epoch_loss=5.859560\u001b[0m\n",
      "\u001b[31m[06/22/2018 14:46:50 INFO 140433059022656] Epoch[1] Batch[5] avg_epoch_loss=5.537754\u001b[0m\n",
      "\u001b[31m[06/22/2018 14:46:50 INFO 140433059022656] Epoch[1] Batch [5]#011Speed: 72.05 samples/sec#011loss=5.537754\u001b[0m\n",
      "\u001b[31m[06/22/2018 14:46:52 INFO 140433059022656] Epoch[1] Batch[10] avg_epoch_loss=5.360691\u001b[0m\n",
      "\u001b[31m[06/22/2018 14:46:52 INFO 140433059022656] Epoch[1] Batch [10]#011Speed: 79.31 samples/sec#011loss=5.148215\u001b[0m\n",
      "\u001b[31m[06/22/2018 14:46:52 INFO 140433059022656] processed a total of 330 examples\u001b[0m\n",
      "\u001b[31m#metrics {\"Metrics\": {\"update.time\": {\"count\": 1, \"max\": 4763.2410526275635, \"sum\": 4763.2410526275635, \"min\": 4763.2410526275635}}, \"EndTime\": 1529678812.030631, \"Dimensions\": {\"Host\": \"algo-1\", \"Operation\": \"training\", \"Algorithm\": \"AWS/DeepAR\"}, \"StartTime\": 1529678807.252104}\n",
      "\u001b[0m\n",
      "\u001b[31m[06/22/2018 14:46:52 INFO 140433059022656] #throughput_metric: host=algo-1, train throughput=69.2790499745 records/second\u001b[0m\n",
      "\u001b[31m[06/22/2018 14:46:52 INFO 140433059022656] #progress_metric: host=algo-1, completed 10 % of epochs\u001b[0m\n",
      "\u001b[31m[06/22/2018 14:46:52 INFO 140433059022656] best epoch loss so far\u001b[0m\n",
      "\u001b[31m[06/22/2018 14:46:52 INFO 140433059022656] Saved checkpoint to \"/opt/ml/model/state_4ba3b58f-2d99-4721-aa8e-5d0d1e7a8e0e-0000.params\"\u001b[0m\n",
      "\u001b[31m#metrics {\"Metrics\": {\"state.serialize.time\": {\"count\": 1, \"max\": 33.36191177368164, \"sum\": 33.36191177368164, \"min\": 33.36191177368164}}, \"EndTime\": 1529678812.06447, \"Dimensions\": {\"Host\": \"algo-1\", \"Operation\": \"training\", \"Algorithm\": \"AWS/DeepAR\"}, \"StartTime\": 1529678812.030701}\n",
      "\u001b[0m\n",
      "\u001b[31m[06/22/2018 14:46:52 INFO 140433059022656] Epoch[2] Batch[0] avg_epoch_loss=4.683553\u001b[0m\n",
      "\u001b[31m[06/22/2018 14:46:54 INFO 140433059022656] Epoch[2] Batch[5] avg_epoch_loss=4.603684\u001b[0m\n",
      "\u001b[31m[06/22/2018 14:46:54 INFO 140433059022656] Epoch[2] Batch [5]#011Speed: 75.39 samples/sec#011loss=4.603684\u001b[0m\n",
      "\u001b[31m[06/22/2018 14:46:56 INFO 140433059022656] Epoch[2] Batch[10] avg_epoch_loss=4.566554\u001b[0m\n",
      "\u001b[31m[06/22/2018 14:46:56 INFO 140433059022656] Epoch[2] Batch [10]#011Speed: 77.06 samples/sec#011loss=4.521997\u001b[0m\n",
      "\u001b[31m[06/22/2018 14:46:56 INFO 140433059022656] processed a total of 334 examples\u001b[0m\n",
      "\u001b[31m#metrics {\"Metrics\": {\"update.time\": {\"count\": 1, \"max\": 4681.018114089966, \"sum\": 4681.018114089966, \"min\": 4681.018114089966}}, \"EndTime\": 1529678816.760871, \"Dimensions\": {\"Host\": \"algo-1\", \"Operation\": \"training\", \"Algorithm\": \"AWS/DeepAR\"}, \"StartTime\": 1529678812.064528}\n",
      "\u001b[0m\n",
      "\u001b[31m[06/22/2018 14:46:56 INFO 140433059022656] #throughput_metric: host=algo-1, train throughput=71.3503418981 records/second\u001b[0m\n",
      "\u001b[31m[06/22/2018 14:46:56 INFO 140433059022656] #progress_metric: host=algo-1, completed 15 % of epochs\u001b[0m\n",
      "\u001b[31m[06/22/2018 14:46:56 INFO 140433059022656] best epoch loss so far\u001b[0m\n",
      "\u001b[31m[06/22/2018 14:46:56 INFO 140433059022656] Saved checkpoint to \"/opt/ml/model/state_878ec00e-8a53-450d-8892-83399487dacf-0000.params\"\u001b[0m\n",
      "\u001b[31m#metrics {\"Metrics\": {\"state.serialize.time\": {\"count\": 1, \"max\": 35.85696220397949, \"sum\": 35.85696220397949, \"min\": 35.85696220397949}}, \"EndTime\": 1529678816.797127, \"Dimensions\": {\"Host\": \"algo-1\", \"Operation\": \"training\", \"Algorithm\": \"AWS/DeepAR\"}, \"StartTime\": 1529678816.760942}\n",
      "\u001b[0m\n"
     ]
    },
    {
     "name": "stdout",
     "output_type": "stream",
     "text": [
      "\u001b[31m[06/22/2018 14:46:57 INFO 140433059022656] Epoch[3] Batch[0] avg_epoch_loss=4.417615\u001b[0m\n",
      "\u001b[31m[06/22/2018 14:46:59 INFO 140433059022656] Epoch[3] Batch[5] avg_epoch_loss=4.360275\u001b[0m\n",
      "\u001b[31m[06/22/2018 14:46:59 INFO 140433059022656] Epoch[3] Batch [5]#011Speed: 65.58 samples/sec#011loss=4.360275\u001b[0m\n",
      "\u001b[31m[06/22/2018 14:47:01 INFO 140433059022656] processed a total of 310 examples\u001b[0m\n",
      "\u001b[31m#metrics {\"Metrics\": {\"update.time\": {\"count\": 1, \"max\": 4637.401103973389, \"sum\": 4637.401103973389, \"min\": 4637.401103973389}}, \"EndTime\": 1529678821.449688, \"Dimensions\": {\"Host\": \"algo-1\", \"Operation\": \"training\", \"Algorithm\": \"AWS/DeepAR\"}, \"StartTime\": 1529678816.797193}\n",
      "\u001b[0m\n",
      "\u001b[31m[06/22/2018 14:47:01 INFO 140433059022656] #throughput_metric: host=algo-1, train throughput=66.8461577376 records/second\u001b[0m\n",
      "\u001b[31m[06/22/2018 14:47:01 INFO 140433059022656] #progress_metric: host=algo-1, completed 20 % of epochs\u001b[0m\n",
      "\u001b[31m[06/22/2018 14:47:01 INFO 140433059022656] best epoch loss so far\u001b[0m\n",
      "\u001b[31m[06/22/2018 14:47:01 INFO 140433059022656] Saved checkpoint to \"/opt/ml/model/state_6122c4ea-eebd-4460-90ec-564dae10820b-0000.params\"\u001b[0m\n",
      "\u001b[31m#metrics {\"Metrics\": {\"state.serialize.time\": {\"count\": 1, \"max\": 32.56106376647949, \"sum\": 32.56106376647949, \"min\": 32.56106376647949}}, \"EndTime\": 1529678821.48271, \"Dimensions\": {\"Host\": \"algo-1\", \"Operation\": \"training\", \"Algorithm\": \"AWS/DeepAR\"}, \"StartTime\": 1529678821.449762}\n",
      "\u001b[0m\n",
      "\u001b[31m[06/22/2018 14:47:01 INFO 140433059022656] Epoch[4] Batch[0] avg_epoch_loss=4.496490\u001b[0m\n",
      "\u001b[31m[06/22/2018 14:47:04 INFO 140433059022656] Epoch[4] Batch[5] avg_epoch_loss=4.204554\u001b[0m\n",
      "\u001b[31m[06/22/2018 14:47:04 INFO 140433059022656] Epoch[4] Batch [5]#011Speed: 72.10 samples/sec#011loss=4.204554\u001b[0m\n",
      "\u001b[31m[06/22/2018 14:47:06 INFO 140433059022656] Epoch[4] Batch[10] avg_epoch_loss=4.334791\u001b[0m\n",
      "\u001b[31m[06/22/2018 14:47:06 INFO 140433059022656] Epoch[4] Batch [10]#011Speed: 82.74 samples/sec#011loss=4.491076\u001b[0m\n",
      "\u001b[31m[06/22/2018 14:47:06 INFO 140433059022656] processed a total of 340 examples\u001b[0m\n",
      "\u001b[31m#metrics {\"Metrics\": {\"update.time\": {\"count\": 1, \"max\": 4624.807834625244, \"sum\": 4624.807834625244, \"min\": 4624.807834625244}}, \"EndTime\": 1529678826.122838, \"Dimensions\": {\"Host\": \"algo-1\", \"Operation\": \"training\", \"Algorithm\": \"AWS/DeepAR\"}, \"StartTime\": 1529678821.482775}\n",
      "\u001b[0m\n",
      "\u001b[31m[06/22/2018 14:47:06 INFO 140433059022656] #throughput_metric: host=algo-1, train throughput=73.5146428373 records/second\u001b[0m\n",
      "\u001b[31m[06/22/2018 14:47:06 INFO 140433059022656] #progress_metric: host=algo-1, completed 25 % of epochs\u001b[0m\n",
      "\u001b[31m[06/22/2018 14:47:06 INFO 140433059022656] best epoch loss so far\u001b[0m\n",
      "\u001b[31m[06/22/2018 14:47:06 INFO 140433059022656] Saved checkpoint to \"/opt/ml/model/state_777b9f6d-ab17-4ea1-8e2f-c5431b76e16d-0000.params\"\u001b[0m\n",
      "\u001b[31m#metrics {\"Metrics\": {\"state.serialize.time\": {\"count\": 1, \"max\": 32.276153564453125, \"sum\": 32.276153564453125, \"min\": 32.276153564453125}}, \"EndTime\": 1529678826.155599, \"Dimensions\": {\"Host\": \"algo-1\", \"Operation\": \"training\", \"Algorithm\": \"AWS/DeepAR\"}, \"StartTime\": 1529678826.122918}\n",
      "\u001b[0m\n",
      "\u001b[31m[06/22/2018 14:47:06 INFO 140433059022656] Epoch[5] Batch[0] avg_epoch_loss=4.008870\u001b[0m\n",
      "\u001b[31m[06/22/2018 14:47:09 INFO 140433059022656] Epoch[5] Batch[5] avg_epoch_loss=4.048865\u001b[0m\n",
      "\u001b[31m[06/22/2018 14:47:09 INFO 140433059022656] Epoch[5] Batch [5]#011Speed: 66.71 samples/sec#011loss=4.048865\u001b[0m\n",
      "\u001b[31m[06/22/2018 14:47:10 INFO 140433059022656] processed a total of 320 examples\u001b[0m\n",
      "\u001b[31m#metrics {\"Metrics\": {\"update.time\": {\"count\": 1, \"max\": 4665.791034698486, \"sum\": 4665.791034698486, \"min\": 4665.791034698486}}, \"EndTime\": 1529678830.835743, \"Dimensions\": {\"Host\": \"algo-1\", \"Operation\": \"training\", \"Algorithm\": \"AWS/DeepAR\"}, \"StartTime\": 1529678826.155654}\n",
      "\u001b[0m\n",
      "\u001b[31m[06/22/2018 14:47:10 INFO 140433059022656] #throughput_metric: host=algo-1, train throughput=68.5825346423 records/second\u001b[0m\n",
      "\u001b[31m[06/22/2018 14:47:10 INFO 140433059022656] #progress_metric: host=algo-1, completed 30 % of epochs\u001b[0m\n",
      "\u001b[31m[06/22/2018 14:47:10 INFO 140433059022656] best epoch loss so far\u001b[0m\n",
      "\u001b[31m[06/22/2018 14:47:10 INFO 140433059022656] Saved checkpoint to \"/opt/ml/model/state_dfff83d4-17df-4a88-b734-f0afd9b37fff-0000.params\"\u001b[0m\n",
      "\u001b[31m#metrics {\"Metrics\": {\"state.serialize.time\": {\"count\": 1, \"max\": 32.13906288146973, \"sum\": 32.13906288146973, \"min\": 32.13906288146973}}, \"EndTime\": 1529678830.868336, \"Dimensions\": {\"Host\": \"algo-1\", \"Operation\": \"training\", \"Algorithm\": \"AWS/DeepAR\"}, \"StartTime\": 1529678830.835824}\n",
      "\u001b[0m\n",
      "\u001b[31m[06/22/2018 14:47:11 INFO 140433059022656] Epoch[6] Batch[0] avg_epoch_loss=3.852655\u001b[0m\n",
      "\u001b[31m[06/22/2018 14:47:13 INFO 140433059022656] Epoch[6] Batch[5] avg_epoch_loss=3.849248\u001b[0m\n",
      "\u001b[31m[06/22/2018 14:47:13 INFO 140433059022656] Epoch[6] Batch [5]#011Speed: 72.16 samples/sec#011loss=3.849248\u001b[0m\n",
      "\u001b[31m[06/22/2018 14:47:15 INFO 140433059022656] Epoch[6] Batch[10] avg_epoch_loss=3.980643\u001b[0m\n",
      "\u001b[31m[06/22/2018 14:47:15 INFO 140433059022656] Epoch[6] Batch [10]#011Speed: 77.70 samples/sec#011loss=4.138318\u001b[0m\n",
      "\u001b[31m[06/22/2018 14:47:15 INFO 140433059022656] processed a total of 345 examples\u001b[0m\n",
      "\u001b[31m#metrics {\"Metrics\": {\"update.time\": {\"count\": 1, \"max\": 4736.1109256744385, \"sum\": 4736.1109256744385, \"min\": 4736.1109256744385}}, \"EndTime\": 1529678835.619078, \"Dimensions\": {\"Host\": \"algo-1\", \"Operation\": \"training\", \"Algorithm\": \"AWS/DeepAR\"}, \"StartTime\": 1529678830.868392}\n",
      "\u001b[0m\n",
      "\u001b[31m[06/22/2018 14:47:15 INFO 140433059022656] #throughput_metric: host=algo-1, train throughput=72.843268523 records/second\u001b[0m\n",
      "\u001b[31m[06/22/2018 14:47:15 INFO 140433059022656] #progress_metric: host=algo-1, completed 35 % of epochs\u001b[0m\n",
      "\u001b[31m[06/22/2018 14:47:15 INFO 140433059022656] best epoch loss so far\u001b[0m\n",
      "\u001b[31m[06/22/2018 14:47:15 INFO 140433059022656] Saved checkpoint to \"/opt/ml/model/state_ea7bfd2a-86bb-4b2b-a513-f5f4a9facd12-0000.params\"\u001b[0m\n",
      "\u001b[31m#metrics {\"Metrics\": {\"state.serialize.time\": {\"count\": 1, \"max\": 32.006025314331055, \"sum\": 32.006025314331055, \"min\": 32.006025314331055}}, \"EndTime\": 1529678835.651503, \"Dimensions\": {\"Host\": \"algo-1\", \"Operation\": \"training\", \"Algorithm\": \"AWS/DeepAR\"}, \"StartTime\": 1529678835.619132}\n",
      "\u001b[0m\n",
      "\u001b[31m[06/22/2018 14:47:16 INFO 140433059022656] Epoch[7] Batch[0] avg_epoch_loss=3.954110\u001b[0m\n",
      "\u001b[31m[06/22/2018 14:47:18 INFO 140433059022656] Epoch[7] Batch[5] avg_epoch_loss=3.952874\u001b[0m\n",
      "\u001b[31m[06/22/2018 14:47:18 INFO 140433059022656] Epoch[7] Batch [5]#011Speed: 65.15 samples/sec#011loss=3.952874\u001b[0m\n",
      "\u001b[31m[06/22/2018 14:47:20 INFO 140433059022656] Epoch[7] Batch[10] avg_epoch_loss=4.133804\u001b[0m\n",
      "\u001b[31m[06/22/2018 14:47:20 INFO 140433059022656] Epoch[7] Batch [10]#011Speed: 87.66 samples/sec#011loss=4.350920\u001b[0m\n",
      "\u001b[31m[06/22/2018 14:47:20 INFO 140433059022656] processed a total of 325 examples\u001b[0m\n",
      "\u001b[31m#metrics {\"Metrics\": {\"update.time\": {\"count\": 1, \"max\": 4722.615003585815, \"sum\": 4722.615003585815, \"min\": 4722.615003585815}}, \"EndTime\": 1529678840.388583, \"Dimensions\": {\"Host\": \"algo-1\", \"Operation\": \"training\", \"Algorithm\": \"AWS/DeepAR\"}, \"StartTime\": 1529678835.65156}\n",
      "\u001b[0m\n",
      "\u001b[31m[06/22/2018 14:47:20 INFO 140433059022656] #throughput_metric: host=algo-1, train throughput=68.8161724887 records/second\u001b[0m\n",
      "\u001b[31m[06/22/2018 14:47:20 INFO 140433059022656] #progress_metric: host=algo-1, completed 40 % of epochs\u001b[0m\n",
      "\u001b[31m[06/22/2018 14:47:20 INFO 140433059022656] loss did not improve for 1 epochs\u001b[0m\n",
      "\u001b[31m[06/22/2018 14:47:20 INFO 140433059022656] Epoch[8] Batch[0] avg_epoch_loss=4.653756\u001b[0m\n",
      "\u001b[31m[06/22/2018 14:47:23 INFO 140433059022656] Epoch[8] Batch[5] avg_epoch_loss=4.379635\u001b[0m\n",
      "\u001b[31m[06/22/2018 14:47:23 INFO 140433059022656] Epoch[8] Batch [5]#011Speed: 66.15 samples/sec#011loss=4.379635\u001b[0m\n",
      "\u001b[31m[06/22/2018 14:47:24 INFO 140433059022656] processed a total of 317 examples\u001b[0m\n",
      "\u001b[31m#metrics {\"Metrics\": {\"update.time\": {\"count\": 1, \"max\": 4531.56590461731, \"sum\": 4531.56590461731, \"min\": 4531.56590461731}}, \"EndTime\": 1529678844.935671, \"Dimensions\": {\"Host\": \"algo-1\", \"Operation\": \"training\", \"Algorithm\": \"AWS/DeepAR\"}, \"StartTime\": 1529678840.388657}\n",
      "\u001b[0m\n",
      "\u001b[31m[06/22/2018 14:47:24 INFO 140433059022656] #throughput_metric: host=algo-1, train throughput=69.9519072287 records/second\u001b[0m\n",
      "\u001b[31m[06/22/2018 14:47:24 INFO 140433059022656] #progress_metric: host=algo-1, completed 45 % of epochs\u001b[0m\n",
      "\u001b[31m[06/22/2018 14:47:24 INFO 140433059022656] loss did not improve for 2 epochs\u001b[0m\n",
      "\u001b[31m[06/22/2018 14:47:25 INFO 140433059022656] Epoch[9] Batch[0] avg_epoch_loss=4.494595\u001b[0m\n",
      "\u001b[31m[06/22/2018 14:47:27 INFO 140433059022656] Epoch[9] Batch[5] avg_epoch_loss=4.111594\u001b[0m\n",
      "\u001b[31m[06/22/2018 14:47:27 INFO 140433059022656] Epoch[9] Batch [5]#011Speed: 76.24 samples/sec#011loss=4.111594\u001b[0m\n",
      "\u001b[31m[06/22/2018 14:47:29 INFO 140433059022656] Epoch[9] Batch[10] avg_epoch_loss=4.134264\u001b[0m\n",
      "\u001b[31m[06/22/2018 14:47:29 INFO 140433059022656] Epoch[9] Batch [10]#011Speed: 81.44 samples/sec#011loss=4.161469\u001b[0m\n",
      "\u001b[31m[06/22/2018 14:47:29 INFO 140433059022656] processed a total of 368 examples\u001b[0m\n",
      "\u001b[31m#metrics {\"Metrics\": {\"update.time\": {\"count\": 1, \"max\": 4815.186023712158, \"sum\": 4815.186023712158, \"min\": 4815.186023712158}}, \"EndTime\": 1529678849.766251, \"Dimensions\": {\"Host\": \"algo-1\", \"Operation\": \"training\", \"Algorithm\": \"AWS/DeepAR\"}, \"StartTime\": 1529678844.935749}\n",
      "\u001b[0m\n",
      "\u001b[31m[06/22/2018 14:47:29 INFO 140433059022656] #throughput_metric: host=algo-1, train throughput=76.4230380594 records/second\u001b[0m\n",
      "\u001b[31m[06/22/2018 14:47:29 INFO 140433059022656] #progress_metric: host=algo-1, completed 50 % of epochs\u001b[0m\n",
      "\u001b[31m[06/22/2018 14:47:29 INFO 140433059022656] loss did not improve for 3 epochs\u001b[0m\n",
      "\u001b[31m[06/22/2018 14:47:30 INFO 140433059022656] Epoch[10] Batch[0] avg_epoch_loss=4.528855\u001b[0m\n",
      "\u001b[31m[06/22/2018 14:47:32 INFO 140433059022656] Epoch[10] Batch[5] avg_epoch_loss=4.259751\u001b[0m\n",
      "\u001b[31m[06/22/2018 14:47:32 INFO 140433059022656] Epoch[10] Batch [5]#011Speed: 72.29 samples/sec#011loss=4.259751\u001b[0m\n",
      "\u001b[31m[06/22/2018 14:47:34 INFO 140433059022656] processed a total of 318 examples\u001b[0m\n",
      "\u001b[31m#metrics {\"Metrics\": {\"update.time\": {\"count\": 1, \"max\": 4760.549783706665, \"sum\": 4760.549783706665, \"min\": 4760.549783706665}}, \"EndTime\": 1529678854.541629, \"Dimensions\": {\"Host\": \"algo-1\", \"Operation\": \"training\", \"Algorithm\": \"AWS/DeepAR\"}, \"StartTime\": 1529678849.766323}\n",
      "\u001b[0m\n",
      "\u001b[31m[06/22/2018 14:47:34 INFO 140433059022656] #throughput_metric: host=algo-1, train throughput=66.7974316876 records/second\u001b[0m\n",
      "\u001b[31m[06/22/2018 14:47:34 INFO 140433059022656] #progress_metric: host=algo-1, completed 55 % of epochs\u001b[0m\n",
      "\u001b[31m[06/22/2018 14:47:34 INFO 140433059022656] loss did not improve for 4 epochs\u001b[0m\n"
     ]
    },
    {
     "name": "stdout",
     "output_type": "stream",
     "text": [
      "\u001b[31m[06/22/2018 14:47:35 INFO 140433059022656] Epoch[11] Batch[0] avg_epoch_loss=3.883921\u001b[0m\n",
      "\u001b[31m[06/22/2018 14:47:37 INFO 140433059022656] Epoch[11] Batch[5] avg_epoch_loss=4.112011\u001b[0m\n",
      "\u001b[31m[06/22/2018 14:47:37 INFO 140433059022656] Epoch[11] Batch [5]#011Speed: 66.29 samples/sec#011loss=4.112011\u001b[0m\n",
      "\u001b[31m[06/22/2018 14:47:39 INFO 140433059022656] processed a total of 291 examples\u001b[0m\n",
      "\u001b[31m#metrics {\"Metrics\": {\"update.time\": {\"count\": 1, \"max\": 4579.229831695557, \"sum\": 4579.229831695557, \"min\": 4579.229831695557}}, \"EndTime\": 1529678859.135341, \"Dimensions\": {\"Host\": \"algo-1\", \"Operation\": \"training\", \"Algorithm\": \"AWS/DeepAR\"}, \"StartTime\": 1529678854.541701}\n",
      "\u001b[0m\n",
      "\u001b[31m[06/22/2018 14:47:39 INFO 140433059022656] #throughput_metric: host=algo-1, train throughput=63.5462589476 records/second\u001b[0m\n",
      "\u001b[31m[06/22/2018 14:47:39 INFO 140433059022656] #progress_metric: host=algo-1, completed 60 % of epochs\u001b[0m\n",
      "\u001b[31m[06/22/2018 14:47:39 INFO 140433059022656] best epoch loss so far\u001b[0m\n",
      "\u001b[31m[06/22/2018 14:47:39 INFO 140433059022656] Saved checkpoint to \"/opt/ml/model/state_5c4d3e5e-a787-47af-881d-246df0826c7c-0000.params\"\u001b[0m\n",
      "\u001b[31m#metrics {\"Metrics\": {\"state.serialize.time\": {\"count\": 1, \"max\": 32.15789794921875, \"sum\": 32.15789794921875, \"min\": 32.15789794921875}}, \"EndTime\": 1529678859.16793, \"Dimensions\": {\"Host\": \"algo-1\", \"Operation\": \"training\", \"Algorithm\": \"AWS/DeepAR\"}, \"StartTime\": 1529678859.135413}\n",
      "\u001b[0m\n",
      "\u001b[31m[06/22/2018 14:47:39 INFO 140433059022656] Epoch[12] Batch[0] avg_epoch_loss=3.995861\u001b[0m\n",
      "\u001b[31m[06/22/2018 14:47:41 INFO 140433059022656] Epoch[12] Batch[5] avg_epoch_loss=3.797630\u001b[0m\n",
      "\u001b[31m[06/22/2018 14:47:41 INFO 140433059022656] Epoch[12] Batch [5]#011Speed: 70.11 samples/sec#011loss=3.797630\u001b[0m\n",
      "\u001b[31m[06/22/2018 14:47:43 INFO 140433059022656] Epoch[12] Batch[10] avg_epoch_loss=3.909959\u001b[0m\n",
      "\u001b[31m[06/22/2018 14:47:43 INFO 140433059022656] Epoch[12] Batch [10]#011Speed: 78.64 samples/sec#011loss=4.044754\u001b[0m\n",
      "\u001b[31m[06/22/2018 14:47:43 INFO 140433059022656] processed a total of 321 examples\u001b[0m\n",
      "\u001b[31m#metrics {\"Metrics\": {\"update.time\": {\"count\": 1, \"max\": 4718.6689376831055, \"sum\": 4718.6689376831055, \"min\": 4718.6689376831055}}, \"EndTime\": 1529678863.90143, \"Dimensions\": {\"Host\": \"algo-1\", \"Operation\": \"training\", \"Algorithm\": \"AWS/DeepAR\"}, \"StartTime\": 1529678859.167995}\n",
      "\u001b[0m\n",
      "\u001b[31m[06/22/2018 14:47:43 INFO 140433059022656] #throughput_metric: host=algo-1, train throughput=68.0258851434 records/second\u001b[0m\n",
      "\u001b[31m[06/22/2018 14:47:43 INFO 140433059022656] #progress_metric: host=algo-1, completed 65 % of epochs\u001b[0m\n",
      "\u001b[31m[06/22/2018 14:47:43 INFO 140433059022656] best epoch loss so far\u001b[0m\n",
      "\u001b[31m[06/22/2018 14:47:43 INFO 140433059022656] Saved checkpoint to \"/opt/ml/model/state_e2a41fff-7dc2-4fc8-9335-ff0534f5575f-0000.params\"\u001b[0m\n",
      "\u001b[31m#metrics {\"Metrics\": {\"state.serialize.time\": {\"count\": 1, \"max\": 32.106876373291016, \"sum\": 32.106876373291016, \"min\": 32.106876373291016}}, \"EndTime\": 1529678863.934013, \"Dimensions\": {\"Host\": \"algo-1\", \"Operation\": \"training\", \"Algorithm\": \"AWS/DeepAR\"}, \"StartTime\": 1529678863.901513}\n",
      "\u001b[0m\n",
      "\u001b[31m[06/22/2018 14:47:44 INFO 140433059022656] Epoch[13] Batch[0] avg_epoch_loss=3.914575\u001b[0m\n",
      "\u001b[31m[06/22/2018 14:47:46 INFO 140433059022656] Epoch[13] Batch[5] avg_epoch_loss=4.055186\u001b[0m\n",
      "\u001b[31m[06/22/2018 14:47:46 INFO 140433059022656] Epoch[13] Batch [5]#011Speed: 70.88 samples/sec#011loss=4.055186\u001b[0m\n",
      "\u001b[31m[06/22/2018 14:47:48 INFO 140433059022656] Epoch[13] Batch[10] avg_epoch_loss=4.126274\u001b[0m\n",
      "\u001b[31m[06/22/2018 14:47:48 INFO 140433059022656] Epoch[13] Batch [10]#011Speed: 80.21 samples/sec#011loss=4.211579\u001b[0m\n",
      "\u001b[31m[06/22/2018 14:47:48 INFO 140433059022656] processed a total of 346 examples\u001b[0m\n",
      "\u001b[31m#metrics {\"Metrics\": {\"update.time\": {\"count\": 1, \"max\": 4714.705944061279, \"sum\": 4714.705944061279, \"min\": 4714.705944061279}}, \"EndTime\": 1529678868.663715, \"Dimensions\": {\"Host\": \"algo-1\", \"Operation\": \"training\", \"Algorithm\": \"AWS/DeepAR\"}, \"StartTime\": 1529678863.934068}\n",
      "\u001b[0m\n",
      "\u001b[31m[06/22/2018 14:47:48 INFO 140433059022656] #throughput_metric: host=algo-1, train throughput=73.3858093348 records/second\u001b[0m\n",
      "\u001b[31m[06/22/2018 14:47:48 INFO 140433059022656] #progress_metric: host=algo-1, completed 70 % of epochs\u001b[0m\n",
      "\u001b[31m[06/22/2018 14:47:48 INFO 140433059022656] loss did not improve for 1 epochs\u001b[0m\n",
      "\u001b[31m[06/22/2018 14:47:49 INFO 140433059022656] Epoch[14] Batch[0] avg_epoch_loss=4.517786\u001b[0m\n",
      "\u001b[31m[06/22/2018 14:47:51 INFO 140433059022656] Epoch[14] Batch[5] avg_epoch_loss=4.245321\u001b[0m\n",
      "\u001b[31m[06/22/2018 14:47:51 INFO 140433059022656] Epoch[14] Batch [5]#011Speed: 78.51 samples/sec#011loss=4.245321\u001b[0m\n",
      "\u001b[31m[06/22/2018 14:47:53 INFO 140433059022656] Epoch[14] Batch[10] avg_epoch_loss=4.232420\u001b[0m\n",
      "\u001b[31m[06/22/2018 14:47:53 INFO 140433059022656] Epoch[14] Batch [10]#011Speed: 76.82 samples/sec#011loss=4.216939\u001b[0m\n",
      "\u001b[31m[06/22/2018 14:47:53 INFO 140433059022656] processed a total of 359 examples\u001b[0m\n",
      "\u001b[31m#metrics {\"Metrics\": {\"update.time\": {\"count\": 1, \"max\": 4768.615961074829, \"sum\": 4768.615961074829, \"min\": 4768.615961074829}}, \"EndTime\": 1529678873.447355, \"Dimensions\": {\"Host\": \"algo-1\", \"Operation\": \"training\", \"Algorithm\": \"AWS/DeepAR\"}, \"StartTime\": 1529678868.663782}\n",
      "\u001b[0m\n",
      "\u001b[31m[06/22/2018 14:47:53 INFO 140433059022656] #throughput_metric: host=algo-1, train throughput=75.2820052548 records/second\u001b[0m\n",
      "\u001b[31m[06/22/2018 14:47:53 INFO 140433059022656] #progress_metric: host=algo-1, completed 75 % of epochs\u001b[0m\n",
      "\u001b[31m[06/22/2018 14:47:53 INFO 140433059022656] loss did not improve for 2 epochs\u001b[0m\n",
      "\u001b[31m[06/22/2018 14:47:53 INFO 140433059022656] Epoch[15] Batch[0] avg_epoch_loss=4.280223\u001b[0m\n",
      "\u001b[31m[06/22/2018 14:47:56 INFO 140433059022656] Epoch[15] Batch[5] avg_epoch_loss=4.074635\u001b[0m\n",
      "\u001b[31m[06/22/2018 14:47:56 INFO 140433059022656] Epoch[15] Batch [5]#011Speed: 73.65 samples/sec#011loss=4.074635\u001b[0m\n",
      "\u001b[31m[06/22/2018 14:47:58 INFO 140433059022656] Epoch[15] Batch[10] avg_epoch_loss=4.269284\u001b[0m\n",
      "\u001b[31m[06/22/2018 14:47:58 INFO 140433059022656] Epoch[15] Batch [10]#011Speed: 82.25 samples/sec#011loss=4.502862\u001b[0m\n",
      "\u001b[31m[06/22/2018 14:47:58 INFO 140433059022656] processed a total of 336 examples\u001b[0m\n",
      "\u001b[31m#metrics {\"Metrics\": {\"update.time\": {\"count\": 1, \"max\": 4614.8340702056885, \"sum\": 4614.8340702056885, \"min\": 4614.8340702056885}}, \"EndTime\": 1529678878.076749, \"Dimensions\": {\"Host\": \"algo-1\", \"Operation\": \"training\", \"Algorithm\": \"AWS/DeepAR\"}, \"StartTime\": 1529678873.447432}\n",
      "\u001b[0m\n",
      "\u001b[31m[06/22/2018 14:47:58 INFO 140433059022656] #throughput_metric: host=algo-1, train throughput=72.8068719452 records/second\u001b[0m\n",
      "\u001b[31m[06/22/2018 14:47:58 INFO 140433059022656] #progress_metric: host=algo-1, completed 80 % of epochs\u001b[0m\n",
      "\u001b[31m[06/22/2018 14:47:58 INFO 140433059022656] loss did not improve for 3 epochs\u001b[0m\n",
      "\u001b[31m[06/22/2018 14:47:58 INFO 140433059022656] Epoch[16] Batch[0] avg_epoch_loss=3.939176\u001b[0m\n",
      "\u001b[31m[06/22/2018 14:48:00 INFO 140433059022656] Epoch[16] Batch[5] avg_epoch_loss=4.005715\u001b[0m\n",
      "\u001b[31m[06/22/2018 14:48:00 INFO 140433059022656] Epoch[16] Batch [5]#011Speed: 72.71 samples/sec#011loss=4.005715\u001b[0m\n",
      "\u001b[31m[06/22/2018 14:48:02 INFO 140433059022656] Epoch[16] Batch[10] avg_epoch_loss=4.046980\u001b[0m\n",
      "\u001b[31m[06/22/2018 14:48:02 INFO 140433059022656] Epoch[16] Batch [10]#011Speed: 75.02 samples/sec#011loss=4.096498\u001b[0m\n",
      "\u001b[31m[06/22/2018 14:48:02 INFO 140433059022656] processed a total of 336 examples\u001b[0m\n",
      "\u001b[31m#metrics {\"Metrics\": {\"update.time\": {\"count\": 1, \"max\": 4687.361001968384, \"sum\": 4687.361001968384, \"min\": 4687.361001968384}}, \"EndTime\": 1529678882.781781, \"Dimensions\": {\"Host\": \"algo-1\", \"Operation\": \"training\", \"Algorithm\": \"AWS/DeepAR\"}, \"StartTime\": 1529678878.076823}\n",
      "\u001b[0m\n",
      "\u001b[31m[06/22/2018 14:48:02 INFO 140433059022656] #throughput_metric: host=algo-1, train throughput=71.680397398 records/second\u001b[0m\n",
      "\u001b[31m[06/22/2018 14:48:02 INFO 140433059022656] #progress_metric: host=algo-1, completed 85 % of epochs\u001b[0m\n",
      "\u001b[31m[06/22/2018 14:48:02 INFO 140433059022656] loss did not improve for 4 epochs\u001b[0m\n",
      "\u001b[31m[06/22/2018 14:48:03 INFO 140433059022656] Epoch[17] Batch[0] avg_epoch_loss=3.831451\u001b[0m\n",
      "\u001b[31m[06/22/2018 14:48:05 INFO 140433059022656] Epoch[17] Batch[5] avg_epoch_loss=3.720532\u001b[0m\n",
      "\u001b[31m[06/22/2018 14:48:05 INFO 140433059022656] Epoch[17] Batch [5]#011Speed: 71.38 samples/sec#011loss=3.720532\u001b[0m\n"
     ]
    },
    {
     "name": "stdout",
     "output_type": "stream",
     "text": [
      "\u001b[31m[06/22/2018 14:48:07 INFO 140433059022656] Epoch[17] Batch[10] avg_epoch_loss=3.777749\u001b[0m\n",
      "\u001b[31m[06/22/2018 14:48:07 INFO 140433059022656] Epoch[17] Batch [10]#011Speed: 78.08 samples/sec#011loss=3.846410\u001b[0m\n",
      "\u001b[31m[06/22/2018 14:48:07 INFO 140433059022656] processed a total of 321 examples\u001b[0m\n",
      "\u001b[31m#metrics {\"Metrics\": {\"update.time\": {\"count\": 1, \"max\": 4671.702861785889, \"sum\": 4671.702861785889, \"min\": 4671.702861785889}}, \"EndTime\": 1529678887.467989, \"Dimensions\": {\"Host\": \"algo-1\", \"Operation\": \"training\", \"Algorithm\": \"AWS/DeepAR\"}, \"StartTime\": 1529678882.781854}\n",
      "\u001b[0m\n",
      "\u001b[31m[06/22/2018 14:48:07 INFO 140433059022656] #throughput_metric: host=algo-1, train throughput=68.7099873636 records/second\u001b[0m\n",
      "\u001b[31m[06/22/2018 14:48:07 INFO 140433059022656] #progress_metric: host=algo-1, completed 90 % of epochs\u001b[0m\n",
      "\u001b[31m[06/22/2018 14:48:07 INFO 140433059022656] best epoch loss so far\u001b[0m\n",
      "\u001b[31m[06/22/2018 14:48:07 INFO 140433059022656] Saved checkpoint to \"/opt/ml/model/state_02703d84-e6c1-4d84-9acc-1c2fc40afccd-0000.params\"\u001b[0m\n",
      "\u001b[31m#metrics {\"Metrics\": {\"state.serialize.time\": {\"count\": 1, \"max\": 35.173892974853516, \"sum\": 35.173892974853516, \"min\": 35.173892974853516}}, \"EndTime\": 1529678887.503715, \"Dimensions\": {\"Host\": \"algo-1\", \"Operation\": \"training\", \"Algorithm\": \"AWS/DeepAR\"}, \"StartTime\": 1529678887.468059}\n",
      "\u001b[0m\n",
      "\u001b[31m[06/22/2018 14:48:08 INFO 140433059022656] Epoch[18] Batch[0] avg_epoch_loss=4.042198\u001b[0m\n",
      "\u001b[31m[06/22/2018 14:48:10 INFO 140433059022656] Epoch[18] Batch[5] avg_epoch_loss=3.951559\u001b[0m\n",
      "\u001b[31m[06/22/2018 14:48:10 INFO 140433059022656] Epoch[18] Batch [5]#011Speed: 70.80 samples/sec#011loss=3.951559\u001b[0m\n",
      "\u001b[31m[06/22/2018 14:48:12 INFO 140433059022656] Epoch[18] Batch[10] avg_epoch_loss=4.018931\u001b[0m\n",
      "\u001b[31m[06/22/2018 14:48:12 INFO 140433059022656] Epoch[18] Batch [10]#011Speed: 85.88 samples/sec#011loss=4.099778\u001b[0m\n",
      "\u001b[31m[06/22/2018 14:48:12 INFO 140433059022656] processed a total of 326 examples\u001b[0m\n",
      "\u001b[31m#metrics {\"Metrics\": {\"update.time\": {\"count\": 1, \"max\": 4705.900192260742, \"sum\": 4705.900192260742, \"min\": 4705.900192260742}}, \"EndTime\": 1529678892.224013, \"Dimensions\": {\"Host\": \"algo-1\", \"Operation\": \"training\", \"Algorithm\": \"AWS/DeepAR\"}, \"StartTime\": 1529678887.503788}\n",
      "\u001b[0m\n",
      "\u001b[31m[06/22/2018 14:48:12 INFO 140433059022656] #throughput_metric: host=algo-1, train throughput=69.2730913707 records/second\u001b[0m\n",
      "\u001b[31m[06/22/2018 14:48:12 INFO 140433059022656] #progress_metric: host=algo-1, completed 95 % of epochs\u001b[0m\n",
      "\u001b[31m[06/22/2018 14:48:12 INFO 140433059022656] loss did not improve for 1 epochs\u001b[0m\n",
      "\u001b[31m[06/22/2018 14:48:12 INFO 140433059022656] Epoch[19] Batch[0] avg_epoch_loss=3.932042\u001b[0m\n",
      "\u001b[31m[06/22/2018 14:48:15 INFO 140433059022656] Epoch[19] Batch[5] avg_epoch_loss=3.804009\u001b[0m\n",
      "\u001b[31m[06/22/2018 14:48:15 INFO 140433059022656] Epoch[19] Batch [5]#011Speed: 67.89 samples/sec#011loss=3.804009\u001b[0m\n",
      "\u001b[31m[06/22/2018 14:48:17 INFO 140433059022656] Epoch[19] Batch[10] avg_epoch_loss=3.925961\u001b[0m\n",
      "\u001b[31m[06/22/2018 14:48:17 INFO 140433059022656] Epoch[19] Batch [10]#011Speed: 81.47 samples/sec#011loss=4.072303\u001b[0m\n",
      "\u001b[31m[06/22/2018 14:48:17 INFO 140433059022656] processed a total of 327 examples\u001b[0m\n",
      "\u001b[31m#metrics {\"Metrics\": {\"update.time\": {\"count\": 1, \"max\": 4806.195020675659, \"sum\": 4806.195020675659, \"min\": 4806.195020675659}}, \"EndTime\": 1529678897.04799, \"Dimensions\": {\"Host\": \"algo-1\", \"Operation\": \"training\", \"Algorithm\": \"AWS/DeepAR\"}, \"StartTime\": 1529678892.224087}\n",
      "\u001b[0m\n",
      "\u001b[31m[06/22/2018 14:48:17 INFO 140433059022656] #throughput_metric: host=algo-1, train throughput=68.0355185822 records/second\u001b[0m\n",
      "\u001b[31m[06/22/2018 14:48:17 INFO 140433059022656] #progress_metric: host=algo-1, completed 100 % of epochs\u001b[0m\n",
      "\u001b[31m[06/22/2018 14:48:17 INFO 140433059022656] loss did not improve for 2 epochs\u001b[0m\n",
      "\u001b[31m[06/22/2018 14:48:17 INFO 140433059022656] Loading parameters from best epoch (17)\u001b[0m\n",
      "\u001b[31m#metrics {\"Metrics\": {\"state.deserialize.time\": {\"count\": 1, \"max\": 13.737916946411133, \"sum\": 13.737916946411133, \"min\": 13.737916946411133}}, \"EndTime\": 1529678897.062259, \"Dimensions\": {\"Host\": \"algo-1\", \"Operation\": \"training\", \"Algorithm\": \"AWS/DeepAR\"}, \"StartTime\": 1529678897.048066}\n",
      "\u001b[0m\n",
      "\u001b[31m[06/22/2018 14:48:17 INFO 140433059022656] Final loss: 3.7777493867 (occured at epoch 17)\u001b[0m\n",
      "\u001b[31m[06/22/2018 14:48:17 INFO 140433059022656] #quality_metric: host=algo-1, train final_loss <loss>=3.7777493867\u001b[0m\n",
      "\u001b[31m[06/22/2018 14:48:17 INFO 140433059022656] Creating prediction graph.\u001b[0m\n",
      "\u001b[31m#metrics {\"Metrics\": {\"get_graph.time\": {\"count\": 1, \"max\": 2005.7399272918701, \"sum\": 2005.7399272918701, \"min\": 2005.7399272918701}}, \"EndTime\": 1529678899.068418, \"Dimensions\": {\"Host\": \"algo-1\", \"Operation\": \"training\", \"Algorithm\": \"AWS/DeepAR\"}, \"StartTime\": 1529678897.062308}\n",
      "\u001b[0m\n",
      "\u001b[31m[06/22/2018 14:48:20 INFO 140433059022656] Number of GPUs being used: 0\u001b[0m\n",
      "\u001b[31m#metrics {\"Metrics\": {\"finalize.time\": {\"count\": 1, \"max\": 3688.65704536438, \"sum\": 3688.65704536438, \"min\": 3688.65704536438}}, \"EndTime\": 1529678900.751303, \"Dimensions\": {\"Host\": \"algo-1\", \"Operation\": \"training\", \"Algorithm\": \"AWS/DeepAR\"}, \"StartTime\": 1529678899.068484}\n",
      "\u001b[0m\n",
      "\u001b[31m[06/22/2018 14:48:20 INFO 140433059022656] Serializing to /opt/ml/model/model_algo-1\u001b[0m\n",
      "\u001b[31m[06/22/2018 14:48:21 INFO 140433059022656] Saved checkpoint to \"/opt/ml/model/model_algo-1-0000.params\"\u001b[0m\n",
      "\u001b[31m#metrics {\"Metrics\": {\"model.serialize.time\": {\"count\": 1, \"max\": 272.7088928222656, \"sum\": 272.7088928222656, \"min\": 272.7088928222656}}, \"EndTime\": 1529678901.024135, \"Dimensions\": {\"Host\": \"algo-1\", \"Operation\": \"training\", \"Algorithm\": \"AWS/DeepAR\"}, \"StartTime\": 1529678900.751381}\n",
      "\u001b[0m\n",
      "\u001b[31m[06/22/2018 14:48:21 INFO 140433059022656] Successfully created prediction graph and serialized the model.\u001b[0m\n",
      "\u001b[31m[06/22/2018 14:48:21 INFO 140433059022656] Evaluating model accuracy on testset using 100 samples\u001b[0m\n",
      "\u001b[31m#metrics {\"Metrics\": {\"model.bind.time\": {\"count\": 1, \"max\": 0.03695487976074219, \"sum\": 0.03695487976074219, \"min\": 0.03695487976074219}}, \"EndTime\": 1529678901.025416, \"Dimensions\": {\"Host\": \"algo-1\", \"Operation\": \"training\", \"Algorithm\": \"AWS/DeepAR\"}, \"StartTime\": 1529678901.024189}\n",
      "\u001b[0m\n",
      "\u001b[31m#metrics {\"Metrics\": {\"model.score.time\": {\"count\": 1, \"max\": 9125.546932220459, \"sum\": 9125.546932220459, \"min\": 9125.546932220459}}, \"EndTime\": 1529678910.150926, \"Dimensions\": {\"Host\": \"algo-1\", \"Operation\": \"training\", \"Algorithm\": \"AWS/DeepAR\"}, \"StartTime\": 1529678901.025472}\n",
      "\u001b[0m\n",
      "\u001b[31m[06/22/2018 14:48:30 INFO 140433059022656] #test_score (algo-1, wQuantileLoss[0.7]): 0.032943\u001b[0m\n",
      "\u001b[31m[06/22/2018 14:48:30 INFO 140433059022656] #test_score (algo-1, wQuantileLoss[0.6]): 0.0328377\u001b[0m\n",
      "\u001b[31m[06/22/2018 14:48:30 INFO 140433059022656] #test_score (algo-1, mean_wQuantileLoss): 0.0316547\u001b[0m\n",
      "\u001b[31m[06/22/2018 14:48:30 INFO 140433059022656] #test_score (algo-1, wQuantileLoss[0.1]): 0.0219814\u001b[0m\n",
      "\u001b[31m[06/22/2018 14:48:30 INFO 140433059022656] #test_score (algo-1, RMSE): 15.0680321629\u001b[0m\n",
      "\u001b[31m[06/22/2018 14:48:30 INFO 140433059022656] #test_score (algo-1, wQuantileLoss[0.3]): 0.0351321\u001b[0m\n",
      "\u001b[31m[06/22/2018 14:48:30 INFO 140433059022656] #test_score (algo-1, wQuantileLoss[0.9]): 0.0264909\u001b[0m\n",
      "\u001b[31m[06/22/2018 14:48:30 INFO 140433059022656] #test_score (algo-1, wQuantileLoss[0.2]): 0.0298957\u001b[0m\n",
      "\u001b[31m[06/22/2018 14:48:30 INFO 140433059022656] #test_score (algo-1, wQuantileLoss[0.8]): 0.0325433\u001b[0m\n",
      "\u001b[31m[06/22/2018 14:48:30 INFO 140433059022656] #test_score (algo-1, wQuantileLoss[0.5]): 0.035778\u001b[0m\n",
      "\u001b[31m[06/22/2018 14:48:30 INFO 140433059022656] #test_score (algo-1, wQuantileLoss[0.4]): 0.0372904\u001b[0m\n",
      "\u001b[31m[06/22/2018 14:48:30 INFO 140433059022656] #quality_metric: host=algo-1, test mean_wQuantileLoss <loss>=0.0316547267139\u001b[0m\n",
      "\u001b[31m[06/22/2018 14:48:30 INFO 140433059022656] #quality_metric: host=algo-1, test RMSE <loss>=15.0680321629\u001b[0m\n",
      "\u001b[31m#metrics {\"Metrics\": {\"totaltime\": {\"count\": 1, \"max\": 111452.66795158386, \"sum\": 111452.66795158386, \"min\": 111452.66795158386}, \"setuptime\": {\"count\": 1, \"max\": 11.354923248291016, \"sum\": 11.354923248291016, \"min\": 11.354923248291016}}, \"EndTime\": 1529678910.58232, \"Dimensions\": {\"Host\": \"algo-1\", \"Operation\": \"training\", \"Algorithm\": \"AWS/DeepAR\"}, \"StartTime\": 1529678910.150992}\n",
      "\u001b[0m\n"
     ]
    },
    {
     "name": "stdout",
     "output_type": "stream",
     "text": [
      "===== Job Complete =====\n",
      "Billable seconds: 225\n"
     ]
    }
   ],
   "source": [
    "data_channels = {\n",
    "    \"train\": \"s3://{}/train/\".format(s3_data_path),\n",
    "    \"test\": \"s3://{}/test/\".format(s3_data_path)\n",
    "}\n",
    "\n",
    "estimator.fit(inputs=data_channels)"
   ]
  },
  {
   "cell_type": "markdown",
   "metadata": {},
   "source": [
    "## Create endpoint and predictor\n",
    "Now that we have trained a model, we can use it to perform predictions by deploying it to an endpoint.\n",
    "\n",
    "Note: remember to delete the enpoint after running this experiment. A cell at the very bottom of this notebook will do that: make sure you run it at the end."
   ]
  },
  {
   "cell_type": "code",
   "execution_count": 31,
   "metadata": {},
   "outputs": [
    {
     "name": "stderr",
     "output_type": "stream",
     "text": [
      "INFO:sagemaker:Creating model with name: test-demo-deepar-2018-06-22-14-43-26-968\n",
      "INFO:sagemaker:Creating endpoint-config with name test-demo-deepar-2018-06-22-14-43-26-968\n",
      "INFO:sagemaker:Creating endpoint with name test-demo-deepar-2018-06-22-14-43-26-968\n"
     ]
    },
    {
     "name": "stdout",
     "output_type": "stream",
     "text": [
      "--------------------------------------------------------------------------!"
     ]
    }
   ],
   "source": [
    "job_name = estimator.latest_training_job.name\n",
    "\n",
    "endpoint_name = sagemaker_session.endpoint_from_job(\n",
    "    job_name=job_name,\n",
    "    initial_instance_count=1,\n",
    "    instance_type='ml.m4.xlarge',\n",
    "    deployment_image=image_name,\n",
    "    role=role\n",
    ")"
   ]
  },
  {
   "cell_type": "code",
   "execution_count": 32,
   "metadata": {},
   "outputs": [],
   "source": [
    "class DeepARPredictor(sagemaker.predictor.RealTimePredictor):\n",
    "\n",
    "    def set_prediction_parameters(self, freq, prediction_length):\n",
    "        \"\"\"Set the time frequency and prediction length parameters. This method **must** be called\n",
    "        before being able to use `predict`.\n",
    "        \n",
    "        Parameters:\n",
    "        freq -- string indicating the time frequency\n",
    "        prediction_length -- integer, number of predicted time points\n",
    "        \n",
    "        Return value: none.\n",
    "        \"\"\"\n",
    "        self.freq = freq\n",
    "        self.prediction_length = prediction_length\n",
    "        \n",
    "    def predict(self, ts, cat=None, encoding=\"utf-8\", num_samples=100, quantiles=[\"0.1\", \"0.5\", \"0.9\"]):\n",
    "        \"\"\"Requests the prediction of for the time series listed in `ts`, each with the (optional)\n",
    "        corresponding category listed in `cat`.\n",
    "        \n",
    "        Parameters:\n",
    "        ts -- list of `pandas.Series` objects, the time series to predict\n",
    "        cat -- list of integers (default: None)\n",
    "        encoding -- string, encoding to use for the request (default: \"utf-8\")\n",
    "        num_samples -- integer, number of samples to compute at prediction time (default: 100)\n",
    "        quantiles -- list of strings specifying the quantiles to compute (default: [\"0.1\", \"0.5\", \"0.9\"])\n",
    "        \n",
    "        Return value: list of `pandas.DataFrame` objects, each containing the predictions\n",
    "        \"\"\"\n",
    "        prediction_times = [x.index[-1]+1 for x in ts]\n",
    "        req = self.__encode_request(ts, cat, encoding, num_samples, quantiles)\n",
    "        res = super(DeepARPredictor, self).predict(req)\n",
    "        return self.__decode_response(res, prediction_times, encoding)\n",
    "    \n",
    "    def __encode_request(self, ts, cat, encoding, num_samples, quantiles):\n",
    "        instances = [series_to_obj(ts[k], cat[k] if cat else None) for k in range(len(ts))]\n",
    "        configuration = {\"num_samples\": num_samples, \"output_types\": [\"quantiles\"], \"quantiles\": quantiles}\n",
    "        http_request_data = {\"instances\": instances, \"configuration\": configuration}\n",
    "        return json.dumps(http_request_data).encode(encoding)\n",
    "    \n",
    "    def __decode_response(self, response, prediction_times, encoding):\n",
    "        response_data = json.loads(response.decode(encoding))\n",
    "        list_of_df = []\n",
    "        for k in range(len(prediction_times)):\n",
    "            prediction_index = pd.DatetimeIndex(start=prediction_times[k], freq=self.freq, periods=self.prediction_length)\n",
    "            list_of_df.append(pd.DataFrame(data=response_data['predictions'][k]['quantiles'], index=prediction_index))\n",
    "        return list_of_df"
   ]
  },
  {
   "cell_type": "code",
   "execution_count": 33,
   "metadata": {},
   "outputs": [],
   "source": [
    "predictor = DeepARPredictor(\n",
    "    endpoint=endpoint_name,\n",
    "    sagemaker_session=sagemaker_session,\n",
    "    content_type=\"application/json\"\n",
    ")\n",
    "predictor.set_prediction_parameters(freq, prediction_length)"
   ]
  },
  {
   "cell_type": "markdown",
   "metadata": {},
   "source": [
    "## Visualize Model Predictions"
   ]
  },
  {
   "cell_type": "code",
   "execution_count": 34,
   "metadata": {},
   "outputs": [],
   "source": [
    "new_time_series_training = []\n",
    "for ts in time_series_training:\n",
    "    new_time_series_training.append(ts.asfreq('T'))"
   ]
  },
  {
   "cell_type": "code",
   "execution_count": 35,
   "metadata": {},
   "outputs": [],
   "source": [
    "new_time_series_test = []\n",
    "for ts in time_series_test:\n",
    "    new_time_series_test.append(ts.asfreq('T'))\n",
    "\n"
   ]
  },
  {
   "cell_type": "code",
   "execution_count": 40,
   "metadata": {},
   "outputs": [],
   "source": [
    "# 2 max for memory (on my desktop)\n",
    "list_of_df  = predictor.predict(new_time_series_training[1:2]) # predicted forecast\n",
    "actual_data = new_time_series_test[1:2] # full data set"
   ]
  },
  {
   "cell_type": "code",
   "execution_count": 45,
   "metadata": {
    "scrolled": false
   },
   "outputs": [
    {
     "data": {
      "image/png": "[encoded data removed]",
      "text/plain": [
       "<Figure size 864x432 with 1 Axes>"
      ]
     },
     "metadata": {},
     "output_type": "display_data"
    }
   ],
   "source": [
    "for k in range(len(list_of_df)): \n",
    "    plt.figure(figsize=(12,6))\n",
    "    actual_data[k][-prediction_length-context_length:].plot(label='target')\n",
    "    p10 = list_of_df[k]['0.1'] \n",
    "    p90 = list_of_df[k]['0.9'] #set limits predictively\n",
    "    plt.fill_between(p10.index, p10, p90, color='y', alpha=0.5, label='80% confidence interval')\n",
    "    list_of_df[k]['0.5'].plot(label='prediction median') # set requests for capacity allocation \n",
    "    plt.title(\"DeepAR Model Predictions\", fontsize = 20)\n",
    "    plt.ylabel(\"CPU usage [MHz]\", fontsize = 20)\n",
    "    plt.xlabel(\"Time in Hours\", fontsize = 20)\n",
    "    plt.yticks(fontsize=14);\n",
    "    #plt.axhline(y=2599.999299, color='g', linestyle='-', label = 'Actual Provision')\n",
    "    plt.xticks(fontsize=14);\n",
    "    plt.legend()\n",
    "    plt.show()"
   ]
  },
  {
   "cell_type": "markdown",
   "metadata": {},
   "source": [
    "# Calculate CPU usage saved\n",
    "Compare p90 to what was actually provisioned"
   ]
  },
  {
   "cell_type": "code",
   "execution_count": 129,
   "metadata": {},
   "outputs": [],
   "source": []
  },
  {
   "cell_type": "code",
   "execution_count": 99,
   "metadata": {},
   "outputs": [],
   "source": [
    "'''vm101_p90 = pd.DataFrame(p90)\n",
    "vm101_p90['VM'] = '101'\n",
    "vm101_p90.to_csv('vm101_p90.csv', sep = ',')\n",
    "\n",
    "\n",
    "vm102_p90 = pd.DataFrame(p90)\n",
    "vm102_p90['VM'] = '102'\n",
    "vm102_p90.to_csv('vm102_p90.csv', sep = ',')\n",
    "\n",
    "vm103_p90 = pd.DataFrame(p90)\n",
    "vm103_p90['VM'] = '103'\n",
    "vm103_p90.to_csv('vm103_p90.csv', sep = ',')\n",
    "\n",
    "\n",
    "vm104_p90 = pd.DataFrame(p90)\n",
    "vm104_p90['VM'] = '104'\n",
    "vm104_p90.to_csv('vm104_p90.csv', sep = ',')\n",
    "\n",
    "vm105_p90 = pd.DataFrame(p90)\n",
    "vm105_p90['VM'] = '105'\n",
    "vm105_p90.to_csv('vm105_p90.csv', sep = ',')\n",
    "\n",
    "vm106_p90 = pd.DataFrame(p90)\n",
    "vm106_p90['VM'] = '106'\n",
    "vm106_p90.to_csv('vm106_p90.csv', sep = ',')\n",
    "\n",
    "vm107_p90 = pd.DataFrame(p90)\n",
    "vm107_p90['VM'] = '107'\n",
    "vm107_p90.to_csv('vm107_p90.csv', sep = ',')\n",
    "\n",
    "vm11_p90 = pd.DataFrame(p90)\n",
    "vm11_p90['VM'] = '11'\n",
    "vm11_p90.to_csv('vm11_p90.csv', sep = ',')\n",
    "\n",
    "vm10_p90 = pd.DataFrame(p90)\n",
    "vm10_p90['VM'] = '10'\n",
    "vm10_p90.to_csv('vm10_p90.csv', sep = ',')\n",
    "\n",
    "vm1_p90 = pd.DataFrame(p90)\n",
    "vm1_p90['VM'] = '1'\n",
    "vm1_p90.to_csv('vm1_p90.csv', sep = ',')\n",
    "\n",
    "vm111_p90 = pd.DataFrame(p90)\n",
    "vm111_p90['VM'] = '111'\n",
    "vm111_p90.to_csv('vm111_p90.csv', sep = ',')\n",
    "\n",
    "'''"
   ]
  },
  {
   "cell_type": "markdown",
   "metadata": {},
   "source": [
    "two paths:\n",
    "1. iterating and improving model fit\n",
    "    - try to get it to full data set- as big as possible \n",
    "    - get test metric !!! - if large enough use RMSE\n",
    "    - use model to make predictions (hold out data or ?)\n",
    "    \n",
    "    \n",
    "2. look at p90- upper bound in graph = max capacity set in real time, cost calc between this and actual capacity that was provisioned, \n",
    "\n",
    "3. extra: try to get in hyperparameter tuning \n",
    "\n",
    "4. put final cleaned up notebook\n",
    "\n",
    "5. accessing data and documentation MAKE CLEAR notes on "
   ]
  },
  {
   "cell_type": "markdown",
   "metadata": {},
   "source": [
    "Best Model before Tuning\n",
    "\n",
    "[06/21/2018 04:01:21 INFO 140419976746816] #quality_metric: host=algo-1, test RMSE <loss>=7.21890483211\n",
    "#metrics {\"Metrics\": {\"totaltime\": {\"count\": 1, \"max\": 121637.42303848267, \"sum\": 121637.42303848267, \"min\": 121637.42303848267}, \"setuptime\": {\"count\": 1, \"max\": 8.651018142700195, \"sum\": 8.651018142700195, \"min\": 8.651018142700195}}, \"EndTime\": 1529553682.117442, \"Dimensions\": {\"Host\": \"algo-1\", \"Operation\": \"training\", \"Algorithm\": \"AWS/DeepAR\"}, \"StartTime\": 1529553681.585015}\n",
    "    \n",
    "    \n",
    "[06/21/2018 22:32:27 INFO 140337100830528] #quality_metric: host=algo-1, test RMSE <loss>=9.11701511459\n",
    "#metrics {\"Metrics\": {\"totaltime\": {\"count\": 1, \"max\": 113834.45906639099, \"sum\": 113834.45906639099, \"min\": 113834.45906639099}, \"setuptime\": {\"count\": 1, \"max\": 8.47005844116211, \"sum\": 8.47005844116211, \"min\": 8.47005844116211}}, \"EndTime\": 1529620347.585514, \"Dimensions\": {\"Host\": \"algo-1\", \"Operation\": \"training\", \"Algorithm\": \"AWS/DeepAR\"}, \"StartTime\": 1529620347.161478}\n"
   ]
  },
  {
   "cell_type": "markdown",
   "metadata": {},
   "source": [
    "## Created hyperparameter tuning job on the GUI (which now fails),  attempting to do with code below. \n",
    "\n",
    "So far, no examples of full hyperparameter tuning code available, that I have found at least."
   ]
  },
  {
   "cell_type": "code",
   "execution_count": 176,
   "metadata": {},
   "outputs": [],
   "source": [
    "s3_input_train = 's3://{}/{}/data/train'.format(bucket, prefix)\n",
    "s3_input_test= 's3://{}/{}/data/test'.format(bucket, prefix)\n",
    "training_image = containers[region]"
   ]
  },
  {
   "cell_type": "code",
   "execution_count": 182,
   "metadata": {},
   "outputs": [
    {
     "data": {
      "text/plain": [
       "'s3://sagemaker-testtimeseries/sagemaker/test-moredat/data/train'"
      ]
     },
     "execution_count": 182,
     "metadata": {},
     "output_type": "execute_result"
    }
   ],
   "source": [
    "s3_input_train"
   ]
  },
  {
   "cell_type": "code",
   "execution_count": 177,
   "metadata": {},
   "outputs": [],
   "source": [
    "HyperParameterTuningJobConfig={\n",
    "        'Strategy': 'Bayesian',\n",
    "        'HyperParameterTuningJobObjective': {\n",
    "            'Type': 'Minimize',\n",
    "            'MetricName': 'test:RMSE'\n",
    "        },\n",
    "        'ResourceLimits': {\n",
    "            'MaxNumberOfTrainingJobs': 50,\n",
    "            'MaxParallelTrainingJobs': 3\n",
    "        },\n",
    "        'ParameterRanges': {\n",
    "            'IntegerParameterRanges': [\n",
    "                {\n",
    "                    'Name': 'mini_batch_size',\n",
    "                    'MinValue': '32',\n",
    "                    'MaxValue': '50'\n",
    "                },\n",
    "                {\n",
    "                    'Name': 'epochs',\n",
    "                    'MinValue': '32',\n",
    "                    'MaxValue': '50'\n",
    "                },\n",
    "                {\n",
    "                    'Name': 'context_length',\n",
    "                    'MinValue': '20',\n",
    "                    'MaxValue': '50'\n",
    "                },            \n",
    "                {\n",
    "                    'Name': 'num_cells',\n",
    "                    'MinValue': '30',\n",
    "                    'MaxValue': '70'\n",
    "                },            \n",
    "                {\n",
    "                    'Name': 'num_layers',\n",
    "                    'MinValue': '1',\n",
    "                    'MaxValue': '5'\n",
    "                },                  \n",
    "            \n",
    "            ],\n",
    "            'ContinuousParameterRanges': [\n",
    "                {\n",
    "                    'Name': 'dropout_rate',\n",
    "                    'MinValue': '0.00',\n",
    "                    'MaxValue': '0.2'\n",
    "                },\n",
    "                {\n",
    "                    'Name': 'learning_rate',\n",
    "                    'MinValue': '0.0001',\n",
    "                    'MaxValue': '0.01'\n",
    "                }\n",
    "            \n",
    "            ]\n",
    "            \n",
    "        }\n",
    "    }\n",
    "TrainingJobDefinition={\n",
    "        'AlgorithmSpecification': {\n",
    "            'TrainingImage': training_image,\n",
    "            'TrainingInputMode': 'File',\n",
    "            \n",
    "        },\n",
    "        'RoleArn': role,\n",
    "        'StaticHyperParameters': [{\n",
    "            \"prediction_length\": '50',\n",
    "            \"time_freq\": 'min',\n",
    "            \"test_quantiles\": '[0.5, 0.9]'\n",
    "#            \"_tuning_objective_metric\": 'test:RMSE'\n",
    "        }],\n",
    "        'InputDataConfig': [\n",
    "            {\n",
    "                'ChannelName': 'train',\n",
    "                'DataSource': {\n",
    "                    'S3DataSource': {\n",
    "                        'S3DataType': 'S3Prefix',\n",
    "                        'S3Uri': s3_input_train,\n",
    "                        'S3DataDistributionType': 'FullyReplicated'\n",
    "                    }\n",
    "                },\n",
    "                'ContentType': 'json',\n",
    "                'CompressionType': 'None',\n",
    "                'RecordWrapperType': 'None'\n",
    "            ,\n",
    "                \n",
    "            'ChannelName': 'test',\n",
    "                'DataSource': {\n",
    "                    'S3DataSource': {\n",
    "                        'S3DataType': 'S3Prefix',\n",
    "                        'S3Uri': s3_input_test,\n",
    "                        'S3DataDistributionType': 'FullyReplicated'\n",
    "                    }\n",
    "                },\n",
    "                'ContentType': 'json',\n",
    "                'CompressionType': 'None',\n",
    "                'RecordWrapperType': 'None'\n",
    "\n",
    "            }\n",
    "        ],\n",
    "\n",
    "        'OutputDataConfig': {\n",
    "            \"S3OutputPath\": \"s3://{}/{}/output\".format(bucket,prefix)\n",
    "        },\n",
    "        'ResourceConfig': {\n",
    "            'InstanceType': 'ml.m4.xlarge',\n",
    "            'InstanceCount': 1,\n",
    "            'VolumeSizeInGB': 1,\n",
    "        },\n",
    "    'StoppingCondition': {\n",
    "            'MaxRuntimeInSeconds': 86400\n",
    "        }\n",
    "        \n",
    "}"
   ]
  },
  {
   "cell_type": "code",
   "execution_count": null,
   "metadata": {},
   "outputs": [],
   "source": []
  },
  {
   "cell_type": "code",
   "execution_count": 179,
   "metadata": {},
   "outputs": [
    {
     "data": {
      "text/plain": [
       "{'HyperParameterTuningJobArn': 'arn:aws:sagemaker:us-west-2:945416147148:hyper-parameter-tuning-job/tuning11',\n",
       " 'ResponseMetadata': {'RequestId': 'c94d49f8-6a3b-48eb-a612-7df60616ab1d',\n",
       "  'HTTPStatusCode': 200,\n",
       "  'HTTPHeaders': {'content-type': 'application/x-amz-json-1.1',\n",
       "   'date': 'Thu, 21 Jun 2018 19:48:04 GMT',\n",
       "   'x-amzn-requestid': 'c94d49f8-6a3b-48eb-a612-7df60616ab1d',\n",
       "   'content-length': '109',\n",
       "   'connection': 'keep-alive'},\n",
       "  'RetryAttempts': 0}}"
      ]
     },
     "execution_count": 179,
     "metadata": {},
     "output_type": "execute_result"
    }
   ],
   "source": [
    "smclient.create_hyper_parameter_tuning_job(HyperParameterTuningJobName = 'tuning11',\n",
    "                                            HyperParameterTuningJobConfig = HyperParameterTuningJobConfig,\n",
    "                                            TrainingJobDefinition = TrainingJobDefinition1)\n"
   ]
  },
  {
   "cell_type": "markdown",
   "metadata": {},
   "source": [
    "### Query a trained model by using the model's endpoint. The endpoint takes the following JSON request format."
   ]
  },
  {
   "cell_type": "markdown",
   "metadata": {},
   "source": [
    "# making predictions"
   ]
  },
  {
   "cell_type": "code",
   "execution_count": null,
   "metadata": {},
   "outputs": [],
   "source": [
    "job_name = estimator.latest_training_job.name\n",
    "\n",
    "endpoint_name = sagemaker_session.endpoint_from_job(\n",
    "    job_name=job_name,\n",
    "    initial_instance_count=1,\n",
    "    instance_type='ml.m4.xlarge',\n",
    "    deployment_image=image_name,\n",
    "    role=role\n",
    ")\n",
    "\n",
    "predictor = sagemaker.predictor.RealTimePredictor(\n",
    "    endpoint_name, \n",
    "    sagemaker_session=sagemaker_session, \n",
    "    content_type=\"application/json\")\n",
    "\n",
    "\n"
   ]
  },
  {
   "cell_type": "code",
   "execution_count": null,
   "metadata": {},
   "outputs": [],
   "source": [
    "q1 = '0.1'         # compute p10 quantile\n",
    "q2 = '0.9'         # compute p90 quantile\n",
    "num_samples = 100  # predict 100 sample series\n",
    "    \n",
    "def buildPredictionData(year, data):\n",
    "    year_temps = data[str(year)]\n",
    "    s = {\"start\": \"{}-01-01 00:00:00\".format(year), \"target\": year_temps}\n",
    "    series = []\n",
    "    series.append(s)\n",
    "    configuration = {\n",
    "        \"output_types\": [\"mean\", \"quantiles\", \"samples\"],\n",
    "        \"num_samples\": num_samples,\n",
    "        \"quantiles\": [q1, q2]\n",
    "    }\n",
    "    http_data = {\n",
    "        \"instances\": series, \n",
    "        \"configuration\": configuration\n",
    "    }\n",
    "    return json.dumps(http_data)\n"
   ]
  },
  {
   "cell_type": "code",
   "execution_count": 61,
   "metadata": {},
   "outputs": [
    {
     "data": {
      "text/plain": [
       "{'instances': [{'start': '2009-11-01 00:00:00',\n",
       "   'target': [4.0, 10.0, 50.0, 100.0, 113.0],\n",
       "   'cat': 0},\n",
       "  {'start': '2012-01-30', 'target': [1.0], 'cat': 2},\n",
       "  {'start': '1999-01-30', 'target': [2.0, 1.0], 'cat': 1}],\n",
       " 'configuration': {'num_samples': 50,\n",
       "  'output_types': ['mean', 'quantiles', 'samples'],\n",
       "  'quantiles': ['0.5', '0.9']}}"
      ]
     },
     "execution_count": 61,
     "metadata": {},
     "output_type": "execute_result"
    }
   ],
   "source": [
    "\n",
    "{\n",
    " \"instances\": [\n",
    "  { \"start\": \"2009-11-01 00:00:00\", \"target\": [4.0, 10.0, 50.0, 100.0, 113.0], \"cat\": 0},\n",
    "  { \"start\": \"2012-01-30\", \"target\": [1.0], \"cat\": 2 },\n",
    "  { \"start\": \"1999-01-30\", \"target\": [2.0, 1.0], \"cat\": 1 }\n",
    " ],\n",
    " \"configuration\": {\n",
    "  \"num_samples\": 50,\n",
    "  \"output_types\": [\"mean\", \"quantiles\", \"samples\"],\n",
    "  \"quantiles\": [\"0.5\", \"0.9\"]\n",
    " }\n",
    "}"
   ]
  },
  {
   "cell_type": "code",
   "execution_count": 46,
   "metadata": {},
   "outputs": [
    {
     "name": "stderr",
     "output_type": "stream",
     "text": [
      "INFO:sagemaker:Deleting endpoint with name: test-demo-deepar-2018-06-22-14-43-26-968\n"
     ]
    }
   ],
   "source": [
    "sagemaker_session.delete_endpoint(endpoint_name)"
   ]
  },
  {
   "cell_type": "code",
   "execution_count": null,
   "metadata": {},
   "outputs": [],
   "source": []
  },
  {
   "cell_type": "code",
   "execution_count": null,
   "metadata": {},
   "outputs": [],
   "source": []
  }
 ],
 "metadata": {
  "kernelspec": {
   "display_name": "Python 3",
   "language": "python",
   "name": "python3"
  },
  "language_info": {
   "codemirror_mode": {
    "name": "ipython",
    "version": 3
   },
   "file_extension": ".py",
   "mimetype": "text/x-python",
   "name": "python",
   "nbconvert_exporter": "python",
   "pygments_lexer": "ipython3",
   "version": "3.6.4"
  },
  "notice": "Copyright 2017 Amazon.com, Inc. or its affiliates. All Rights Reserved.  Licensed under the Apache License, Version 2.0 (the \"License\"). You may not use this file except in compliance with the License. A copy of the License is located at http://aws.amazon.com/apache2.0/ or in the \"license\" file accompanying this file. This file is distributed on an \"AS IS\" BASIS, WITHOUT WARRANTIES OR CONDITIONS OF ANY KIND, either express or implied. See the License for the specific language governing permissions and limitations under the License."
 },
 "nbformat": 4,
 "nbformat_minor": 2
}

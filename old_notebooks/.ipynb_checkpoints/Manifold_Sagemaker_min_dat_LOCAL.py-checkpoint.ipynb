{
 "cells": [
  {
   "cell_type": "markdown",
   "metadata": {
    "nbpresent": {
     "id": "42b5e80b-ad1d-4335-a1f7-10a91127e3dc"
    }
   },
   "source": [
    "# Time series forecasting with DeepAR\n",
    "DeepAR is a supervised learning algorithm for forecasting scalar time series. \n",
    "\n",
    "\n",
    "Let's start by specifying:\n",
    "\n",
    "- The S3 bucket and prefix that you want to use for training and model data.  This should be within the same region as the Notebook Instance, training, and hosting.\n",
    "- The IAM role arn used to give training and hosting access to your data. See the documentation for how to create these.  Note, if more than one role is required for notebook instances, training, and/or hosting, please replace the boto regexp with a the appropriate full IAM role arn string(s)."
   ]
  },
  {
   "cell_type": "code",
   "execution_count": 1,
   "metadata": {
    "isConfigCell": true
   },
   "outputs": [
    {
     "ename": "ValueError",
     "evalue": "Must setup local AWS configuration with a region supported by SageMaker.",
     "output_type": "error",
     "traceback": [
      "\u001b[0;31m---------------------------------------------------------------------------\u001b[0m",
      "\u001b[0;31mValueError\u001b[0m                                Traceback (most recent call last)",
      "\u001b[0;32m<ipython-input-1-0ee9b8c0b70d>\u001b[0m in \u001b[0;36m<module>\u001b[0;34m()\u001b[0m\n\u001b[1;32m     16\u001b[0m \u001b[0;32mimport\u001b[0m \u001b[0msagemaker\u001b[0m\u001b[0;34m.\u001b[0m\u001b[0mamazon\u001b[0m\u001b[0;34m.\u001b[0m\u001b[0mcommon\u001b[0m \u001b[0;32mas\u001b[0m \u001b[0msmac\u001b[0m\u001b[0;34m\u001b[0m\u001b[0m\n\u001b[1;32m     17\u001b[0m \u001b[0;34m\u001b[0m\u001b[0m\n\u001b[0;32m---> 18\u001b[0;31m \u001b[0mrole\u001b[0m \u001b[0;34m=\u001b[0m \u001b[0mget_execution_role\u001b[0m\u001b[0;34m(\u001b[0m\u001b[0;34m)\u001b[0m\u001b[0;34m\u001b[0m\u001b[0m\n\u001b[0m",
      "\u001b[0;32m/anaconda3/lib/python3.6/site-packages/sagemaker/session.py\u001b[0m in \u001b[0;36mget_execution_role\u001b[0;34m(sagemaker_session)\u001b[0m\n\u001b[1;32m    861\u001b[0m     \"\"\"\n\u001b[1;32m    862\u001b[0m     \u001b[0;32mif\u001b[0m \u001b[0;32mnot\u001b[0m \u001b[0msagemaker_session\u001b[0m\u001b[0;34m:\u001b[0m\u001b[0;34m\u001b[0m\u001b[0m\n\u001b[0;32m--> 863\u001b[0;31m         \u001b[0msagemaker_session\u001b[0m \u001b[0;34m=\u001b[0m \u001b[0mSession\u001b[0m\u001b[0;34m(\u001b[0m\u001b[0;34m)\u001b[0m\u001b[0;34m\u001b[0m\u001b[0m\n\u001b[0m\u001b[1;32m    864\u001b[0m     \u001b[0marn\u001b[0m \u001b[0;34m=\u001b[0m \u001b[0msagemaker_session\u001b[0m\u001b[0;34m.\u001b[0m\u001b[0mget_caller_identity_arn\u001b[0m\u001b[0;34m(\u001b[0m\u001b[0;34m)\u001b[0m\u001b[0;34m\u001b[0m\u001b[0m\n\u001b[1;32m    865\u001b[0m \u001b[0;34m\u001b[0m\u001b[0m\n",
      "\u001b[0;32m/anaconda3/lib/python3.6/site-packages/sagemaker/session.py\u001b[0m in \u001b[0;36m__init__\u001b[0;34m(self, boto_session, sagemaker_client, sagemaker_runtime_client)\u001b[0m\n\u001b[1;32m     77\u001b[0m             \u001b[0mself\u001b[0m\u001b[0;34m.\u001b[0m\u001b[0mconfig\u001b[0m \u001b[0;34m=\u001b[0m \u001b[0;32mNone\u001b[0m\u001b[0;34m\u001b[0m\u001b[0m\n\u001b[1;32m     78\u001b[0m \u001b[0;34m\u001b[0m\u001b[0m\n\u001b[0;32m---> 79\u001b[0;31m         \u001b[0mself\u001b[0m\u001b[0;34m.\u001b[0m\u001b[0m_initialize\u001b[0m\u001b[0;34m(\u001b[0m\u001b[0mboto_session\u001b[0m\u001b[0;34m,\u001b[0m \u001b[0msagemaker_client\u001b[0m\u001b[0;34m,\u001b[0m \u001b[0msagemaker_runtime_client\u001b[0m\u001b[0;34m)\u001b[0m\u001b[0;34m\u001b[0m\u001b[0m\n\u001b[0m\u001b[1;32m     80\u001b[0m \u001b[0;34m\u001b[0m\u001b[0m\n\u001b[1;32m     81\u001b[0m     \u001b[0;32mdef\u001b[0m \u001b[0m_initialize\u001b[0m\u001b[0;34m(\u001b[0m\u001b[0mself\u001b[0m\u001b[0;34m,\u001b[0m \u001b[0mboto_session\u001b[0m\u001b[0;34m,\u001b[0m \u001b[0msagemaker_client\u001b[0m\u001b[0;34m,\u001b[0m \u001b[0msagemaker_runtime_client\u001b[0m\u001b[0;34m)\u001b[0m\u001b[0;34m:\u001b[0m\u001b[0;34m\u001b[0m\u001b[0m\n",
      "\u001b[0;32m/anaconda3/lib/python3.6/site-packages/sagemaker/session.py\u001b[0m in \u001b[0;36m_initialize\u001b[0;34m(self, boto_session, sagemaker_client, sagemaker_runtime_client)\u001b[0m\n\u001b[1;32m     89\u001b[0m         \u001b[0mself\u001b[0m\u001b[0;34m.\u001b[0m\u001b[0m_region_name\u001b[0m \u001b[0;34m=\u001b[0m \u001b[0mself\u001b[0m\u001b[0;34m.\u001b[0m\u001b[0mboto_session\u001b[0m\u001b[0;34m.\u001b[0m\u001b[0mregion_name\u001b[0m\u001b[0;34m\u001b[0m\u001b[0m\n\u001b[1;32m     90\u001b[0m         \u001b[0;32mif\u001b[0m \u001b[0mself\u001b[0m\u001b[0;34m.\u001b[0m\u001b[0m_region_name\u001b[0m \u001b[0;32mis\u001b[0m \u001b[0;32mNone\u001b[0m\u001b[0;34m:\u001b[0m\u001b[0;34m\u001b[0m\u001b[0m\n\u001b[0;32m---> 91\u001b[0;31m             \u001b[0;32mraise\u001b[0m \u001b[0mValueError\u001b[0m\u001b[0;34m(\u001b[0m\u001b[0;34m'Must setup local AWS configuration with a region supported by SageMaker.'\u001b[0m\u001b[0;34m)\u001b[0m\u001b[0;34m\u001b[0m\u001b[0m\n\u001b[0m\u001b[1;32m     92\u001b[0m \u001b[0;34m\u001b[0m\u001b[0m\n\u001b[1;32m     93\u001b[0m         \u001b[0mself\u001b[0m\u001b[0;34m.\u001b[0m\u001b[0msagemaker_client\u001b[0m \u001b[0;34m=\u001b[0m \u001b[0msagemaker_client\u001b[0m \u001b[0;32mor\u001b[0m \u001b[0mself\u001b[0m\u001b[0;34m.\u001b[0m\u001b[0mboto_session\u001b[0m\u001b[0;34m.\u001b[0m\u001b[0mclient\u001b[0m\u001b[0;34m(\u001b[0m\u001b[0;34m'sagemaker'\u001b[0m\u001b[0;34m)\u001b[0m\u001b[0;34m\u001b[0m\u001b[0m\n",
      "\u001b[0;31mValueError\u001b[0m: Must setup local AWS configuration with a region supported by SageMaker."
     ]
    }
   ],
   "source": [
    "bucket = 'sagemaker-testtimeseries'\n",
    "prefix = 'sagemaker/test-moredat'\n",
    " \n",
    "# Define IAM role\n",
    "import sagemaker\n",
    "\n",
    "import sagemaker.predictor\n",
    "from sagemaker.predictor import csv_serializer, json_deserializer\n",
    "import boto3\n",
    "import  s3fs\n",
    "import re\n",
    "from sagemaker import get_execution_role\n",
    "import json\n",
    "import math\n",
    "from os import path\n",
    "import sagemaker.amazon.common as smac\n",
    "\n",
    "role = get_execution_role()\n"
   ]
  },
  {
   "cell_type": "markdown",
   "metadata": {
    "nbpresent": {
     "id": "b2548d66-6f8f-426f-9cda-7a3cd1459abd"
    }
   },
   "source": [
    "Now we'll import the Python libraries we'll need."
   ]
  },
  {
   "cell_type": "code",
   "execution_count": 4,
   "metadata": {
    "nbpresent": {
     "id": "bb88eea9-27f3-4e47-9133-663911ea09a9"
    }
   },
   "outputs": [],
   "source": [
    "import numpy as np\n",
    "import pandas as pd\n",
    "import matplotlib.pyplot as plt\n",
    "import io\n",
    "import os\n",
    "import time\n",
    "import json\n",
    "import glob"
   ]
  },
  {
   "cell_type": "code",
   "execution_count": null,
   "metadata": {},
   "outputs": [],
   "source": [
    "sagemaker_session = sagemaker.Session()\n",
    "role = get_execution_role()\n",
    "region = boto3.Session().region_name\n",
    "smclient = boto3.Session().client('sagemaker')\n",
    "\n",
    "s3_data_path = \"{}/{}/data\".format(bucket, prefix)\n",
    "s3_output_path = \"{}/{}/output\".format(bucket, prefix)"
   ]
  },
  {
   "cell_type": "code",
   "execution_count": null,
   "metadata": {},
   "outputs": [],
   "source": [
    "\n",
    "containers  = {\n",
    "    'us-west-2': '156387875391.dkr.ecr.us-west-2.amazonaws.com/forecasting-deepar:latest'\n",
    "}\n",
    "image_name = containers[boto3.Session().region_name]\n"
   ]
  },
  {
   "cell_type": "markdown",
   "metadata": {
    "nbpresent": {
     "id": "142777ae-c072-448e-b941-72bc75735d01"
    }
   },
   "source": [
    "---\n",
    "## Data\n",
    "\n",
    "Let's download the data.  More information about this dataset can be found [here](https://rdrr.io/github/robjhyndman/fpp/man/gasoline.html)."
   ]
  },
  {
   "cell_type": "code",
   "execution_count": null,
   "metadata": {
    "nbpresent": {
     "id": "78105bc7-ce5d-4003-84f6-4dc5700c5945"
    }
   },
   "outputs": [],
   "source": [
    "#!wget http://gwa.ewi.tudelft.nl/fileadmin/pds/trace-archives/grid-workloads-archive/datasets/gwa-t-12/rnd.zip"
   ]
  },
  {
   "cell_type": "code",
   "execution_count": null,
   "metadata": {},
   "outputs": [],
   "source": [
    "#import zipfile\n",
    "#with zipfile.ZipFile(\"rnd.zip\",\"r\") as zip_ref:\n",
    "#    zip_ref.extractall(\"targetdir\")"
   ]
  },
  {
   "cell_type": "markdown",
   "metadata": {
    "nbpresent": {
     "id": "b472326f-3584-4b61-aecc-04b35486a1ab"
    }
   },
   "source": [
    "And take a look at it."
   ]
  },
  {
   "cell_type": "markdown",
   "metadata": {},
   "source": [
    "# Read in Data\n",
    "\n",
    "### 111 ts files max (across 3 months), any more and notebook crashes (on my desktop)\n"
   ]
  },
  {
   "cell_type": "code",
   "execution_count": 6,
   "metadata": {},
   "outputs": [
    {
     "ename": "ValueError",
     "evalue": "No objects to concatenate",
     "output_type": "error",
     "traceback": [
      "\u001b[0;31m---------------------------------------------------------------------------\u001b[0m",
      "\u001b[0;31mValueError\u001b[0m                                Traceback (most recent call last)",
      "\u001b[0;32m<ipython-input-6-345bb8a6ab34>\u001b[0m in \u001b[0;36m<module>\u001b[0;34m()\u001b[0m\n\u001b[1;32m      3\u001b[0m \u001b[0;34m\u001b[0m\u001b[0m\n\u001b[1;32m      4\u001b[0m \u001b[0mdf_from_each_file\u001b[0m \u001b[0;34m=\u001b[0m \u001b[0;34m(\u001b[0m\u001b[0mpd\u001b[0m\u001b[0;34m.\u001b[0m\u001b[0mread_csv\u001b[0m\u001b[0;34m(\u001b[0m\u001b[0mf\u001b[0m\u001b[0;34m,\u001b[0m \u001b[0msep\u001b[0m \u001b[0;34m=\u001b[0m \u001b[0;34m';\\t'\u001b[0m\u001b[0;34m)\u001b[0m \u001b[0;32mfor\u001b[0m \u001b[0mf\u001b[0m \u001b[0;32min\u001b[0m \u001b[0mall_files\u001b[0m\u001b[0;34m)\u001b[0m\u001b[0;34m\u001b[0m\u001b[0m\n\u001b[0;32m----> 5\u001b[0;31m \u001b[0mconcatenated_df\u001b[0m   \u001b[0;34m=\u001b[0m \u001b[0mpd\u001b[0m\u001b[0;34m.\u001b[0m\u001b[0mconcat\u001b[0m\u001b[0;34m(\u001b[0m\u001b[0mdf_from_each_file\u001b[0m\u001b[0;34m)\u001b[0m\u001b[0;34m\u001b[0m\u001b[0m\n\u001b[0m\u001b[1;32m      6\u001b[0m \u001b[0;34m\u001b[0m\u001b[0m\n\u001b[1;32m      7\u001b[0m \u001b[0mpathpath\u001b[0m  \u001b[0;34m==\u001b[0m  \u001b[0;34mr'rnd/2013-8/'\u001b[0m                     \u001b[0;31m# use your path\u001b[0m\u001b[0;34m\u001b[0m\u001b[0m\n",
      "\u001b[0;32m/anaconda3/lib/python3.6/site-packages/pandas/core/reshape/concat.py\u001b[0m in \u001b[0;36mconcat\u001b[0;34m(objs, axis, join, join_axes, ignore_index, keys, levels, names, verify_integrity, copy)\u001b[0m\n\u001b[1;32m    210\u001b[0m                        \u001b[0mkeys\u001b[0m\u001b[0;34m=\u001b[0m\u001b[0mkeys\u001b[0m\u001b[0;34m,\u001b[0m \u001b[0mlevels\u001b[0m\u001b[0;34m=\u001b[0m\u001b[0mlevels\u001b[0m\u001b[0;34m,\u001b[0m \u001b[0mnames\u001b[0m\u001b[0;34m=\u001b[0m\u001b[0mnames\u001b[0m\u001b[0;34m,\u001b[0m\u001b[0;34m\u001b[0m\u001b[0m\n\u001b[1;32m    211\u001b[0m                        \u001b[0mverify_integrity\u001b[0m\u001b[0;34m=\u001b[0m\u001b[0mverify_integrity\u001b[0m\u001b[0;34m,\u001b[0m\u001b[0;34m\u001b[0m\u001b[0m\n\u001b[0;32m--> 212\u001b[0;31m                        copy=copy)\n\u001b[0m\u001b[1;32m    213\u001b[0m     \u001b[0;32mreturn\u001b[0m \u001b[0mop\u001b[0m\u001b[0;34m.\u001b[0m\u001b[0mget_result\u001b[0m\u001b[0;34m(\u001b[0m\u001b[0;34m)\u001b[0m\u001b[0;34m\u001b[0m\u001b[0m\n\u001b[1;32m    214\u001b[0m \u001b[0;34m\u001b[0m\u001b[0m\n",
      "\u001b[0;32m/anaconda3/lib/python3.6/site-packages/pandas/core/reshape/concat.py\u001b[0m in \u001b[0;36m__init__\u001b[0;34m(self, objs, axis, join, join_axes, keys, levels, names, ignore_index, verify_integrity, copy)\u001b[0m\n\u001b[1;32m    243\u001b[0m \u001b[0;34m\u001b[0m\u001b[0m\n\u001b[1;32m    244\u001b[0m         \u001b[0;32mif\u001b[0m \u001b[0mlen\u001b[0m\u001b[0;34m(\u001b[0m\u001b[0mobjs\u001b[0m\u001b[0;34m)\u001b[0m \u001b[0;34m==\u001b[0m \u001b[0;36m0\u001b[0m\u001b[0;34m:\u001b[0m\u001b[0;34m\u001b[0m\u001b[0m\n\u001b[0;32m--> 245\u001b[0;31m             \u001b[0;32mraise\u001b[0m \u001b[0mValueError\u001b[0m\u001b[0;34m(\u001b[0m\u001b[0;34m'No objects to concatenate'\u001b[0m\u001b[0;34m)\u001b[0m\u001b[0;34m\u001b[0m\u001b[0m\n\u001b[0m\u001b[1;32m    246\u001b[0m \u001b[0;34m\u001b[0m\u001b[0m\n\u001b[1;32m    247\u001b[0m         \u001b[0;32mif\u001b[0m \u001b[0mkeys\u001b[0m \u001b[0;32mis\u001b[0m \u001b[0;32mNone\u001b[0m\u001b[0;34m:\u001b[0m\u001b[0;34m\u001b[0m\u001b[0m\n",
      "\u001b[0;31mValueError\u001b[0m: No objects to concatenate"
     ]
    }
   ],
   "source": [
    "path = r'rnd/2013-7/'                     # use your path\n",
    "all_files = glob.glob(os.path.join(path, \"1*.csv\"))     # advisable to use os.path.join as this makes concatenation OS independent\n",
    "\n",
    "df_from_each_file = (pd.read_csv(f, sep = ';\\t') for f in all_files)\n",
    "concatenated_df   = pd.concat(df_from_each_file)\n",
    "\n",
    "pathpath  ==  r'rnd/2013-8/'                     # use your path\n",
    "all_files = glob.glob(os.path.join(path, \"1*.csv\"))     # advisable to use os.path.join as this makes concatenation OS independent\n",
    "\n",
    "df_from_each_file = (pd.read_csv(f, sep = ';\\t') for f in all_files)\n",
    "concatenated_df8   = pd.concat(df_from_each_file)\n",
    "\n",
    "pathpath  ==  r'rnd/2013-9/'                  # use your path\n",
    "all_files = glob.glob(os.path.join(path, \"1*.csv\"))     # advisable to use os.path.join as this makes concatenation OS independent\n",
    "\n",
    "df_from_each_file = (pd.read_csv(f, sep = ';\\t') for f in all_files)\n",
    "concatenated_df9   = pd.concat(df_from_each_file)"
   ]
  },
  {
   "cell_type": "markdown",
   "metadata": {},
   "source": [
    "## Data Wrangling"
   ]
  },
  {
   "cell_type": "code",
   "execution_count": 8,
   "metadata": {},
   "outputs": [],
   "source": [
    "newdat = df.append(df2)\n",
    "newerdat = newdat.append(df3)\n",
    "concatenated_df = newerdat"
   ]
  },
  {
   "cell_type": "code",
   "execution_count": 9,
   "metadata": {},
   "outputs": [
    {
     "data": {
      "text/html": [
       "<div>\n",
       "<style scoped>\n",
       "    .dataframe tbody tr th:only-of-type {\n",
       "        vertical-align: middle;\n",
       "    }\n",
       "\n",
       "    .dataframe tbody tr th {\n",
       "        vertical-align: top;\n",
       "    }\n",
       "\n",
       "    .dataframe thead th {\n",
       "        text-align: right;\n",
       "    }\n",
       "</style>\n",
       "<table border=\"1\" class=\"dataframe\">\n",
       "  <thead>\n",
       "    <tr style=\"text-align: right;\">\n",
       "      <th></th>\n",
       "      <th>Timestamp [ms]</th>\n",
       "      <th>CPU cores</th>\n",
       "      <th>CPU capacity provisioned [MHZ]</th>\n",
       "      <th>CPU usage [MHZ]</th>\n",
       "      <th>CPU usage [%]</th>\n",
       "      <th>Memory capacity provisioned [KB]</th>\n",
       "      <th>Memory usage [KB]</th>\n",
       "      <th>Disk read throughput [KB/s]</th>\n",
       "      <th>Disk write throughput [KB/s]</th>\n",
       "      <th>Network received throughput [KB/s]</th>\n",
       "      <th>Network transmitted throughput [KB/s]</th>\n",
       "      <th>VM</th>\n",
       "    </tr>\n",
       "  </thead>\n",
       "  <tbody>\n",
       "    <tr>\n",
       "      <th>0</th>\n",
       "      <td>1372629804</td>\n",
       "      <td>1</td>\n",
       "      <td>2599.999398</td>\n",
       "      <td>41.599990</td>\n",
       "      <td>1.600000</td>\n",
       "      <td>2097152.0</td>\n",
       "      <td>260044.800000</td>\n",
       "      <td>0.400000</td>\n",
       "      <td>7.8</td>\n",
       "      <td>1.666667</td>\n",
       "      <td>7.400000</td>\n",
       "      <td>13</td>\n",
       "    </tr>\n",
       "    <tr>\n",
       "      <th>1</th>\n",
       "      <td>1372630104</td>\n",
       "      <td>1</td>\n",
       "      <td>2599.999398</td>\n",
       "      <td>36.399992</td>\n",
       "      <td>1.400000</td>\n",
       "      <td>2097152.0</td>\n",
       "      <td>281016.800000</td>\n",
       "      <td>0.133333</td>\n",
       "      <td>10.0</td>\n",
       "      <td>1.000000</td>\n",
       "      <td>2.000000</td>\n",
       "      <td>13</td>\n",
       "    </tr>\n",
       "    <tr>\n",
       "      <th>2</th>\n",
       "      <td>1372630404</td>\n",
       "      <td>1</td>\n",
       "      <td>2599.999398</td>\n",
       "      <td>25.999994</td>\n",
       "      <td>1.000000</td>\n",
       "      <td>2097152.0</td>\n",
       "      <td>209712.000000</td>\n",
       "      <td>0.200000</td>\n",
       "      <td>7.4</td>\n",
       "      <td>1.000000</td>\n",
       "      <td>1.466667</td>\n",
       "      <td>13</td>\n",
       "    </tr>\n",
       "    <tr>\n",
       "      <th>3</th>\n",
       "      <td>1372630704</td>\n",
       "      <td>1</td>\n",
       "      <td>2599.999398</td>\n",
       "      <td>31.199993</td>\n",
       "      <td>1.200000</td>\n",
       "      <td>2097152.0</td>\n",
       "      <td>209712.000000</td>\n",
       "      <td>0.066667</td>\n",
       "      <td>6.8</td>\n",
       "      <td>1.000000</td>\n",
       "      <td>1.400000</td>\n",
       "      <td>13</td>\n",
       "    </tr>\n",
       "    <tr>\n",
       "      <th>4</th>\n",
       "      <td>1372631004</td>\n",
       "      <td>1</td>\n",
       "      <td>2599.999398</td>\n",
       "      <td>29.466660</td>\n",
       "      <td>1.133333</td>\n",
       "      <td>2097152.0</td>\n",
       "      <td>254453.066667</td>\n",
       "      <td>0.133333</td>\n",
       "      <td>7.0</td>\n",
       "      <td>1.000000</td>\n",
       "      <td>1.466667</td>\n",
       "      <td>13</td>\n",
       "    </tr>\n",
       "  </tbody>\n",
       "</table>\n",
       "</div>"
      ],
      "text/plain": [
       "   Timestamp [ms]  CPU cores  CPU capacity provisioned [MHZ]  CPU usage [MHZ]  \\\n",
       "0      1372629804          1                     2599.999398        41.599990   \n",
       "1      1372630104          1                     2599.999398        36.399992   \n",
       "2      1372630404          1                     2599.999398        25.999994   \n",
       "3      1372630704          1                     2599.999398        31.199993   \n",
       "4      1372631004          1                     2599.999398        29.466660   \n",
       "\n",
       "   CPU usage [%]  Memory capacity provisioned [KB]  Memory usage [KB]  \\\n",
       "0       1.600000                         2097152.0      260044.800000   \n",
       "1       1.400000                         2097152.0      281016.800000   \n",
       "2       1.000000                         2097152.0      209712.000000   \n",
       "3       1.200000                         2097152.0      209712.000000   \n",
       "4       1.133333                         2097152.0      254453.066667   \n",
       "\n",
       "   Disk read throughput [KB/s]  Disk write throughput [KB/s]  \\\n",
       "0                     0.400000                           7.8   \n",
       "1                     0.133333                          10.0   \n",
       "2                     0.200000                           7.4   \n",
       "3                     0.066667                           6.8   \n",
       "4                     0.133333                           7.0   \n",
       "\n",
       "   Network received throughput [KB/s]  Network transmitted throughput [KB/s]  \\\n",
       "0                            1.666667                               7.400000   \n",
       "1                            1.000000                               2.000000   \n",
       "2                            1.000000                               1.466667   \n",
       "3                            1.000000                               1.400000   \n",
       "4                            1.000000                               1.466667   \n",
       "\n",
       "   VM  \n",
       "0  13  \n",
       "1  13  \n",
       "2  13  \n",
       "3  13  \n",
       "4  13  "
      ]
     },
     "execution_count": 9,
     "metadata": {},
     "output_type": "execute_result"
    }
   ],
   "source": [
    "concatenated_df.head()"
   ]
  },
  {
   "cell_type": "code",
   "execution_count": 10,
   "metadata": {},
   "outputs": [
    {
     "data": {
      "text/html": [
       "<div>\n",
       "<style scoped>\n",
       "    .dataframe tbody tr th:only-of-type {\n",
       "        vertical-align: middle;\n",
       "    }\n",
       "\n",
       "    .dataframe tbody tr th {\n",
       "        vertical-align: top;\n",
       "    }\n",
       "\n",
       "    .dataframe thead th {\n",
       "        text-align: right;\n",
       "    }\n",
       "</style>\n",
       "<table border=\"1\" class=\"dataframe\">\n",
       "  <thead>\n",
       "    <tr style=\"text-align: right;\">\n",
       "      <th></th>\n",
       "      <th>Timestamp [ms]</th>\n",
       "      <th>CPU cores</th>\n",
       "      <th>CPU capacity provisioned [MHZ]</th>\n",
       "      <th>CPU usage [MHZ]</th>\n",
       "      <th>CPU usage [%]</th>\n",
       "      <th>Memory capacity provisioned [KB]</th>\n",
       "      <th>Memory usage [KB]</th>\n",
       "      <th>Disk read throughput [KB/s]</th>\n",
       "      <th>Disk write throughput [KB/s]</th>\n",
       "      <th>Network received throughput [KB/s]</th>\n",
       "      <th>Network transmitted throughput [KB/s]</th>\n",
       "      <th>VM</th>\n",
       "    </tr>\n",
       "  </thead>\n",
       "  <tbody>\n",
       "    <tr>\n",
       "      <th>926201</th>\n",
       "      <td>1380491363</td>\n",
       "      <td>4</td>\n",
       "      <td>11703.997296</td>\n",
       "      <td>150.201299</td>\n",
       "      <td>1.283333</td>\n",
       "      <td>16703488.0</td>\n",
       "      <td>167772.0</td>\n",
       "      <td>0.0</td>\n",
       "      <td>0.066667</td>\n",
       "      <td>0.0</td>\n",
       "      <td>0.0</td>\n",
       "      <td>106</td>\n",
       "    </tr>\n",
       "    <tr>\n",
       "      <th>926202</th>\n",
       "      <td>1380491630</td>\n",
       "      <td>4</td>\n",
       "      <td>11703.997296</td>\n",
       "      <td>197.017288</td>\n",
       "      <td>1.683333</td>\n",
       "      <td>16703488.0</td>\n",
       "      <td>100663.2</td>\n",
       "      <td>0.0</td>\n",
       "      <td>1.666667</td>\n",
       "      <td>0.0</td>\n",
       "      <td>0.0</td>\n",
       "      <td>106</td>\n",
       "    </tr>\n",
       "    <tr>\n",
       "      <th>926203</th>\n",
       "      <td>1380491663</td>\n",
       "      <td>4</td>\n",
       "      <td>11703.997296</td>\n",
       "      <td>197.017288</td>\n",
       "      <td>1.683333</td>\n",
       "      <td>16703488.0</td>\n",
       "      <td>100663.2</td>\n",
       "      <td>0.0</td>\n",
       "      <td>1.666667</td>\n",
       "      <td>0.0</td>\n",
       "      <td>0.0</td>\n",
       "      <td>106</td>\n",
       "    </tr>\n",
       "    <tr>\n",
       "      <th>926204</th>\n",
       "      <td>1380491930</td>\n",
       "      <td>4</td>\n",
       "      <td>11703.997296</td>\n",
       "      <td>146.299966</td>\n",
       "      <td>1.250000</td>\n",
       "      <td>16703488.0</td>\n",
       "      <td>111848.0</td>\n",
       "      <td>0.0</td>\n",
       "      <td>0.000000</td>\n",
       "      <td>0.0</td>\n",
       "      <td>0.0</td>\n",
       "      <td>106</td>\n",
       "    </tr>\n",
       "    <tr>\n",
       "      <th>926205</th>\n",
       "      <td>1380491963</td>\n",
       "      <td>4</td>\n",
       "      <td>11703.997296</td>\n",
       "      <td>146.299966</td>\n",
       "      <td>1.250000</td>\n",
       "      <td>16703488.0</td>\n",
       "      <td>111848.0</td>\n",
       "      <td>0.0</td>\n",
       "      <td>0.000000</td>\n",
       "      <td>0.0</td>\n",
       "      <td>0.0</td>\n",
       "      <td>106</td>\n",
       "    </tr>\n",
       "  </tbody>\n",
       "</table>\n",
       "</div>"
      ],
      "text/plain": [
       "        Timestamp [ms]  CPU cores  CPU capacity provisioned [MHZ]  \\\n",
       "926201      1380491363          4                    11703.997296   \n",
       "926202      1380491630          4                    11703.997296   \n",
       "926203      1380491663          4                    11703.997296   \n",
       "926204      1380491930          4                    11703.997296   \n",
       "926205      1380491963          4                    11703.997296   \n",
       "\n",
       "        CPU usage [MHZ]  CPU usage [%]  Memory capacity provisioned [KB]  \\\n",
       "926201       150.201299       1.283333                        16703488.0   \n",
       "926202       197.017288       1.683333                        16703488.0   \n",
       "926203       197.017288       1.683333                        16703488.0   \n",
       "926204       146.299966       1.250000                        16703488.0   \n",
       "926205       146.299966       1.250000                        16703488.0   \n",
       "\n",
       "        Memory usage [KB]  Disk read throughput [KB/s]  \\\n",
       "926201           167772.0                          0.0   \n",
       "926202           100663.2                          0.0   \n",
       "926203           100663.2                          0.0   \n",
       "926204           111848.0                          0.0   \n",
       "926205           111848.0                          0.0   \n",
       "\n",
       "        Disk write throughput [KB/s]  Network received throughput [KB/s]  \\\n",
       "926201                      0.066667                                 0.0   \n",
       "926202                      1.666667                                 0.0   \n",
       "926203                      1.666667                                 0.0   \n",
       "926204                      0.000000                                 0.0   \n",
       "926205                      0.000000                                 0.0   \n",
       "\n",
       "        Network transmitted throughput [KB/s]   VM  \n",
       "926201                                    0.0  106  \n",
       "926202                                    0.0  106  \n",
       "926203                                    0.0  106  \n",
       "926204                                    0.0  106  \n",
       "926205                                    0.0  106  "
      ]
     },
     "execution_count": 10,
     "metadata": {},
     "output_type": "execute_result"
    }
   ],
   "source": [
    "concatenated_df.tail()"
   ]
  },
  {
   "cell_type": "code",
   "execution_count": 11,
   "metadata": {},
   "outputs": [],
   "source": [
    "concatenated_df['Timestamp'] = pd.to_datetime(concatenated_df['Timestamp [ms]'], unit = 's')\n",
    "#concatenated_df.apply(pd.to_numeric, errors='ignore')\n",
    "concatenated_df.describe()\n",
    "concatenated_df['weekday'] = concatenated_df['Timestamp'].dt.dayofweek\n",
    "\n",
    "\n",
    "concatenated_df['weekend'] = ((concatenated_df.weekday) // 5 == 1).astype(float)\n",
    "# Feature engineering with the date\n",
    "concatenated_df['month']=concatenated_df.Timestamp.dt.month \n",
    "concatenated_df['day']=concatenated_df.Timestamp.dt.day\n",
    "concatenated_df.set_index('Timestamp',inplace=True)\n",
    "concatenated_df[\"CPU usage prev\"] = concatenated_df['CPU usage [%]'].shift(1)\n",
    "concatenated_df[\"CPU_diff\"] = concatenated_df['CPU usage [%]'] - concatenated_df[\"CPU usage prev\"]\n",
    "concatenated_df[\"received_prev\"] = concatenated_df['Network received throughput [KB/s]'].shift(1)\n",
    "concatenated_df[\"received_diff\"] = concatenated_df['Network received throughput [KB/s]']- concatenated_df[\"received_prev\"]\n",
    "\n",
    "concatenated_df[\"transmitted_prev\"] = concatenated_df['Network transmitted throughput [KB/s]'].shift(1)\n",
    "concatenated_df[\"transmitted_diff\"] = concatenated_df['Network transmitted throughput [KB/s]']- concatenated_df[\"transmitted_prev\"]"
   ]
  },
  {
   "cell_type": "code",
   "execution_count": 12,
   "metadata": {},
   "outputs": [],
   "source": [
    "concatenated_df[\"start\"] = concatenated_df.index\n",
    "concatenated_df['target'] = concatenated_df['CPU usage [MHZ]']"
   ]
  },
  {
   "cell_type": "code",
   "execution_count": 13,
   "metadata": {},
   "outputs": [],
   "source": [
    "\n",
    "result = pd.concat([concatenated_df['VM'],concatenated_df['start'], concatenated_df['target']], axis=1)\n",
    "result = result.reset_index()\n",
    "#result.set_index('start',inplace=True)\n",
    "\n",
    "result.set_index(['start', 'VM'],inplace=True)\n",
    "result.drop('Timestamp', axis=1, inplace=True)\n"
   ]
  },
  {
   "cell_type": "code",
   "execution_count": 14,
   "metadata": {},
   "outputs": [
    {
     "name": "stderr",
     "output_type": "stream",
     "text": [
      "/home/ec2-user/anaconda3/envs/python3/lib/python3.6/site-packages/pandas/core/groupby/groupby.py:1502: FutureWarning: how in .resample() is deprecated\n",
      "the new syntax is .resample(...)..apply(<func>)\n",
      "  return get_resampler_for_grouping(self, rule, *args, **kwargs)\n"
     ]
    }
   ],
   "source": [
    "df = concatenated_df.groupby('VM').resample('1min', how={'target':np.mean})"
   ]
  },
  {
   "cell_type": "code",
   "execution_count": 15,
   "metadata": {},
   "outputs": [],
   "source": [
    "df.reset_index(level=0, inplace=True)"
   ]
  },
  {
   "cell_type": "code",
   "execution_count": 16,
   "metadata": {},
   "outputs": [],
   "source": [
    "#df['Timestamp'] = df['Timestamp'].dt.strftime('%m/%d/%Y %H:%M:%S')"
   ]
  },
  {
   "cell_type": "code",
   "execution_count": 17,
   "metadata": {},
   "outputs": [],
   "source": [
    "df = df.fillna(method='ffill')"
   ]
  },
  {
   "cell_type": "code",
   "execution_count": 18,
   "metadata": {},
   "outputs": [],
   "source": [
    "freq = \"1min\"\n",
    "context_length = 50\n",
    "prediction_length = 50"
   ]
  },
  {
   "cell_type": "code",
   "execution_count": 19,
   "metadata": {},
   "outputs": [],
   "source": [
    "dftrain = df[:-(prediction_length)]"
   ]
  },
  {
   "cell_type": "markdown",
   "metadata": {},
   "source": [
    "## Format data into json "
   ]
  },
  {
   "cell_type": "code",
   "execution_count": 20,
   "metadata": {},
   "outputs": [],
   "source": [
    "def series_to_obj(ts, cat=None):\n",
    "    obj = {\"start\": str(ts.index[0]), \"target\": list(ts)}\n",
    "    if cat is not None:\n",
    "        obj[\"cat\"] = cat\n",
    "    return obj\n",
    "\n",
    "def series_to_jsonline(ts, cat=None):\n",
    "    return json.dumps(series_to_obj(ts, cat))"
   ]
  },
  {
   "cell_type": "code",
   "execution_count": 21,
   "metadata": {},
   "outputs": [],
   "source": [
    "time_series_test=[]\n",
    "vm_index_range = df['VM'].unique()\n",
    "for i in vm_index_range:\n",
    "    newseries = df[df['VM'] == i]['target']\n",
    "    del newseries.index.name\n",
    "    newseries.index = pd.to_datetime(newseries.index)\n",
    "    time_series_test.append(newseries)\n",
    "    #time_series_test = time_series_test.fillna(0)\n"
   ]
  },
  {
   "cell_type": "code",
   "execution_count": 22,
   "metadata": {},
   "outputs": [],
   "source": [
    "time_series_training=[]\n",
    "vm_index_range = df['VM'].unique()\n",
    "for i in vm_index_range:\n",
    "    newseries = df[df['VM'] == i]['target']\n",
    "    del newseries.index.name\n",
    "    newseries.index = pd.to_datetime(newseries.index)\n",
    "    time_series_training.append(newseries[:-prediction_length])\n",
    "    #time_series_training = time_series_training.fillna(0)\n",
    "    \n"
   ]
  },
  {
   "cell_type": "markdown",
   "metadata": {},
   "source": [
    "## Push the json files to S3 bucket"
   ]
  },
  {
   "cell_type": "code",
   "execution_count": 23,
   "metadata": {},
   "outputs": [],
   "source": [
    "s3filesystem = s3fs.S3FileSystem()"
   ]
  },
  {
   "cell_type": "code",
   "execution_count": 24,
   "metadata": {},
   "outputs": [],
   "source": [
    "encoding = \"utf-8\"\n",
    "\n",
    "with s3filesystem.open(s3_data_path + \"/test/test_data.json\", 'wb') as fp:\n",
    "    for ts in time_series_test:\n",
    "        fp.write(series_to_jsonline(ts).encode(encoding))\n",
    "        fp.write('\\n'.encode(encoding)) "
   ]
  },
  {
   "cell_type": "code",
   "execution_count": 25,
   "metadata": {},
   "outputs": [],
   "source": [
    "with s3filesystem.open(s3_data_path + \"/train/train_data.json\", 'wb') as fp:\n",
    "    for ts in time_series_training:\n",
    "        fp.write(series_to_jsonline(ts).encode(encoding))\n",
    "        fp.write('\\n'.encode(encoding)) "
   ]
  },
  {
   "cell_type": "code",
   "execution_count": 26,
   "metadata": {},
   "outputs": [],
   "source": [
    "estimator = sagemaker.estimator.Estimator(\n",
    "    sagemaker_session=sagemaker_session,\n",
    "    image_name=image_name,\n",
    "    role=role,\n",
    "    train_instance_count=1,\n",
    "    train_instance_type='ml.c4.xlarge',\n",
    "    base_job_name='test-demo-deepar',\n",
    "    output_path=\"s3://\" + s3_output_path\n",
    ")"
   ]
  },
  {
   "cell_type": "markdown",
   "metadata": {},
   "source": [
    "## Set hyperparameters"
   ]
  },
  {
   "cell_type": "code",
   "execution_count": 27,
   "metadata": {},
   "outputs": [],
   "source": [
    "# sagemaker automatically adds lags, so context length can be shorter than seasons"
   ]
  },
  {
   "cell_type": "code",
   "execution_count": 28,
   "metadata": {},
   "outputs": [],
   "source": [
    "hyperparameters  = {\n",
    "    \"time_freq\": freq,\n",
    "    \"context_length\": context_length,\n",
    "    \"prediction_length\": prediction_length,\n",
    "    \"num_cells\": \"40\",\n",
    "    \"num_layers\": \"2\",\n",
    "    \"likelihood\": \"student-t\",\n",
    "    \"epochs\": \"20\",\n",
    "    \"mini_batch_size\": \"32\",\n",
    "    \"learning_rate\": \"0.001\",\n",
    "    \"dropout_rate\": \"0.05\",\n",
    "    \"early_stopping_patience\": \"10\"\n",
    "}"
   ]
  },
  {
   "cell_type": "code",
   "execution_count": 29,
   "metadata": {},
   "outputs": [],
   "source": [
    "estimator.set_hyperparameters(**hyperparameters)"
   ]
  },
  {
   "cell_type": "markdown",
   "metadata": {},
   "source": [
    "## Train model"
   ]
  },
  {
   "cell_type": "code",
   "execution_count": 30,
   "metadata": {},
   "outputs": [
    {
     "name": "stderr",
     "output_type": "stream",
     "text": [
      "INFO:sagemaker:Creating training-job with name: test-demo-deepar-2018-06-21-22-27-12-459\n"
     ]
    },
    {
     "name": "stdout",
     "output_type": "stream",
     "text": [
      ".....................\n",
      "\u001b[31mArguments: train\u001b[0m\n",
      "\u001b[31m[06/21/2018 22:30:33 INFO 140337100830528] Reading default configuration from /opt/amazon/lib/python2.7/site-packages/algorithm/default-input.json: {u'dropout_rate': u'0.10', u'cardinality': u'', u'test_quantiles': u'[0.1, 0.2, 0.3, 0.4, 0.5, 0.6, 0.7, 0.8, 0.9]', u'_tuning_objective_metric': u'', u'_num_gpus': u'auto', u'learning_rate': u'0.001', u'num_cells': u'40', u'num_layers': u'2', u'embedding_dimension': u'', u'_kvstore': u'auto', u'_num_kv_servers': u'auto', u'mini_batch_size': u'32', u'likelihood': u'student-t', u'early_stopping_patience': u''}\u001b[0m\n",
      "\u001b[31m[06/21/2018 22:30:33 INFO 140337100830528] Reading provided configuration from /opt/ml/input/config/hyperparameters.json: {u'dropout_rate': u'0.05', u'learning_rate': u'0.001', u'num_cells': u'40', u'prediction_length': u'50', u'epochs': u'20', u'time_freq': u'1min', u'context_length': u'50', u'num_layers': u'2', u'mini_batch_size': u'32', u'likelihood': u'student-t', u'early_stopping_patience': u'10'}\u001b[0m\n",
      "\u001b[31m[06/21/2018 22:30:33 INFO 140337100830528] Final configuration: {u'dropout_rate': u'0.05', u'test_quantiles': u'[0.1, 0.2, 0.3, 0.4, 0.5, 0.6, 0.7, 0.8, 0.9]', u'_tuning_objective_metric': u'', u'learning_rate': u'0.001', u'num_layers': u'2', u'epochs': u'20', u'embedding_dimension': u'', u'num_cells': u'40', u'_num_kv_servers': u'auto', u'cardinality': u'', u'likelihood': u'student-t', u'mini_batch_size': u'32', u'_num_gpus': u'auto', u'prediction_length': u'50', u'time_freq': u'1min', u'context_length': u'50', u'_kvstore': u'auto', u'early_stopping_patience': u'10'}\u001b[0m\n",
      "\u001b[31m[06/21/2018 22:30:33 INFO 140337100830528] Detected entry point for worker worker\u001b[0m\n",
      "\u001b[31m[06/21/2018 22:30:33 INFO 140337100830528] nvidia-smi took: 0.0252161026001 secs to identify 0 gpus\u001b[0m\n",
      "\u001b[31m[06/21/2018 22:30:33 INFO 140337100830528] Number of GPUs being used: 0\u001b[0m\n",
      "\u001b[31m[06/21/2018 22:30:35 INFO 140337100830528] Training set statistics:\u001b[0m\n",
      "\u001b[31m[06/21/2018 22:30:35 INFO 140337100830528] Real timeseries\u001b[0m\n",
      "\u001b[31m[06/21/2018 22:30:35 INFO 140337100830528] number of timeseries: 111\u001b[0m\n",
      "\u001b[31m[06/21/2018 22:30:35 INFO 140337100830528] number of observations: 13316715\u001b[0m\n",
      "\u001b[31m[06/21/2018 22:30:35 INFO 140337100830528] mean target length: 119970\u001b[0m\n",
      "\u001b[31m[06/21/2018 22:30:35 INFO 140337100830528] min/mean/max target: 0.0/376.707365761/11454.3125\u001b[0m\n",
      "\u001b[31m[06/21/2018 22:30:35 INFO 140337100830528] mean abs(target): 376.707365761\u001b[0m\n",
      "\u001b[31m[06/21/2018 22:30:35 INFO 140337100830528] Small number of time-series. Doing 3 number of passes over dataset per epoch.\u001b[0m\n",
      "\u001b[31m[06/21/2018 22:30:36 INFO 140337100830528] Test set statistics:\u001b[0m\n",
      "\u001b[31m[06/21/2018 22:30:36 INFO 140337100830528] Real timeseries\u001b[0m\n",
      "\u001b[31m[06/21/2018 22:30:36 INFO 140337100830528] number of timeseries: 111\u001b[0m\n",
      "\u001b[31m[06/21/2018 22:30:36 INFO 140337100830528] number of observations: 13322265\u001b[0m\n",
      "\u001b[31m[06/21/2018 22:30:36 INFO 140337100830528] mean target length: 120020\u001b[0m\n",
      "\u001b[31m[06/21/2018 22:30:36 INFO 140337100830528] min/mean/max target: 0.0/376.60888636/11454.3125\u001b[0m\n",
      "\u001b[31m[06/21/2018 22:30:36 INFO 140337100830528] mean abs(target): 376.60888636\u001b[0m\n",
      "\u001b[31m[06/21/2018 22:30:36 INFO 140337100830528] Create Store: local\u001b[0m\n",
      "\u001b[31m#metrics {\"Metrics\": {\"get_graph.time\": {\"count\": 1, \"max\": 280.21883964538574, \"sum\": 280.21883964538574, \"min\": 280.21883964538574}}, \"EndTime\": 1529620236.436011, \"Dimensions\": {\"Host\": \"algo-1\", \"Operation\": \"training\", \"Algorithm\": \"AWS/DeepAR\"}, \"StartTime\": 1529620236.153773}\n",
      "\u001b[0m\n",
      "\u001b[31m[06/21/2018 22:30:36 INFO 140337100830528] Number of GPUs being used: 0\u001b[0m\n",
      "\u001b[31m#metrics {\"Metrics\": {\"initialize.time\": {\"count\": 1, \"max\": 612.2851371765137, \"sum\": 612.2851371765137, \"min\": 612.2851371765137}}, \"EndTime\": 1529620236.766124, \"Dimensions\": {\"Host\": \"algo-1\", \"Operation\": \"training\", \"Algorithm\": \"AWS/DeepAR\"}, \"StartTime\": 1529620236.436093}\n",
      "\u001b[0m\n",
      "\u001b[31m[06/21/2018 22:30:36 INFO 140337100830528] Using early stopping with patience 10\u001b[0m\n",
      "\u001b[31m[06/21/2018 22:30:37 INFO 140337100830528] Epoch[0] Batch[0] avg_epoch_loss=7.565414\u001b[0m\n",
      "\u001b[31m[06/21/2018 22:30:39 INFO 140337100830528] Epoch[0] Batch[5] avg_epoch_loss=6.363113\u001b[0m\n",
      "\u001b[31m[06/21/2018 22:30:39 INFO 140337100830528] Epoch[0] Batch [5]#011Speed: 68.49 samples/sec#011loss=6.363113\u001b[0m\n",
      "\u001b[31m[06/21/2018 22:30:41 INFO 140337100830528] Epoch[0] Batch[10] avg_epoch_loss=6.097289\u001b[0m\n",
      "\u001b[31m[06/21/2018 22:30:41 INFO 140337100830528] Epoch[0] Batch [10]#011Speed: 77.43 samples/sec#011loss=5.778300\u001b[0m\n",
      "\u001b[31m[06/21/2018 22:30:41 INFO 140337100830528] processed a total of 331 examples\u001b[0m\n",
      "\u001b[31m#metrics {\"Metrics\": {\"epochs\": {\"count\": 1, \"max\": 20, \"sum\": 20.0, \"min\": 20}, \"update.time\": {\"count\": 1, \"max\": 4997.9188442230225, \"sum\": 4997.9188442230225, \"min\": 4997.9188442230225}}, \"EndTime\": 1529620241.781432, \"Dimensions\": {\"Host\": \"algo-1\", \"Operation\": \"training\", \"Algorithm\": \"AWS/DeepAR\"}, \"StartTime\": 1529620236.766189}\n",
      "\u001b[0m\n",
      "\u001b[31m[06/21/2018 22:30:41 INFO 140337100830528] #throughput_metric: host=algo-1, train throughput=66.2258947533 records/second\u001b[0m\n",
      "\u001b[31m[06/21/2018 22:30:41 INFO 140337100830528] #progress_metric: host=algo-1, completed 5 % of epochs\u001b[0m\n",
      "\u001b[31m[06/21/2018 22:30:41 INFO 140337100830528] best epoch loss so far\u001b[0m\n",
      "\u001b[31m[06/21/2018 22:30:41 INFO 140337100830528] Saved checkpoint to \"/opt/ml/model/state_1b333e14-6ecb-43bc-940f-f49413dc721a-0000.params\"\u001b[0m\n",
      "\u001b[31m#metrics {\"Metrics\": {\"state.serialize.time\": {\"count\": 1, \"max\": 33.55813026428223, \"sum\": 33.55813026428223, \"min\": 33.55813026428223}}, \"EndTime\": 1529620241.815526, \"Dimensions\": {\"Host\": \"algo-1\", \"Operation\": \"training\", \"Algorithm\": \"AWS/DeepAR\"}, \"StartTime\": 1529620241.78152}\n",
      "\u001b[0m\n",
      "\u001b[31m[06/21/2018 22:30:42 INFO 140337100830528] Epoch[1] Batch[0] avg_epoch_loss=6.148749\u001b[0m\n",
      "\u001b[31m[06/21/2018 22:30:44 INFO 140337100830528] Epoch[1] Batch[5] avg_epoch_loss=5.805152\u001b[0m\n",
      "\u001b[31m[06/21/2018 22:30:44 INFO 140337100830528] Epoch[1] Batch [5]#011Speed: 74.50 samples/sec#011loss=5.805152\u001b[0m\n",
      "\u001b[31m[06/21/2018 22:30:46 INFO 140337100830528] Epoch[1] Batch[10] avg_epoch_loss=5.562505\u001b[0m\n",
      "\u001b[31m[06/21/2018 22:30:46 INFO 140337100830528] Epoch[1] Batch [10]#011Speed: 73.08 samples/sec#011loss=5.271328\u001b[0m\n",
      "\u001b[31m[06/21/2018 22:30:46 INFO 140337100830528] processed a total of 346 examples\u001b[0m\n",
      "\u001b[31m#metrics {\"Metrics\": {\"update.time\": {\"count\": 1, \"max\": 4798.550844192505, \"sum\": 4798.550844192505, \"min\": 4798.550844192505}}, \"EndTime\": 1529620246.629421, \"Dimensions\": {\"Host\": \"algo-1\", \"Operation\": \"training\", \"Algorithm\": \"AWS/DeepAR\"}, \"StartTime\": 1529620241.815593}\n",
      "\u001b[0m\n",
      "\u001b[31m[06/21/2018 22:30:46 INFO 140337100830528] #throughput_metric: host=algo-1, train throughput=72.103504606 records/second\u001b[0m\n",
      "\u001b[31m[06/21/2018 22:30:46 INFO 140337100830528] #progress_metric: host=algo-1, completed 10 % of epochs\u001b[0m\n",
      "\u001b[31m[06/21/2018 22:30:46 INFO 140337100830528] best epoch loss so far\u001b[0m\n",
      "\u001b[31m[06/21/2018 22:30:46 INFO 140337100830528] Saved checkpoint to \"/opt/ml/model/state_f055f02e-c7ea-4adb-924f-c2f5d53902e3-0000.params\"\u001b[0m\n",
      "\u001b[31m#metrics {\"Metrics\": {\"state.serialize.time\": {\"count\": 1, \"max\": 32.85098075866699, \"sum\": 32.85098075866699, \"min\": 32.85098075866699}}, \"EndTime\": 1529620246.662705, \"Dimensions\": {\"Host\": \"algo-1\", \"Operation\": \"training\", \"Algorithm\": \"AWS/DeepAR\"}, \"StartTime\": 1529620246.62949}\n",
      "\u001b[0m\n",
      "\u001b[31m[06/21/2018 22:30:47 INFO 140337100830528] Epoch[2] Batch[0] avg_epoch_loss=4.921230\u001b[0m\n",
      "\u001b[31m[06/21/2018 22:30:49 INFO 140337100830528] Epoch[2] Batch[5] avg_epoch_loss=4.740669\u001b[0m\n",
      "\u001b[31m[06/21/2018 22:30:49 INFO 140337100830528] Epoch[2] Batch [5]#011Speed: 64.48 samples/sec#011loss=4.740669\u001b[0m\n",
      "\u001b[31m[06/21/2018 22:30:51 INFO 140337100830528] Epoch[2] Batch[10] avg_epoch_loss=4.779450\u001b[0m\n",
      "\u001b[31m[06/21/2018 22:30:51 INFO 140337100830528] Epoch[2] Batch [10]#011Speed: 84.02 samples/sec#011loss=4.825986\u001b[0m\n",
      "\u001b[31m[06/21/2018 22:30:51 INFO 140337100830528] processed a total of 325 examples\u001b[0m\n",
      "\u001b[31m#metrics {\"Metrics\": {\"update.time\": {\"count\": 1, \"max\": 4844.470024108887, \"sum\": 4844.470024108887, \"min\": 4844.470024108887}}, \"EndTime\": 1529620251.523927, \"Dimensions\": {\"Host\": \"algo-1\", \"Operation\": \"training\", \"Algorithm\": \"AWS/DeepAR\"}, \"StartTime\": 1529620246.662777}\n",
      "\u001b[0m\n",
      "\u001b[31m[06/21/2018 22:30:51 INFO 140337100830528] #throughput_metric: host=algo-1, train throughput=67.0851971681 records/second\u001b[0m\n",
      "\u001b[31m[06/21/2018 22:30:51 INFO 140337100830528] #progress_metric: host=algo-1, completed 15 % of epochs\u001b[0m\n",
      "\u001b[31m[06/21/2018 22:30:51 INFO 140337100830528] best epoch loss so far\u001b[0m\n",
      "\u001b[31m[06/21/2018 22:30:51 INFO 140337100830528] Saved checkpoint to \"/opt/ml/model/state_7ad91a32-06d1-4046-af0e-4694b569d2b2-0000.params\"\u001b[0m\n",
      "\u001b[31m#metrics {\"Metrics\": {\"state.serialize.time\": {\"count\": 1, \"max\": 33.744096755981445, \"sum\": 33.744096755981445, \"min\": 33.744096755981445}}, \"EndTime\": 1529620251.5581, \"Dimensions\": {\"Host\": \"algo-1\", \"Operation\": \"training\", \"Algorithm\": \"AWS/DeepAR\"}, \"StartTime\": 1529620251.524005}\n",
      "\u001b[0m\n",
      "\u001b[31m[06/21/2018 22:30:52 INFO 140337100830528] Epoch[3] Batch[0] avg_epoch_loss=5.192383\u001b[0m\n",
      "\u001b[31m[06/21/2018 22:30:54 INFO 140337100830528] Epoch[3] Batch[5] avg_epoch_loss=4.612830\u001b[0m\n",
      "\u001b[31m[06/21/2018 22:30:54 INFO 140337100830528] Epoch[3] Batch [5]#011Speed: 68.88 samples/sec#011loss=4.612830\u001b[0m\n",
      "\u001b[31m[06/21/2018 22:30:56 INFO 140337100830528] processed a total of 320 examples\u001b[0m\n",
      "\u001b[31m#metrics {\"Metrics\": {\"update.time\": {\"count\": 1, \"max\": 4691.612005233765, \"sum\": 4691.612005233765, \"min\": 4691.612005233765}}, \"EndTime\": 1529620256.264603, \"Dimensions\": {\"Host\": \"algo-1\", \"Operation\": \"training\", \"Algorithm\": \"AWS/DeepAR\"}, \"StartTime\": 1529620251.558175}\n",
      "\u001b[0m\n",
      "\u001b[31m[06/21/2018 22:30:56 INFO 140337100830528] #throughput_metric: host=algo-1, train throughput=68.2051319056 records/second\u001b[0m\n",
      "\u001b[31m[06/21/2018 22:30:56 INFO 140337100830528] #progress_metric: host=algo-1, completed 20 % of epochs\u001b[0m\n",
      "\u001b[31m[06/21/2018 22:30:56 INFO 140337100830528] best epoch loss so far\u001b[0m\n",
      "\u001b[31m[06/21/2018 22:30:56 INFO 140337100830528] Saved checkpoint to \"/opt/ml/model/state_8a6e96c2-4ff3-47ca-977d-a97b05de5bd8-0000.params\"\u001b[0m\n",
      "\u001b[31m#metrics {\"Metrics\": {\"state.serialize.time\": {\"count\": 1, \"max\": 32.42015838623047, \"sum\": 32.42015838623047, \"min\": 32.42015838623047}}, \"EndTime\": 1529620256.297483, \"Dimensions\": {\"Host\": \"algo-1\", \"Operation\": \"training\", \"Algorithm\": \"AWS/DeepAR\"}, \"StartTime\": 1529620256.264683}\n",
      "\u001b[0m\n",
      "\u001b[31m[06/21/2018 22:30:56 INFO 140337100830528] Epoch[4] Batch[0] avg_epoch_loss=4.413522\u001b[0m\n",
      "\u001b[31m[06/21/2018 22:30:59 INFO 140337100830528] Epoch[4] Batch[5] avg_epoch_loss=4.259683\u001b[0m\n",
      "\u001b[31m[06/21/2018 22:30:59 INFO 140337100830528] Epoch[4] Batch [5]#011Speed: 72.43 samples/sec#011loss=4.259683\u001b[0m\n",
      "\u001b[31m[06/21/2018 22:31:01 INFO 140337100830528] Epoch[4] Batch[10] avg_epoch_loss=4.273660\u001b[0m\n",
      "\u001b[31m[06/21/2018 22:31:01 INFO 140337100830528] Epoch[4] Batch [10]#011Speed: 79.31 samples/sec#011loss=4.290433\u001b[0m\n",
      "\u001b[31m[06/21/2018 22:31:01 INFO 140337100830528] processed a total of 330 examples\u001b[0m\n",
      "\u001b[31m#metrics {\"Metrics\": {\"update.time\": {\"count\": 1, \"max\": 4719.653129577637, \"sum\": 4719.653129577637, \"min\": 4719.653129577637}}, \"EndTime\": 1529620261.033075, \"Dimensions\": {\"Host\": \"algo-1\", \"Operation\": \"training\", \"Algorithm\": \"AWS/DeepAR\"}, \"StartTime\": 1529620256.297554}\n",
      "\u001b[0m\n",
      "\u001b[31m[06/21/2018 22:31:01 INFO 140337100830528] #throughput_metric: host=algo-1, train throughput=69.9188562189 records/second\u001b[0m\n",
      "\u001b[31m[06/21/2018 22:31:01 INFO 140337100830528] #progress_metric: host=algo-1, completed 25 % of epochs\u001b[0m\n",
      "\u001b[31m[06/21/2018 22:31:01 INFO 140337100830528] best epoch loss so far\u001b[0m\n",
      "\u001b[31m[06/21/2018 22:31:01 INFO 140337100830528] Saved checkpoint to \"/opt/ml/model/state_da29b4af-d65f-499a-9c7b-5f561bb5acf6-0000.params\"\u001b[0m\n",
      "\u001b[31m#metrics {\"Metrics\": {\"state.serialize.time\": {\"count\": 1, \"max\": 32.33003616333008, \"sum\": 32.33003616333008, \"min\": 32.33003616333008}}, \"EndTime\": 1529620261.065845, \"Dimensions\": {\"Host\": \"algo-1\", \"Operation\": \"training\", \"Algorithm\": \"AWS/DeepAR\"}, \"StartTime\": 1529620261.03314}\n",
      "\u001b[0m\n"
     ]
    },
    {
     "name": "stdout",
     "output_type": "stream",
     "text": [
      "\u001b[31m[06/21/2018 22:31:01 INFO 140337100830528] Epoch[5] Batch[0] avg_epoch_loss=4.687178\u001b[0m\n",
      "\u001b[31m[06/21/2018 22:31:03 INFO 140337100830528] Epoch[5] Batch[5] avg_epoch_loss=4.196841\u001b[0m\n",
      "\u001b[31m[06/21/2018 22:31:03 INFO 140337100830528] Epoch[5] Batch [5]#011Speed: 69.00 samples/sec#011loss=4.196841\u001b[0m\n",
      "\u001b[31m[06/21/2018 22:31:05 INFO 140337100830528] Epoch[5] Batch[10] avg_epoch_loss=4.261160\u001b[0m\n",
      "\u001b[31m[06/21/2018 22:31:05 INFO 140337100830528] Epoch[5] Batch [10]#011Speed: 82.11 samples/sec#011loss=4.338342\u001b[0m\n",
      "\u001b[31m[06/21/2018 22:31:06 INFO 140337100830528] processed a total of 363 examples\u001b[0m\n",
      "\u001b[31m#metrics {\"Metrics\": {\"update.time\": {\"count\": 1, \"max\": 4977.885007858276, \"sum\": 4977.885007858276, \"min\": 4977.885007858276}}, \"EndTime\": 1529620266.058338, \"Dimensions\": {\"Host\": \"algo-1\", \"Operation\": \"training\", \"Algorithm\": \"AWS/DeepAR\"}, \"StartTime\": 1529620261.065914}\n",
      "\u001b[0m\n",
      "\u001b[31m[06/21/2018 22:31:06 INFO 140337100830528] #throughput_metric: host=algo-1, train throughput=72.9209576126 records/second\u001b[0m\n",
      "\u001b[31m[06/21/2018 22:31:06 INFO 140337100830528] #progress_metric: host=algo-1, completed 30 % of epochs\u001b[0m\n",
      "\u001b[31m[06/21/2018 22:31:06 INFO 140337100830528] loss did not improve for 1 epochs\u001b[0m\n",
      "\u001b[31m[06/21/2018 22:31:06 INFO 140337100830528] Epoch[6] Batch[0] avg_epoch_loss=4.236587\u001b[0m\n",
      "\u001b[31m[06/21/2018 22:31:08 INFO 140337100830528] Epoch[6] Batch[5] avg_epoch_loss=4.121999\u001b[0m\n",
      "\u001b[31m[06/21/2018 22:31:08 INFO 140337100830528] Epoch[6] Batch [5]#011Speed: 77.07 samples/sec#011loss=4.121999\u001b[0m\n",
      "\u001b[31m[06/21/2018 22:31:10 INFO 140337100830528] Epoch[6] Batch[10] avg_epoch_loss=4.188755\u001b[0m\n",
      "\u001b[31m[06/21/2018 22:31:10 INFO 140337100830528] Epoch[6] Batch [10]#011Speed: 70.27 samples/sec#011loss=4.268861\u001b[0m\n",
      "\u001b[31m[06/21/2018 22:31:10 INFO 140337100830528] processed a total of 345 examples\u001b[0m\n",
      "\u001b[31m#metrics {\"Metrics\": {\"update.time\": {\"count\": 1, \"max\": 4798.232078552246, \"sum\": 4798.232078552246, \"min\": 4798.232078552246}}, \"EndTime\": 1529620270.872144, \"Dimensions\": {\"Host\": \"algo-1\", \"Operation\": \"training\", \"Algorithm\": \"AWS/DeepAR\"}, \"StartTime\": 1529620266.05841}\n",
      "\u001b[0m\n",
      "\u001b[31m[06/21/2018 22:31:10 INFO 140337100830528] #throughput_metric: host=algo-1, train throughput=71.8998212684 records/second\u001b[0m\n",
      "\u001b[31m[06/21/2018 22:31:10 INFO 140337100830528] #progress_metric: host=algo-1, completed 35 % of epochs\u001b[0m\n",
      "\u001b[31m[06/21/2018 22:31:10 INFO 140337100830528] best epoch loss so far\u001b[0m\n",
      "\u001b[31m[06/21/2018 22:31:10 INFO 140337100830528] Saved checkpoint to \"/opt/ml/model/state_aa121c01-65e3-4378-b758-201108f53d61-0000.params\"\u001b[0m\n",
      "\u001b[31m#metrics {\"Metrics\": {\"state.serialize.time\": {\"count\": 1, \"max\": 34.088850021362305, \"sum\": 34.088850021362305, \"min\": 34.088850021362305}}, \"EndTime\": 1529620270.906679, \"Dimensions\": {\"Host\": \"algo-1\", \"Operation\": \"training\", \"Algorithm\": \"AWS/DeepAR\"}, \"StartTime\": 1529620270.872218}\n",
      "\u001b[0m\n",
      "\u001b[31m[06/21/2018 22:31:11 INFO 140337100830528] Epoch[7] Batch[0] avg_epoch_loss=4.326074\u001b[0m\n",
      "\u001b[31m[06/21/2018 22:31:13 INFO 140337100830528] Epoch[7] Batch[5] avg_epoch_loss=4.316729\u001b[0m\n",
      "\u001b[31m[06/21/2018 22:31:13 INFO 140337100830528] Epoch[7] Batch [5]#011Speed: 66.32 samples/sec#011loss=4.316729\u001b[0m\n",
      "\u001b[31m[06/21/2018 22:31:15 INFO 140337100830528] Epoch[7] Batch[10] avg_epoch_loss=4.330391\u001b[0m\n",
      "\u001b[31m[06/21/2018 22:31:15 INFO 140337100830528] Epoch[7] Batch [10]#011Speed: 80.66 samples/sec#011loss=4.346785\u001b[0m\n",
      "\u001b[31m[06/21/2018 22:31:15 INFO 140337100830528] processed a total of 325 examples\u001b[0m\n",
      "\u001b[31m#metrics {\"Metrics\": {\"update.time\": {\"count\": 1, \"max\": 4807.417869567871, \"sum\": 4807.417869567871, \"min\": 4807.417869567871}}, \"EndTime\": 1529620275.729618, \"Dimensions\": {\"Host\": \"algo-1\", \"Operation\": \"training\", \"Algorithm\": \"AWS/DeepAR\"}, \"StartTime\": 1529620270.906749}\n",
      "\u001b[0m\n",
      "\u001b[31m[06/21/2018 22:31:15 INFO 140337100830528] #throughput_metric: host=algo-1, train throughput=67.6021860646 records/second\u001b[0m\n",
      "\u001b[31m[06/21/2018 22:31:15 INFO 140337100830528] #progress_metric: host=algo-1, completed 40 % of epochs\u001b[0m\n",
      "\u001b[31m[06/21/2018 22:31:15 INFO 140337100830528] loss did not improve for 1 epochs\u001b[0m\n",
      "\u001b[31m[06/21/2018 22:31:16 INFO 140337100830528] Epoch[8] Batch[0] avg_epoch_loss=4.135473\u001b[0m\n",
      "\u001b[31m[06/21/2018 22:31:18 INFO 140337100830528] Epoch[8] Batch[5] avg_epoch_loss=3.849238\u001b[0m\n",
      "\u001b[31m[06/21/2018 22:31:18 INFO 140337100830528] Epoch[8] Batch [5]#011Speed: 64.14 samples/sec#011loss=3.849238\u001b[0m\n",
      "\u001b[31m[06/21/2018 22:31:20 INFO 140337100830528] processed a total of 319 examples\u001b[0m\n",
      "\u001b[31m#metrics {\"Metrics\": {\"update.time\": {\"count\": 1, \"max\": 4714.6711349487305, \"sum\": 4714.6711349487305, \"min\": 4714.6711349487305}}, \"EndTime\": 1529620280.45963, \"Dimensions\": {\"Host\": \"algo-1\", \"Operation\": \"training\", \"Algorithm\": \"AWS/DeepAR\"}, \"StartTime\": 1529620275.729699}\n",
      "\u001b[0m\n",
      "\u001b[31m[06/21/2018 22:31:20 INFO 140337100830528] #throughput_metric: host=algo-1, train throughput=67.6595576536 records/second\u001b[0m\n",
      "\u001b[31m[06/21/2018 22:31:20 INFO 140337100830528] #progress_metric: host=algo-1, completed 45 % of epochs\u001b[0m\n",
      "\u001b[31m[06/21/2018 22:31:20 INFO 140337100830528] best epoch loss so far\u001b[0m\n",
      "\u001b[31m[06/21/2018 22:31:20 INFO 140337100830528] Saved checkpoint to \"/opt/ml/model/state_429e7bea-e6a1-4400-81a5-e82da2a0be9a-0000.params\"\u001b[0m\n",
      "\u001b[31m#metrics {\"Metrics\": {\"state.serialize.time\": {\"count\": 1, \"max\": 34.31892395019531, \"sum\": 34.31892395019531, \"min\": 34.31892395019531}}, \"EndTime\": 1529620280.494432, \"Dimensions\": {\"Host\": \"algo-1\", \"Operation\": \"training\", \"Algorithm\": \"AWS/DeepAR\"}, \"StartTime\": 1529620280.4597}\n",
      "\u001b[0m\n",
      "\u001b[31m[06/21/2018 22:31:20 INFO 140337100830528] Epoch[9] Batch[0] avg_epoch_loss=3.807741\u001b[0m\n",
      "\u001b[31m[06/21/2018 22:31:23 INFO 140337100830528] Epoch[9] Batch[5] avg_epoch_loss=4.074061\u001b[0m\n",
      "\u001b[31m[06/21/2018 22:31:23 INFO 140337100830528] Epoch[9] Batch [5]#011Speed: 72.62 samples/sec#011loss=4.074061\u001b[0m\n",
      "\u001b[31m[06/21/2018 22:31:25 INFO 140337100830528] Epoch[9] Batch[10] avg_epoch_loss=4.208518\u001b[0m\n",
      "\u001b[31m[06/21/2018 22:31:25 INFO 140337100830528] Epoch[9] Batch [10]#011Speed: 72.03 samples/sec#011loss=4.369866\u001b[0m\n",
      "\u001b[31m[06/21/2018 22:31:25 INFO 140337100830528] processed a total of 347 examples\u001b[0m\n",
      "\u001b[31m#metrics {\"Metrics\": {\"update.time\": {\"count\": 1, \"max\": 4819.687843322754, \"sum\": 4819.687843322754, \"min\": 4819.687843322754}}, \"EndTime\": 1529620285.329688, \"Dimensions\": {\"Host\": \"algo-1\", \"Operation\": \"training\", \"Algorithm\": \"AWS/DeepAR\"}, \"StartTime\": 1529620280.494497}\n",
      "\u001b[0m\n",
      "\u001b[31m[06/21/2018 22:31:25 INFO 140337100830528] #throughput_metric: host=algo-1, train throughput=71.9947328051 records/second\u001b[0m\n",
      "\u001b[31m[06/21/2018 22:31:25 INFO 140337100830528] #progress_metric: host=algo-1, completed 50 % of epochs\u001b[0m\n",
      "\u001b[31m[06/21/2018 22:31:25 INFO 140337100830528] loss did not improve for 1 epochs\u001b[0m\n",
      "\u001b[31m[06/21/2018 22:31:25 INFO 140337100830528] Epoch[10] Batch[0] avg_epoch_loss=3.733520\u001b[0m\n",
      "\u001b[31m[06/21/2018 22:31:28 INFO 140337100830528] Epoch[10] Batch[5] avg_epoch_loss=3.743032\u001b[0m\n",
      "\u001b[31m[06/21/2018 22:31:28 INFO 140337100830528] Epoch[10] Batch [5]#011Speed: 69.95 samples/sec#011loss=3.743032\u001b[0m\n",
      "\u001b[31m[06/21/2018 22:31:30 INFO 140337100830528] Epoch[10] Batch[10] avg_epoch_loss=3.985054\u001b[0m\n",
      "\u001b[31m[06/21/2018 22:31:30 INFO 140337100830528] Epoch[10] Batch [10]#011Speed: 78.30 samples/sec#011loss=4.275481\u001b[0m\n",
      "\u001b[31m[06/21/2018 22:31:30 INFO 140337100830528] processed a total of 324 examples\u001b[0m\n",
      "\u001b[31m#metrics {\"Metrics\": {\"update.time\": {\"count\": 1, \"max\": 4785.523891448975, \"sum\": 4785.523891448975, \"min\": 4785.523891448975}}, \"EndTime\": 1529620290.130015, \"Dimensions\": {\"Host\": \"algo-1\", \"Operation\": \"training\", \"Algorithm\": \"AWS/DeepAR\"}, \"StartTime\": 1529620285.329757}\n",
      "\u001b[0m\n",
      "\u001b[31m[06/21/2018 22:31:30 INFO 140337100830528] #throughput_metric: host=algo-1, train throughput=67.7025569158 records/second\u001b[0m\n",
      "\u001b[31m[06/21/2018 22:31:30 INFO 140337100830528] #progress_metric: host=algo-1, completed 55 % of epochs\u001b[0m\n",
      "\u001b[31m[06/21/2018 22:31:30 INFO 140337100830528] best epoch loss so far\u001b[0m\n",
      "\u001b[31m[06/21/2018 22:31:30 INFO 140337100830528] Saved checkpoint to \"/opt/ml/model/state_f730169c-1ca5-42a0-91dd-18d87df59f28-0000.params\"\u001b[0m\n",
      "\u001b[31m#metrics {\"Metrics\": {\"state.serialize.time\": {\"count\": 1, \"max\": 32.86409378051758, \"sum\": 32.86409378051758, \"min\": 32.86409378051758}}, \"EndTime\": 1529620290.16334, \"Dimensions\": {\"Host\": \"algo-1\", \"Operation\": \"training\", \"Algorithm\": \"AWS/DeepAR\"}, \"StartTime\": 1529620290.130092}\n",
      "\u001b[0m\n",
      "\u001b[31m[06/21/2018 22:31:30 INFO 140337100830528] Epoch[11] Batch[0] avg_epoch_loss=3.677455\u001b[0m\n"
     ]
    },
    {
     "name": "stdout",
     "output_type": "stream",
     "text": [
      "\u001b[31m[06/21/2018 22:31:32 INFO 140337100830528] Epoch[11] Batch[5] avg_epoch_loss=4.071755\u001b[0m\n",
      "\u001b[31m[06/21/2018 22:31:32 INFO 140337100830528] Epoch[11] Batch [5]#011Speed: 68.25 samples/sec#011loss=4.071755\u001b[0m\n",
      "\u001b[31m[06/21/2018 22:31:34 INFO 140337100830528] Epoch[11] Batch[10] avg_epoch_loss=4.093393\u001b[0m\n",
      "\u001b[31m[06/21/2018 22:31:34 INFO 140337100830528] Epoch[11] Batch [10]#011Speed: 76.39 samples/sec#011loss=4.119359\u001b[0m\n",
      "\u001b[31m[06/21/2018 22:31:34 INFO 140337100830528] processed a total of 331 examples\u001b[0m\n",
      "\u001b[31m#metrics {\"Metrics\": {\"update.time\": {\"count\": 1, \"max\": 4808.005094528198, \"sum\": 4808.005094528198, \"min\": 4808.005094528198}}, \"EndTime\": 1529620294.986791, \"Dimensions\": {\"Host\": \"algo-1\", \"Operation\": \"training\", \"Algorithm\": \"AWS/DeepAR\"}, \"StartTime\": 1529620290.163404}\n",
      "\u001b[0m\n",
      "\u001b[31m[06/21/2018 22:31:34 INFO 140337100830528] #throughput_metric: host=algo-1, train throughput=68.8420053694 records/second\u001b[0m\n",
      "\u001b[31m[06/21/2018 22:31:34 INFO 140337100830528] #progress_metric: host=algo-1, completed 60 % of epochs\u001b[0m\n",
      "\u001b[31m[06/21/2018 22:31:34 INFO 140337100830528] loss did not improve for 1 epochs\u001b[0m\n",
      "\u001b[31m[06/21/2018 22:31:35 INFO 140337100830528] Epoch[12] Batch[0] avg_epoch_loss=3.667878\u001b[0m\n",
      "\u001b[31m[06/21/2018 22:31:37 INFO 140337100830528] Epoch[12] Batch[5] avg_epoch_loss=3.805247\u001b[0m\n",
      "\u001b[31m[06/21/2018 22:31:37 INFO 140337100830528] Epoch[12] Batch [5]#011Speed: 72.70 samples/sec#011loss=3.805247\u001b[0m\n",
      "\u001b[31m[06/21/2018 22:31:39 INFO 140337100830528] Epoch[12] Batch[10] avg_epoch_loss=3.725298\u001b[0m\n",
      "\u001b[31m[06/21/2018 22:31:39 INFO 140337100830528] Epoch[12] Batch [10]#011Speed: 70.16 samples/sec#011loss=3.629360\u001b[0m\n",
      "\u001b[31m[06/21/2018 22:31:39 INFO 140337100830528] processed a total of 349 examples\u001b[0m\n",
      "\u001b[31m#metrics {\"Metrics\": {\"update.time\": {\"count\": 1, \"max\": 4899.054050445557, \"sum\": 4899.054050445557, \"min\": 4899.054050445557}}, \"EndTime\": 1529620299.900985, \"Dimensions\": {\"Host\": \"algo-1\", \"Operation\": \"training\", \"Algorithm\": \"AWS/DeepAR\"}, \"StartTime\": 1529620294.986862}\n",
      "\u001b[0m\n",
      "\u001b[31m[06/21/2018 22:31:39 INFO 140337100830528] #throughput_metric: host=algo-1, train throughput=71.2366442007 records/second\u001b[0m\n",
      "\u001b[31m[06/21/2018 22:31:39 INFO 140337100830528] #progress_metric: host=algo-1, completed 65 % of epochs\u001b[0m\n",
      "\u001b[31m[06/21/2018 22:31:39 INFO 140337100830528] best epoch loss so far\u001b[0m\n",
      "\u001b[31m[06/21/2018 22:31:39 INFO 140337100830528] Saved checkpoint to \"/opt/ml/model/state_a85737d4-d658-4b9d-948d-39d99ce86a01-0000.params\"\u001b[0m\n",
      "\u001b[31m#metrics {\"Metrics\": {\"state.serialize.time\": {\"count\": 1, \"max\": 51.86915397644043, \"sum\": 51.86915397644043, \"min\": 51.86915397644043}}, \"EndTime\": 1529620299.953258, \"Dimensions\": {\"Host\": \"algo-1\", \"Operation\": \"training\", \"Algorithm\": \"AWS/DeepAR\"}, \"StartTime\": 1529620299.901061}\n",
      "\u001b[0m\n",
      "\u001b[31m[06/21/2018 22:31:40 INFO 140337100830528] Epoch[13] Batch[0] avg_epoch_loss=3.929093\u001b[0m\n",
      "\u001b[31m[06/21/2018 22:31:42 INFO 140337100830528] Epoch[13] Batch[5] avg_epoch_loss=3.746721\u001b[0m\n",
      "\u001b[31m[06/21/2018 22:31:42 INFO 140337100830528] Epoch[13] Batch [5]#011Speed: 69.98 samples/sec#011loss=3.746721\u001b[0m\n",
      "\u001b[31m[06/21/2018 22:31:44 INFO 140337100830528] Epoch[13] Batch[10] avg_epoch_loss=3.963625\u001b[0m\n",
      "\u001b[31m[06/21/2018 22:31:44 INFO 140337100830528] Epoch[13] Batch [10]#011Speed: 78.52 samples/sec#011loss=4.223910\u001b[0m\n",
      "\u001b[31m[06/21/2018 22:31:44 INFO 140337100830528] processed a total of 354 examples\u001b[0m\n",
      "\u001b[31m#metrics {\"Metrics\": {\"update.time\": {\"count\": 1, \"max\": 4876.168966293335, \"sum\": 4876.168966293335, \"min\": 4876.168966293335}}, \"EndTime\": 1529620304.849556, \"Dimensions\": {\"Host\": \"algo-1\", \"Operation\": \"training\", \"Algorithm\": \"AWS/DeepAR\"}, \"StartTime\": 1529620299.95333}\n",
      "\u001b[0m\n",
      "\u001b[31m[06/21/2018 22:31:44 INFO 140337100830528] #throughput_metric: host=algo-1, train throughput=72.5964430773 records/second\u001b[0m\n",
      "\u001b[31m[06/21/2018 22:31:44 INFO 140337100830528] #progress_metric: host=algo-1, completed 70 % of epochs\u001b[0m\n",
      "\u001b[31m[06/21/2018 22:31:44 INFO 140337100830528] loss did not improve for 1 epochs\u001b[0m\n",
      "\u001b[31m[06/21/2018 22:31:45 INFO 140337100830528] Epoch[14] Batch[0] avg_epoch_loss=4.194965\u001b[0m\n",
      "\u001b[31m[06/21/2018 22:31:47 INFO 140337100830528] Epoch[14] Batch[5] avg_epoch_loss=3.853434\u001b[0m\n",
      "\u001b[31m[06/21/2018 22:31:47 INFO 140337100830528] Epoch[14] Batch [5]#011Speed: 70.11 samples/sec#011loss=3.853434\u001b[0m\n",
      "\u001b[31m[06/21/2018 22:31:49 INFO 140337100830528] Epoch[14] Batch[10] avg_epoch_loss=3.903183\u001b[0m\n",
      "\u001b[31m[06/21/2018 22:31:49 INFO 140337100830528] Epoch[14] Batch [10]#011Speed: 79.72 samples/sec#011loss=3.962881\u001b[0m\n",
      "\u001b[31m[06/21/2018 22:31:49 INFO 140337100830528] processed a total of 346 examples\u001b[0m\n",
      "\u001b[31m#metrics {\"Metrics\": {\"update.time\": {\"count\": 1, \"max\": 4788.439035415649, \"sum\": 4788.439035415649, \"min\": 4788.439035415649}}, \"EndTime\": 1529620309.654104, \"Dimensions\": {\"Host\": \"algo-1\", \"Operation\": \"training\", \"Algorithm\": \"AWS/DeepAR\"}, \"StartTime\": 1529620304.849624}\n",
      "\u001b[0m\n",
      "\u001b[31m[06/21/2018 22:31:49 INFO 140337100830528] #throughput_metric: host=algo-1, train throughput=72.2558602646 records/second\u001b[0m\n",
      "\u001b[31m[06/21/2018 22:31:49 INFO 140337100830528] #progress_metric: host=algo-1, completed 75 % of epochs\u001b[0m\n",
      "\u001b[31m[06/21/2018 22:31:49 INFO 140337100830528] loss did not improve for 2 epochs\u001b[0m\n",
      "\u001b[31m[06/21/2018 22:31:50 INFO 140337100830528] Epoch[15] Batch[0] avg_epoch_loss=3.831819\u001b[0m\n",
      "\u001b[31m[06/21/2018 22:31:52 INFO 140337100830528] Epoch[15] Batch[5] avg_epoch_loss=3.857065\u001b[0m\n",
      "\u001b[31m[06/21/2018 22:31:52 INFO 140337100830528] Epoch[15] Batch [5]#011Speed: 70.17 samples/sec#011loss=3.857065\u001b[0m\n",
      "\u001b[31m[06/21/2018 22:31:54 INFO 140337100830528] Epoch[15] Batch[10] avg_epoch_loss=3.950804\u001b[0m\n",
      "\u001b[31m[06/21/2018 22:31:54 INFO 140337100830528] Epoch[15] Batch [10]#011Speed: 76.69 samples/sec#011loss=4.063290\u001b[0m\n",
      "\u001b[31m[06/21/2018 22:31:54 INFO 140337100830528] processed a total of 361 examples\u001b[0m\n",
      "\u001b[31m#metrics {\"Metrics\": {\"update.time\": {\"count\": 1, \"max\": 4954.912900924683, \"sum\": 4954.912900924683, \"min\": 4954.912900924683}}, \"EndTime\": 1529620314.624008, \"Dimensions\": {\"Host\": \"algo-1\", \"Operation\": \"training\", \"Algorithm\": \"AWS/DeepAR\"}, \"StartTime\": 1529620309.65417}\n",
      "\u001b[0m\n",
      "\u001b[31m[06/21/2018 22:31:54 INFO 140337100830528] #throughput_metric: host=algo-1, train throughput=72.8553483716 records/second\u001b[0m\n",
      "\u001b[31m[06/21/2018 22:31:54 INFO 140337100830528] #progress_metric: host=algo-1, completed 80 % of epochs\u001b[0m\n",
      "\u001b[31m[06/21/2018 22:31:54 INFO 140337100830528] loss did not improve for 3 epochs\u001b[0m\n",
      "\u001b[31m[06/21/2018 22:31:55 INFO 140337100830528] Epoch[16] Batch[0] avg_epoch_loss=4.484296\u001b[0m\n",
      "\u001b[31m[06/21/2018 22:31:57 INFO 140337100830528] Epoch[16] Batch[5] avg_epoch_loss=4.389161\u001b[0m\n",
      "\u001b[31m[06/21/2018 22:31:57 INFO 140337100830528] Epoch[16] Batch [5]#011Speed: 68.53 samples/sec#011loss=4.389161\u001b[0m\n",
      "\u001b[31m[06/21/2018 22:31:59 INFO 140337100830528] processed a total of 320 examples\u001b[0m\n",
      "\u001b[31m#metrics {\"Metrics\": {\"update.time\": {\"count\": 1, \"max\": 4776.010990142822, \"sum\": 4776.010990142822, \"min\": 4776.010990142822}}, \"EndTime\": 1529620319.416273, \"Dimensions\": {\"Host\": \"algo-1\", \"Operation\": \"training\", \"Algorithm\": \"AWS/DeepAR\"}, \"StartTime\": 1529620314.624079}\n",
      "\u001b[0m\n",
      "\u001b[31m[06/21/2018 22:31:59 INFO 140337100830528] #throughput_metric: host=algo-1, train throughput=66.99982179 records/second\u001b[0m\n",
      "\u001b[31m[06/21/2018 22:31:59 INFO 140337100830528] #progress_metric: host=algo-1, completed 85 % of epochs\u001b[0m\n",
      "\u001b[31m[06/21/2018 22:31:59 INFO 140337100830528] loss did not improve for 4 epochs\u001b[0m\n",
      "\u001b[31m[06/21/2018 22:31:59 INFO 140337100830528] Epoch[17] Batch[0] avg_epoch_loss=4.342468\u001b[0m\n",
      "\u001b[31m[06/21/2018 22:32:02 INFO 140337100830528] Epoch[17] Batch[5] avg_epoch_loss=3.979672\u001b[0m\n",
      "\u001b[31m[06/21/2018 22:32:02 INFO 140337100830528] Epoch[17] Batch [5]#011Speed: 71.37 samples/sec#011loss=3.979672\u001b[0m\n",
      "\u001b[31m[06/21/2018 22:32:04 INFO 140337100830528] Epoch[17] Batch[10] avg_epoch_loss=4.069884\u001b[0m\n",
      "\u001b[31m[06/21/2018 22:32:04 INFO 140337100830528] Epoch[17] Batch [10]#011Speed: 77.75 samples/sec#011loss=4.178138\u001b[0m\n",
      "\u001b[31m[06/21/2018 22:32:04 INFO 140337100830528] processed a total of 337 examples\u001b[0m\n",
      "\u001b[31m#metrics {\"Metrics\": {\"update.time\": {\"count\": 1, \"max\": 4772.228002548218, \"sum\": 4772.228002548218, \"min\": 4772.228002548218}}, \"EndTime\": 1529620324.2028, \"Dimensions\": {\"Host\": \"algo-1\", \"Operation\": \"training\", \"Algorithm\": \"AWS/DeepAR\"}, \"StartTime\": 1529620319.416357}\n",
      "\u001b[0m\n",
      "\u001b[31m[06/21/2018 22:32:04 INFO 140337100830528] #throughput_metric: host=algo-1, train throughput=70.6153128289 records/second\u001b[0m\n",
      "\u001b[31m[06/21/2018 22:32:04 INFO 140337100830528] #progress_metric: host=algo-1, completed 90 % of epochs\u001b[0m\n",
      "\u001b[31m[06/21/2018 22:32:04 INFO 140337100830528] loss did not improve for 5 epochs\u001b[0m\n",
      "\u001b[31m[06/21/2018 22:32:04 INFO 140337100830528] Epoch[18] Batch[0] avg_epoch_loss=3.819661\u001b[0m\n",
      "\u001b[31m[06/21/2018 22:32:06 INFO 140337100830528] Epoch[18] Batch[5] avg_epoch_loss=3.793615\u001b[0m\n",
      "\u001b[31m[06/21/2018 22:32:06 INFO 140337100830528] Epoch[18] Batch [5]#011Speed: 69.05 samples/sec#011loss=3.793615\u001b[0m\n",
      "\u001b[31m[06/21/2018 22:32:08 INFO 140337100830528] Epoch[18] Batch[10] avg_epoch_loss=4.034376\u001b[0m\n",
      "\u001b[31m[06/21/2018 22:32:08 INFO 140337100830528] Epoch[18] Batch [10]#011Speed: 80.40 samples/sec#011loss=4.323290\u001b[0m\n",
      "\u001b[31m[06/21/2018 22:32:08 INFO 140337100830528] processed a total of 335 examples\u001b[0m\n",
      "\u001b[31m#metrics {\"Metrics\": {\"update.time\": {\"count\": 1, \"max\": 4730.5748462677, \"sum\": 4730.5748462677, \"min\": 4730.5748462677}}, \"EndTime\": 1529620328.949491, \"Dimensions\": {\"Host\": \"algo-1\", \"Operation\": \"training\", \"Algorithm\": \"AWS/DeepAR\"}, \"StartTime\": 1529620324.202875}\n",
      "\u001b[0m\n",
      "\u001b[31m[06/21/2018 22:32:08 INFO 140337100830528] #throughput_metric: host=algo-1, train throughput=70.8143725334 records/second\u001b[0m\n",
      "\u001b[31m[06/21/2018 22:32:08 INFO 140337100830528] #progress_metric: host=algo-1, completed 95 % of epochs\u001b[0m\n",
      "\u001b[31m[06/21/2018 22:32:08 INFO 140337100830528] loss did not improve for 6 epochs\u001b[0m\n"
     ]
    },
    {
     "name": "stdout",
     "output_type": "stream",
     "text": [
      "\u001b[31m[06/21/2018 22:32:09 INFO 140337100830528] Epoch[19] Batch[0] avg_epoch_loss=4.079362\u001b[0m\n",
      "\u001b[31m[06/21/2018 22:32:11 INFO 140337100830528] Epoch[19] Batch[5] avg_epoch_loss=3.751457\u001b[0m\n",
      "\u001b[31m[06/21/2018 22:32:11 INFO 140337100830528] Epoch[19] Batch [5]#011Speed: 62.66 samples/sec#011loss=3.751457\u001b[0m\n",
      "\u001b[31m[06/21/2018 22:32:13 INFO 140337100830528] Epoch[19] Batch[10] avg_epoch_loss=3.954017\u001b[0m\n",
      "\u001b[31m[06/21/2018 22:32:13 INFO 140337100830528] Epoch[19] Batch [10]#011Speed: 88.32 samples/sec#011loss=4.197087\u001b[0m\n",
      "\u001b[31m[06/21/2018 22:32:13 INFO 140337100830528] processed a total of 325 examples\u001b[0m\n",
      "\u001b[31m#metrics {\"Metrics\": {\"update.time\": {\"count\": 1, \"max\": 4804.052114486694, \"sum\": 4804.052114486694, \"min\": 4804.052114486694}}, \"EndTime\": 1529620333.768992, \"Dimensions\": {\"Host\": \"algo-1\", \"Operation\": \"training\", \"Algorithm\": \"AWS/DeepAR\"}, \"StartTime\": 1529620328.949558}\n",
      "\u001b[0m\n",
      "\u001b[31m[06/21/2018 22:32:13 INFO 140337100830528] #throughput_metric: host=algo-1, train throughput=67.6498295043 records/second\u001b[0m\n",
      "\u001b[31m[06/21/2018 22:32:13 INFO 140337100830528] #progress_metric: host=algo-1, completed 100 % of epochs\u001b[0m\n",
      "\u001b[31m[06/21/2018 22:32:13 INFO 140337100830528] loss did not improve for 7 epochs\u001b[0m\n",
      "\u001b[31m[06/21/2018 22:32:13 INFO 140337100830528] Loading parameters from best epoch (12)\u001b[0m\n",
      "\u001b[31m#metrics {\"Metrics\": {\"state.deserialize.time\": {\"count\": 1, \"max\": 13.993978500366211, \"sum\": 13.993978500366211, \"min\": 13.993978500366211}}, \"EndTime\": 1529620333.783486, \"Dimensions\": {\"Host\": \"algo-1\", \"Operation\": \"training\", \"Algorithm\": \"AWS/DeepAR\"}, \"StartTime\": 1529620333.769054}\n",
      "\u001b[0m\n",
      "\u001b[31m[06/21/2018 22:32:13 INFO 140337100830528] Final loss: 3.72529840469 (occured at epoch 12)\u001b[0m\n",
      "\u001b[31m[06/21/2018 22:32:13 INFO 140337100830528] #quality_metric: host=algo-1, train final_loss <loss>=3.72529840469\u001b[0m\n",
      "\u001b[31m[06/21/2018 22:32:13 INFO 140337100830528] Creating prediction graph.\u001b[0m\n",
      "\u001b[31m#metrics {\"Metrics\": {\"get_graph.time\": {\"count\": 1, \"max\": 2078.5069465637207, \"sum\": 2078.5069465637207, \"min\": 2078.5069465637207}}, \"EndTime\": 1529620335.862463, \"Dimensions\": {\"Host\": \"algo-1\", \"Operation\": \"training\", \"Algorithm\": \"AWS/DeepAR\"}, \"StartTime\": 1529620333.783564}\n",
      "\u001b[0m\n",
      "\u001b[31m[06/21/2018 22:32:17 INFO 140337100830528] Number of GPUs being used: 0\u001b[0m\n",
      "\u001b[31m#metrics {\"Metrics\": {\"finalize.time\": {\"count\": 1, \"max\": 3841.9029712677, \"sum\": 3841.9029712677, \"min\": 3841.9029712677}}, \"EndTime\": 1529620337.625832, \"Dimensions\": {\"Host\": \"algo-1\", \"Operation\": \"training\", \"Algorithm\": \"AWS/DeepAR\"}, \"StartTime\": 1529620335.862531}\n",
      "\u001b[0m\n",
      "\u001b[31m[06/21/2018 22:32:17 INFO 140337100830528] Serializing to /opt/ml/model/model_algo-1\u001b[0m\n",
      "\u001b[31m[06/21/2018 22:32:17 INFO 140337100830528] Saved checkpoint to \"/opt/ml/model/model_algo-1-0000.params\"\u001b[0m\n",
      "\u001b[31m#metrics {\"Metrics\": {\"model.serialize.time\": {\"count\": 1, \"max\": 279.6900272369385, \"sum\": 279.6900272369385, \"min\": 279.6900272369385}}, \"EndTime\": 1529620337.905646, \"Dimensions\": {\"Host\": \"algo-1\", \"Operation\": \"training\", \"Algorithm\": \"AWS/DeepAR\"}, \"StartTime\": 1529620337.625911}\n",
      "\u001b[0m\n",
      "\u001b[31m[06/21/2018 22:32:17 INFO 140337100830528] Successfully created prediction graph and serialized the model.\u001b[0m\n",
      "\u001b[31m[06/21/2018 22:32:17 INFO 140337100830528] Evaluating model accuracy on testset using 100 samples\u001b[0m\n",
      "\u001b[31m#metrics {\"Metrics\": {\"model.bind.time\": {\"count\": 1, \"max\": 0.03695487976074219, \"sum\": 0.03695487976074219, \"min\": 0.03695487976074219}}, \"EndTime\": 1529620337.906997, \"Dimensions\": {\"Host\": \"algo-1\", \"Operation\": \"training\", \"Algorithm\": \"AWS/DeepAR\"}, \"StartTime\": 1529620337.905703}\n",
      "\u001b[0m\n",
      "\u001b[31m#metrics {\"Metrics\": {\"model.score.time\": {\"count\": 1, \"max\": 9254.426956176758, \"sum\": 9254.426956176758, \"min\": 9254.426956176758}}, \"EndTime\": 1529620347.161405, \"Dimensions\": {\"Host\": \"algo-1\", \"Operation\": \"training\", \"Algorithm\": \"AWS/DeepAR\"}, \"StartTime\": 1529620337.907043}\n",
      "\u001b[0m\n",
      "\u001b[31m[06/21/2018 22:32:27 INFO 140337100830528] #test_score (algo-1, wQuantileLoss[0.7]): 0.0327601\u001b[0m\n",
      "\u001b[31m[06/21/2018 22:32:27 INFO 140337100830528] #test_score (algo-1, wQuantileLoss[0.6]): 0.0303733\u001b[0m\n",
      "\u001b[31m[06/21/2018 22:32:27 INFO 140337100830528] #test_score (algo-1, mean_wQuantileLoss): 0.0302107\u001b[0m\n",
      "\u001b[31m[06/21/2018 22:32:27 INFO 140337100830528] #test_score (algo-1, wQuantileLoss[0.1]): 0.0224294\u001b[0m\n",
      "\u001b[31m[06/21/2018 22:32:27 INFO 140337100830528] #test_score (algo-1, RMSE): 9.11701511459\u001b[0m\n",
      "\u001b[31m[06/21/2018 22:32:27 INFO 140337100830528] #test_score (algo-1, wQuantileLoss[0.3]): 0.0329707\u001b[0m\n",
      "\u001b[31m[06/21/2018 22:32:27 INFO 140337100830528] #test_score (algo-1, wQuantileLoss[0.9]): 0.0267005\u001b[0m\n",
      "\u001b[31m[06/21/2018 22:32:27 INFO 140337100830528] #test_score (algo-1, wQuantileLoss[0.2]): 0.0299798\u001b[0m\n",
      "\u001b[31m[06/21/2018 22:32:27 INFO 140337100830528] #test_score (algo-1, wQuantileLoss[0.8]): 0.0326847\u001b[0m\n",
      "\u001b[31m[06/21/2018 22:32:27 INFO 140337100830528] #test_score (algo-1, wQuantileLoss[0.5]): 0.0309075\u001b[0m\n",
      "\u001b[31m[06/21/2018 22:32:27 INFO 140337100830528] #test_score (algo-1, wQuantileLoss[0.4]): 0.0330908\u001b[0m\n",
      "\u001b[31m[06/21/2018 22:32:27 INFO 140337100830528] #quality_metric: host=algo-1, test mean_wQuantileLoss <loss>=0.0302107464522\u001b[0m\n",
      "\u001b[31m[06/21/2018 22:32:27 INFO 140337100830528] #quality_metric: host=algo-1, test RMSE <loss>=9.11701511459\u001b[0m\n",
      "\u001b[31m#metrics {\"Metrics\": {\"totaltime\": {\"count\": 1, \"max\": 113834.45906639099, \"sum\": 113834.45906639099, \"min\": 113834.45906639099}, \"setuptime\": {\"count\": 1, \"max\": 8.47005844116211, \"sum\": 8.47005844116211, \"min\": 8.47005844116211}}, \"EndTime\": 1529620347.585514, \"Dimensions\": {\"Host\": \"algo-1\", \"Operation\": \"training\", \"Algorithm\": \"AWS/DeepAR\"}, \"StartTime\": 1529620347.161478}\n",
      "\u001b[0m\n",
      "===== Job Complete =====\n",
      "Billable seconds: 227\n"
     ]
    }
   ],
   "source": [
    "data_channels = {\n",
    "    \"train\": \"s3://{}/train/\".format(s3_data_path),\n",
    "    \"test\": \"s3://{}/test/\".format(s3_data_path)\n",
    "}\n",
    "\n",
    "estimator.fit(inputs=data_channels)"
   ]
  },
  {
   "cell_type": "markdown",
   "metadata": {},
   "source": [
    "## Create endpoint and predictor\n",
    "Now that we have trained a model, we can use it to perform predictions by deploying it to an endpoint.\n",
    "\n",
    "Note: remember to delete the enpoint after running this experiment. A cell at the very bottom of this notebook will do that: make sure you run it at the end."
   ]
  },
  {
   "cell_type": "code",
   "execution_count": 31,
   "metadata": {},
   "outputs": [
    {
     "name": "stderr",
     "output_type": "stream",
     "text": [
      "INFO:sagemaker:Creating model with name: test-demo-deepar-2018-06-21-22-27-12-459\n",
      "INFO:sagemaker:Creating endpoint-config with name test-demo-deepar-2018-06-21-22-27-12-459\n",
      "INFO:sagemaker:Creating endpoint with name test-demo-deepar-2018-06-21-22-27-12-459\n"
     ]
    },
    {
     "name": "stdout",
     "output_type": "stream",
     "text": [
      "---------------------------------------------------------------!"
     ]
    }
   ],
   "source": [
    "job_name = estimator.latest_training_job.name\n",
    "\n",
    "endpoint_name = sagemaker_session.endpoint_from_job(\n",
    "    job_name=job_name,\n",
    "    initial_instance_count=1,\n",
    "    instance_type='ml.m4.xlarge',\n",
    "    deployment_image=image_name,\n",
    "    role=role\n",
    ")"
   ]
  },
  {
   "cell_type": "code",
   "execution_count": 32,
   "metadata": {},
   "outputs": [],
   "source": [
    "class DeepARPredictor(sagemaker.predictor.RealTimePredictor):\n",
    "\n",
    "    def set_prediction_parameters(self, freq, prediction_length):\n",
    "        \"\"\"Set the time frequency and prediction length parameters. This method **must** be called\n",
    "        before being able to use `predict`.\n",
    "        \n",
    "        Parameters:\n",
    "        freq -- string indicating the time frequency\n",
    "        prediction_length -- integer, number of predicted time points\n",
    "        \n",
    "        Return value: none.\n",
    "        \"\"\"\n",
    "        self.freq = freq\n",
    "        self.prediction_length = prediction_length\n",
    "        \n",
    "    def predict(self, ts, cat=None, encoding=\"utf-8\", num_samples=100, quantiles=[\"0.1\", \"0.5\", \"0.9\"]):\n",
    "        \"\"\"Requests the prediction of for the time series listed in `ts`, each with the (optional)\n",
    "        corresponding category listed in `cat`.\n",
    "        \n",
    "        Parameters:\n",
    "        ts -- list of `pandas.Series` objects, the time series to predict\n",
    "        cat -- list of integers (default: None)\n",
    "        encoding -- string, encoding to use for the request (default: \"utf-8\")\n",
    "        num_samples -- integer, number of samples to compute at prediction time (default: 100)\n",
    "        quantiles -- list of strings specifying the quantiles to compute (default: [\"0.1\", \"0.5\", \"0.9\"])\n",
    "        \n",
    "        Return value: list of `pandas.DataFrame` objects, each containing the predictions\n",
    "        \"\"\"\n",
    "        prediction_times = [x.index[-1]+1 for x in ts]\n",
    "        req = self.__encode_request(ts, cat, encoding, num_samples, quantiles)\n",
    "        res = super(DeepARPredictor, self).predict(req)\n",
    "        return self.__decode_response(res, prediction_times, encoding)\n",
    "    \n",
    "    def __encode_request(self, ts, cat, encoding, num_samples, quantiles):\n",
    "        instances = [series_to_obj(ts[k], cat[k] if cat else None) for k in range(len(ts))]\n",
    "        configuration = {\"num_samples\": num_samples, \"output_types\": [\"quantiles\"], \"quantiles\": quantiles}\n",
    "        http_request_data = {\"instances\": instances, \"configuration\": configuration}\n",
    "        return json.dumps(http_request_data).encode(encoding)\n",
    "    \n",
    "    def __decode_response(self, response, prediction_times, encoding):\n",
    "        response_data = json.loads(response.decode(encoding))\n",
    "        list_of_df = []\n",
    "        for k in range(len(prediction_times)):\n",
    "            prediction_index = pd.DatetimeIndex(start=prediction_times[k], freq=self.freq, periods=self.prediction_length)\n",
    "            list_of_df.append(pd.DataFrame(data=response_data['predictions'][k]['quantiles'], index=prediction_index))\n",
    "        return list_of_df"
   ]
  },
  {
   "cell_type": "code",
   "execution_count": 33,
   "metadata": {},
   "outputs": [],
   "source": [
    "predictor = DeepARPredictor(\n",
    "    endpoint=endpoint_name,\n",
    "    sagemaker_session=sagemaker_session,\n",
    "    content_type=\"application/json\"\n",
    ")\n",
    "predictor.set_prediction_parameters(freq, prediction_length)"
   ]
  },
  {
   "cell_type": "markdown",
   "metadata": {},
   "source": [
    "## Visualize Model Predictions"
   ]
  },
  {
   "cell_type": "code",
   "execution_count": 34,
   "metadata": {},
   "outputs": [],
   "source": [
    "new_time_series_training = []\n",
    "for ts in time_series_training:\n",
    "    new_time_series_training.append(ts.asfreq('T'))"
   ]
  },
  {
   "cell_type": "code",
   "execution_count": 35,
   "metadata": {},
   "outputs": [],
   "source": [
    "new_time_series_test = []\n",
    "for ts in time_series_test:\n",
    "    new_time_series_test.append(ts.asfreq('T'))\n",
    "\n"
   ]
  },
  {
   "cell_type": "code",
   "execution_count": 127,
   "metadata": {},
   "outputs": [],
   "source": [
    "# 2 max for memory (on my desktop)\n",
    "list_of_df  = predictor.predict(new_time_series_training[9:10]) # predicted forecast\n",
    "actual_data = new_time_series_test[9:10] # full data set"
   ]
  },
  {
   "cell_type": "code",
   "execution_count": 128,
   "metadata": {
    "scrolled": false
   },
   "outputs": [
    {
     "data": {
      "image/png": "[encoded data removed]",
      "text/plain": [
       "<Figure size 864x432 with 1 Axes>"
      ]
     },
     "metadata": {},
     "output_type": "display_data"
    }
   ],
   "source": [
    "for k in range(len(list_of_df)): \n",
    "    plt.figure(figsize=(12,6))\n",
    "    actual_data[k][-prediction_length-context_length:].plot(label='target')\n",
    "    p10 = list_of_df[k]['0.1'] \n",
    "    p90 = list_of_df[k]['0.9'] #set limits predictively\n",
    "    plt.fill_between(p10.index, p10, p90, color='y', alpha=0.5, label='80% confidence interval')\n",
    "    list_of_df[k]['0.5'].plot(label='prediction median') # set requests for capacity allocation \n",
    "    plt.title(\"DeepAR Model Predictions\", fontsize = 20)\n",
    "    plt.ylabel(\"CPU usage [MHz]\", fontsize = 20)\n",
    "    plt.xlabel(\"Time in Hours\", fontsize = 20)\n",
    "    plt.yticks(fontsize=14);\n",
    "    plt.xticks(fontsize=14);\n",
    "    plt.legend()\n",
    "    plt.show()"
   ]
  },
  {
   "cell_type": "markdown",
   "metadata": {},
   "source": [
    "# Calculate CPU usage saved\n",
    "Compare p90 to what was actually provisioned"
   ]
  },
  {
   "cell_type": "code",
   "execution_count": 129,
   "metadata": {},
   "outputs": [],
   "source": []
  },
  {
   "cell_type": "code",
   "execution_count": 99,
   "metadata": {},
   "outputs": [],
   "source": [
    "'''vm101_p90 = pd.DataFrame(p90)\n",
    "vm101_p90['VM'] = '101'\n",
    "vm101_p90.to_csv('vm101_p90.csv', sep = ',')\n",
    "\n",
    "\n",
    "vm102_p90 = pd.DataFrame(p90)\n",
    "vm102_p90['VM'] = '102'\n",
    "vm102_p90.to_csv('vm102_p90.csv', sep = ',')\n",
    "\n",
    "vm103_p90 = pd.DataFrame(p90)\n",
    "vm103_p90['VM'] = '103'\n",
    "vm103_p90.to_csv('vm103_p90.csv', sep = ',')\n",
    "\n",
    "\n",
    "vm104_p90 = pd.DataFrame(p90)\n",
    "vm104_p90['VM'] = '104'\n",
    "vm104_p90.to_csv('vm104_p90.csv', sep = ',')\n",
    "\n",
    "vm105_p90 = pd.DataFrame(p90)\n",
    "vm105_p90['VM'] = '105'\n",
    "vm105_p90.to_csv('vm105_p90.csv', sep = ',')\n",
    "\n",
    "vm106_p90 = pd.DataFrame(p90)\n",
    "vm106_p90['VM'] = '106'\n",
    "vm106_p90.to_csv('vm106_p90.csv', sep = ',')\n",
    "\n",
    "vm107_p90 = pd.DataFrame(p90)\n",
    "vm107_p90['VM'] = '107'\n",
    "vm107_p90.to_csv('vm107_p90.csv', sep = ',')\n",
    "\n",
    "vm11_p90 = pd.DataFrame(p90)\n",
    "vm11_p90['VM'] = '11'\n",
    "vm11_p90.to_csv('vm11_p90.csv', sep = ',')\n",
    "\n",
    "vm10_p90 = pd.DataFrame(p90)\n",
    "vm10_p90['VM'] = '10'\n",
    "vm10_p90.to_csv('vm10_p90.csv', sep = ',')\n",
    "\n",
    "vm1_p90 = pd.DataFrame(p90)\n",
    "vm1_p90['VM'] = '1'\n",
    "vm1_p90.to_csv('vm1_p90.csv', sep = ',')\n",
    "\n",
    "vm111_p90 = pd.DataFrame(p90)\n",
    "vm111_p90['VM'] = '111'\n",
    "vm111_p90.to_csv('vm111_p90.csv', sep = ',')\n",
    "\n",
    "'''"
   ]
  },
  {
   "cell_type": "markdown",
   "metadata": {},
   "source": [
    "two paths:\n",
    "1. iterating and improving model fit\n",
    "    - try to get it to full data set- as big as possible \n",
    "    - get test metric !!! - if large enough use RMSE\n",
    "    - use model to make predictions (hold out data or ?)\n",
    "    \n",
    "    \n",
    "2. look at p90- upper bound in graph = max capacity set in real time, cost calc between this and actual capacity that was provisioned, \n",
    "\n",
    "3. extra: try to get in hyperparameter tuning \n",
    "\n",
    "4. put final cleaned up notebook\n",
    "\n",
    "5. accessing data and documentation MAKE CLEAR notes on "
   ]
  },
  {
   "cell_type": "markdown",
   "metadata": {},
   "source": [
    "Best Model before Tuning\n",
    "\n",
    "[06/21/2018 04:01:21 INFO 140419976746816] #quality_metric: host=algo-1, test RMSE <loss>=7.21890483211\n",
    "#metrics {\"Metrics\": {\"totaltime\": {\"count\": 1, \"max\": 121637.42303848267, \"sum\": 121637.42303848267, \"min\": 121637.42303848267}, \"setuptime\": {\"count\": 1, \"max\": 8.651018142700195, \"sum\": 8.651018142700195, \"min\": 8.651018142700195}}, \"EndTime\": 1529553682.117442, \"Dimensions\": {\"Host\": \"algo-1\", \"Operation\": \"training\", \"Algorithm\": \"AWS/DeepAR\"}, \"StartTime\": 1529553681.585015}"
   ]
  },
  {
   "cell_type": "markdown",
   "metadata": {},
   "source": [
    "## Created hyperparameter tuning job on the GUI (which now fails),  attempting to do with code below. \n",
    "\n",
    "So far, no examples of full hyperparameter tuning code available, that I have found at least."
   ]
  },
  {
   "cell_type": "code",
   "execution_count": 176,
   "metadata": {},
   "outputs": [],
   "source": [
    "s3_input_train = 's3://{}/{}/data/train'.format(bucket, prefix)\n",
    "s3_input_test= 's3://{}/{}/data/test'.format(bucket, prefix)\n",
    "training_image = containers[region]"
   ]
  },
  {
   "cell_type": "code",
   "execution_count": 182,
   "metadata": {},
   "outputs": [
    {
     "data": {
      "text/plain": [
       "'s3://sagemaker-testtimeseries/sagemaker/test-moredat/data/train'"
      ]
     },
     "execution_count": 182,
     "metadata": {},
     "output_type": "execute_result"
    }
   ],
   "source": [
    "s3_input_train"
   ]
  },
  {
   "cell_type": "code",
   "execution_count": 177,
   "metadata": {},
   "outputs": [],
   "source": [
    "HyperParameterTuningJobConfig={\n",
    "        'Strategy': 'Bayesian',\n",
    "        'HyperParameterTuningJobObjective': {\n",
    "            'Type': 'Minimize',\n",
    "            'MetricName': 'test:RMSE'\n",
    "        },\n",
    "        'ResourceLimits': {\n",
    "            'MaxNumberOfTrainingJobs': 50,\n",
    "            'MaxParallelTrainingJobs': 3\n",
    "        },\n",
    "        'ParameterRanges': {\n",
    "            'IntegerParameterRanges': [\n",
    "                {\n",
    "                    'Name': 'mini_batch_size',\n",
    "                    'MinValue': '32',\n",
    "                    'MaxValue': '50'\n",
    "                },\n",
    "                {\n",
    "                    'Name': 'epochs',\n",
    "                    'MinValue': '32',\n",
    "                    'MaxValue': '50'\n",
    "                },\n",
    "                {\n",
    "                    'Name': 'context_length',\n",
    "                    'MinValue': '20',\n",
    "                    'MaxValue': '50'\n",
    "                },            \n",
    "                {\n",
    "                    'Name': 'num_cells',\n",
    "                    'MinValue': '30',\n",
    "                    'MaxValue': '70'\n",
    "                },            \n",
    "                {\n",
    "                    'Name': 'num_layers',\n",
    "                    'MinValue': '1',\n",
    "                    'MaxValue': '5'\n",
    "                },                  \n",
    "            \n",
    "            ],\n",
    "            'ContinuousParameterRanges': [\n",
    "                {\n",
    "                    'Name': 'dropout_rate',\n",
    "                    'MinValue': '0.00',\n",
    "                    'MaxValue': '0.2'\n",
    "                },\n",
    "                {\n",
    "                    'Name': 'learning_rate',\n",
    "                    'MinValue': '0.0001',\n",
    "                    'MaxValue': '0.01'\n",
    "                }\n",
    "            \n",
    "            ]\n",
    "            \n",
    "        }\n",
    "    }\n",
    "TrainingJobDefinition={\n",
    "        'AlgorithmSpecification': {\n",
    "            'TrainingImage': training_image,\n",
    "            'TrainingInputMode': 'File',\n",
    "            \n",
    "        },\n",
    "        'RoleArn': role,\n",
    "        'StaticHyperParameters': [{\n",
    "            \"prediction_length\": '50',\n",
    "            \"time_freq\": 'min',\n",
    "            \"test_quantiles\": '[0.5, 0.9]'\n",
    "#            \"_tuning_objective_metric\": 'test:RMSE'\n",
    "        }],\n",
    "        'InputDataConfig': [\n",
    "            {\n",
    "                'ChannelName': 'train',\n",
    "                'DataSource': {\n",
    "                    'S3DataSource': {\n",
    "                        'S3DataType': 'S3Prefix',\n",
    "                        'S3Uri': s3_input_train,\n",
    "                        'S3DataDistributionType': 'FullyReplicated'\n",
    "                    }\n",
    "                },\n",
    "                'ContentType': 'json',\n",
    "                'CompressionType': 'None',\n",
    "                'RecordWrapperType': 'None'\n",
    "            ,\n",
    "                \n",
    "            'ChannelName': 'test',\n",
    "                'DataSource': {\n",
    "                    'S3DataSource': {\n",
    "                        'S3DataType': 'S3Prefix',\n",
    "                        'S3Uri': s3_input_test,\n",
    "                        'S3DataDistributionType': 'FullyReplicated'\n",
    "                    }\n",
    "                },\n",
    "                'ContentType': 'json',\n",
    "                'CompressionType': 'None',\n",
    "                'RecordWrapperType': 'None'\n",
    "\n",
    "            }\n",
    "        ],\n",
    "\n",
    "        'OutputDataConfig': {\n",
    "            \"S3OutputPath\": \"s3://{}/{}/output\".format(bucket,prefix)\n",
    "        },\n",
    "        'ResourceConfig': {\n",
    "            'InstanceType': 'ml.m4.xlarge',\n",
    "            'InstanceCount': 1,\n",
    "            'VolumeSizeInGB': 1,\n",
    "        },\n",
    "    'StoppingCondition': {\n",
    "            'MaxRuntimeInSeconds': 86400\n",
    "        }\n",
    "        \n",
    "}"
   ]
  },
  {
   "cell_type": "code",
   "execution_count": null,
   "metadata": {},
   "outputs": [],
   "source": []
  },
  {
   "cell_type": "code",
   "execution_count": 179,
   "metadata": {},
   "outputs": [
    {
     "data": {
      "text/plain": [
       "{'HyperParameterTuningJobArn': 'arn:aws:sagemaker:us-west-2:945416147148:hyper-parameter-tuning-job/tuning11',\n",
       " 'ResponseMetadata': {'RequestId': 'c94d49f8-6a3b-48eb-a612-7df60616ab1d',\n",
       "  'HTTPStatusCode': 200,\n",
       "  'HTTPHeaders': {'content-type': 'application/x-amz-json-1.1',\n",
       "   'date': 'Thu, 21 Jun 2018 19:48:04 GMT',\n",
       "   'x-amzn-requestid': 'c94d49f8-6a3b-48eb-a612-7df60616ab1d',\n",
       "   'content-length': '109',\n",
       "   'connection': 'keep-alive'},\n",
       "  'RetryAttempts': 0}}"
      ]
     },
     "execution_count": 179,
     "metadata": {},
     "output_type": "execute_result"
    }
   ],
   "source": [
    "smclient.create_hyper_parameter_tuning_job(HyperParameterTuningJobName = 'tuning11',\n",
    "                                            HyperParameterTuningJobConfig = HyperParameterTuningJobConfig,\n",
    "                                            TrainingJobDefinition = TrainingJobDefinition1)\n"
   ]
  },
  {
   "cell_type": "markdown",
   "metadata": {},
   "source": [
    "### Query a trained model by using the model's endpoint. The endpoint takes the following JSON request format."
   ]
  },
  {
   "cell_type": "markdown",
   "metadata": {},
   "source": [
    "# making predictions"
   ]
  },
  {
   "cell_type": "code",
   "execution_count": null,
   "metadata": {},
   "outputs": [],
   "source": [
    "job_name = estimator.latest_training_job.name\n",
    "\n",
    "endpoint_name = sagemaker_session.endpoint_from_job(\n",
    "    job_name=job_name,\n",
    "    initial_instance_count=1,\n",
    "    instance_type='ml.m4.xlarge',\n",
    "    deployment_image=image_name,\n",
    "    role=role\n",
    ")\n",
    "\n",
    "predictor = sagemaker.predictor.RealTimePredictor(\n",
    "    endpoint_name, \n",
    "    sagemaker_session=sagemaker_session, \n",
    "    content_type=\"application/json\")\n",
    "\n",
    "\n"
   ]
  },
  {
   "cell_type": "code",
   "execution_count": null,
   "metadata": {},
   "outputs": [],
   "source": [
    "q1 = '0.1'         # compute p10 quantile\n",
    "q2 = '0.9'         # compute p90 quantile\n",
    "num_samples = 100  # predict 100 sample series\n",
    "    \n",
    "def buildPredictionData(year, data):\n",
    "    year_temps = data[str(year)]\n",
    "    s = {\"start\": \"{}-01-01 00:00:00\".format(year), \"target\": year_temps}\n",
    "    series = []\n",
    "    series.append(s)\n",
    "    configuration = {\n",
    "        \"output_types\": [\"mean\", \"quantiles\", \"samples\"],\n",
    "        \"num_samples\": num_samples,\n",
    "        \"quantiles\": [q1, q2]\n",
    "    }\n",
    "    http_data = {\n",
    "        \"instances\": series, \n",
    "        \"configuration\": configuration\n",
    "    }\n",
    "    return json.dumps(http_data)\n"
   ]
  },
  {
   "cell_type": "code",
   "execution_count": 61,
   "metadata": {},
   "outputs": [
    {
     "data": {
      "text/plain": [
       "{'instances': [{'start': '2009-11-01 00:00:00',\n",
       "   'target': [4.0, 10.0, 50.0, 100.0, 113.0],\n",
       "   'cat': 0},\n",
       "  {'start': '2012-01-30', 'target': [1.0], 'cat': 2},\n",
       "  {'start': '1999-01-30', 'target': [2.0, 1.0], 'cat': 1}],\n",
       " 'configuration': {'num_samples': 50,\n",
       "  'output_types': ['mean', 'quantiles', 'samples'],\n",
       "  'quantiles': ['0.5', '0.9']}}"
      ]
     },
     "execution_count": 61,
     "metadata": {},
     "output_type": "execute_result"
    }
   ],
   "source": [
    "\n",
    "{\n",
    " \"instances\": [\n",
    "  { \"start\": \"2009-11-01 00:00:00\", \"target\": [4.0, 10.0, 50.0, 100.0, 113.0], \"cat\": 0},\n",
    "  { \"start\": \"2012-01-30\", \"target\": [1.0], \"cat\": 2 },\n",
    "  { \"start\": \"1999-01-30\", \"target\": [2.0, 1.0], \"cat\": 1 }\n",
    " ],\n",
    " \"configuration\": {\n",
    "  \"num_samples\": 50,\n",
    "  \"output_types\": [\"mean\", \"quantiles\", \"samples\"],\n",
    "  \"quantiles\": [\"0.5\", \"0.9\"]\n",
    " }\n",
    "}"
   ]
  },
  {
   "cell_type": "code",
   "execution_count": null,
   "metadata": {},
   "outputs": [],
   "source": [
    "sagemaker_session.delete_endpoint(endpoint_name)"
   ]
  },
  {
   "cell_type": "code",
   "execution_count": null,
   "metadata": {},
   "outputs": [],
   "source": []
  },
  {
   "cell_type": "code",
   "execution_count": null,
   "metadata": {},
   "outputs": [],
   "source": []
  }
 ],
 "metadata": {
  "kernelspec": {
   "display_name": "Python 3",
   "language": "python",
   "name": "python3"
  },
  "language_info": {
   "codemirror_mode": {
    "name": "ipython",
    "version": 3
   },
   "file_extension": ".py",
   "mimetype": "text/x-python",
   "name": "python",
   "nbconvert_exporter": "python",
   "pygments_lexer": "ipython3",
   "version": "3.6.4"
  },
  "notice": "Copyright 2017 Amazon.com, Inc. or its affiliates. All Rights Reserved.  Licensed under the Apache License, Version 2.0 (the \"License\"). You may not use this file except in compliance with the License. A copy of the License is located at http://aws.amazon.com/apache2.0/ or in the \"license\" file accompanying this file. This file is distributed on an \"AS IS\" BASIS, WITHOUT WARRANTIES OR CONDITIONS OF ANY KIND, either express or implied. See the License for the specific language governing permissions and limitations under the License."
 },
 "nbformat": 4,
 "nbformat_minor": 2
}
